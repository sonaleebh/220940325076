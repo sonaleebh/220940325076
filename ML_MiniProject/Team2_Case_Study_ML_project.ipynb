{
  "cells": [
    {
      "cell_type": "code",
      "execution_count": 553,
      "metadata": {
        "id": "CIoUA4776Nit"
      },
      "outputs": [],
      "source": [
        "import numpy as np\n",
        "import pandas as pd\n",
        "import matplotlib.pyplot as plt"
      ]
    },
    {
      "cell_type": "code",
      "execution_count": 554,
      "metadata": {
        "id": "vLpn7uHt6a_k"
      },
      "outputs": [],
      "source": [
        "dataset=pd.read_csv('Leads.csv')"
      ]
    },
    {
      "cell_type": "code",
      "execution_count": 555,
      "metadata": {
        "id": "g28vEPW56pxg",
        "colab": {
          "base_uri": "https://localhost:8080/",
          "height": 629
        },
        "outputId": "965c8d46-927c-4f63-d8cf-57b18794afc4"
      },
      "outputs": [
        {
          "output_type": "execute_result",
          "data": {
            "text/plain": [
              "                            Prospect ID  Lead Number              Lead Origin  \\\n",
              "0  7927b2df-8bba-4d29-b9a2-b6e0beafe620       660737                      API   \n",
              "1  2a272436-5132-4136-86fa-dcc88c88f482       660728                      API   \n",
              "2  8cc8c611-a219-4f35-ad23-fdfd2656bd8a       660727  Landing Page Submission   \n",
              "3  0cc2df48-7cf4-4e39-9de9-19797f9b38cc       660719  Landing Page Submission   \n",
              "4  3256f628-e534-4826-9d63-4a8b88782852       660681  Landing Page Submission   \n",
              "\n",
              "      Lead Source Do Not Email Do Not Call  Converted  TotalVisits  \\\n",
              "0      Olark Chat           No          No          0          0.0   \n",
              "1  Organic Search           No          No          0          5.0   \n",
              "2  Direct Traffic           No          No          1          2.0   \n",
              "3  Direct Traffic           No          No          0          1.0   \n",
              "4          Google           No          No          1          2.0   \n",
              "\n",
              "   Total Time Spent on Website  Page Views Per Visit  ...  \\\n",
              "0                            0                   0.0  ...   \n",
              "1                          674                   2.5  ...   \n",
              "2                         1532                   2.0  ...   \n",
              "3                          305                   1.0  ...   \n",
              "4                         1428                   1.0  ...   \n",
              "\n",
              "  Get updates on DM Content    Lead Profile    City  \\\n",
              "0                        No          Select  Select   \n",
              "1                        No          Select  Select   \n",
              "2                        No  Potential Lead  Mumbai   \n",
              "3                        No          Select  Mumbai   \n",
              "4                        No          Select  Mumbai   \n",
              "\n",
              "  Asymmetrique Activity Index Asymmetrique Profile Index  \\\n",
              "0                   02.Medium                  02.Medium   \n",
              "1                   02.Medium                  02.Medium   \n",
              "2                   02.Medium                    01.High   \n",
              "3                   02.Medium                    01.High   \n",
              "4                   02.Medium                    01.High   \n",
              "\n",
              "  Asymmetrique Activity Score Asymmetrique Profile Score  \\\n",
              "0                        15.0                       15.0   \n",
              "1                        15.0                       15.0   \n",
              "2                        14.0                       20.0   \n",
              "3                        13.0                       17.0   \n",
              "4                        15.0                       18.0   \n",
              "\n",
              "  I agree to pay the amount through cheque  \\\n",
              "0                                       No   \n",
              "1                                       No   \n",
              "2                                       No   \n",
              "3                                       No   \n",
              "4                                       No   \n",
              "\n",
              "  A free copy of Mastering The Interview Last Notable Activity  \n",
              "0                                     No              Modified  \n",
              "1                                     No          Email Opened  \n",
              "2                                    Yes          Email Opened  \n",
              "3                                     No              Modified  \n",
              "4                                     No              Modified  \n",
              "\n",
              "[5 rows x 37 columns]"
            ],
            "text/html": [
              "\n",
              "  <div id=\"df-613fde63-8580-4fdc-abae-9d6849bc99ce\">\n",
              "    <div class=\"colab-df-container\">\n",
              "      <div>\n",
              "<style scoped>\n",
              "    .dataframe tbody tr th:only-of-type {\n",
              "        vertical-align: middle;\n",
              "    }\n",
              "\n",
              "    .dataframe tbody tr th {\n",
              "        vertical-align: top;\n",
              "    }\n",
              "\n",
              "    .dataframe thead th {\n",
              "        text-align: right;\n",
              "    }\n",
              "</style>\n",
              "<table border=\"1\" class=\"dataframe\">\n",
              "  <thead>\n",
              "    <tr style=\"text-align: right;\">\n",
              "      <th></th>\n",
              "      <th>Prospect ID</th>\n",
              "      <th>Lead Number</th>\n",
              "      <th>Lead Origin</th>\n",
              "      <th>Lead Source</th>\n",
              "      <th>Do Not Email</th>\n",
              "      <th>Do Not Call</th>\n",
              "      <th>Converted</th>\n",
              "      <th>TotalVisits</th>\n",
              "      <th>Total Time Spent on Website</th>\n",
              "      <th>Page Views Per Visit</th>\n",
              "      <th>...</th>\n",
              "      <th>Get updates on DM Content</th>\n",
              "      <th>Lead Profile</th>\n",
              "      <th>City</th>\n",
              "      <th>Asymmetrique Activity Index</th>\n",
              "      <th>Asymmetrique Profile Index</th>\n",
              "      <th>Asymmetrique Activity Score</th>\n",
              "      <th>Asymmetrique Profile Score</th>\n",
              "      <th>I agree to pay the amount through cheque</th>\n",
              "      <th>A free copy of Mastering The Interview</th>\n",
              "      <th>Last Notable Activity</th>\n",
              "    </tr>\n",
              "  </thead>\n",
              "  <tbody>\n",
              "    <tr>\n",
              "      <th>0</th>\n",
              "      <td>7927b2df-8bba-4d29-b9a2-b6e0beafe620</td>\n",
              "      <td>660737</td>\n",
              "      <td>API</td>\n",
              "      <td>Olark Chat</td>\n",
              "      <td>No</td>\n",
              "      <td>No</td>\n",
              "      <td>0</td>\n",
              "      <td>0.0</td>\n",
              "      <td>0</td>\n",
              "      <td>0.0</td>\n",
              "      <td>...</td>\n",
              "      <td>No</td>\n",
              "      <td>Select</td>\n",
              "      <td>Select</td>\n",
              "      <td>02.Medium</td>\n",
              "      <td>02.Medium</td>\n",
              "      <td>15.0</td>\n",
              "      <td>15.0</td>\n",
              "      <td>No</td>\n",
              "      <td>No</td>\n",
              "      <td>Modified</td>\n",
              "    </tr>\n",
              "    <tr>\n",
              "      <th>1</th>\n",
              "      <td>2a272436-5132-4136-86fa-dcc88c88f482</td>\n",
              "      <td>660728</td>\n",
              "      <td>API</td>\n",
              "      <td>Organic Search</td>\n",
              "      <td>No</td>\n",
              "      <td>No</td>\n",
              "      <td>0</td>\n",
              "      <td>5.0</td>\n",
              "      <td>674</td>\n",
              "      <td>2.5</td>\n",
              "      <td>...</td>\n",
              "      <td>No</td>\n",
              "      <td>Select</td>\n",
              "      <td>Select</td>\n",
              "      <td>02.Medium</td>\n",
              "      <td>02.Medium</td>\n",
              "      <td>15.0</td>\n",
              "      <td>15.0</td>\n",
              "      <td>No</td>\n",
              "      <td>No</td>\n",
              "      <td>Email Opened</td>\n",
              "    </tr>\n",
              "    <tr>\n",
              "      <th>2</th>\n",
              "      <td>8cc8c611-a219-4f35-ad23-fdfd2656bd8a</td>\n",
              "      <td>660727</td>\n",
              "      <td>Landing Page Submission</td>\n",
              "      <td>Direct Traffic</td>\n",
              "      <td>No</td>\n",
              "      <td>No</td>\n",
              "      <td>1</td>\n",
              "      <td>2.0</td>\n",
              "      <td>1532</td>\n",
              "      <td>2.0</td>\n",
              "      <td>...</td>\n",
              "      <td>No</td>\n",
              "      <td>Potential Lead</td>\n",
              "      <td>Mumbai</td>\n",
              "      <td>02.Medium</td>\n",
              "      <td>01.High</td>\n",
              "      <td>14.0</td>\n",
              "      <td>20.0</td>\n",
              "      <td>No</td>\n",
              "      <td>Yes</td>\n",
              "      <td>Email Opened</td>\n",
              "    </tr>\n",
              "    <tr>\n",
              "      <th>3</th>\n",
              "      <td>0cc2df48-7cf4-4e39-9de9-19797f9b38cc</td>\n",
              "      <td>660719</td>\n",
              "      <td>Landing Page Submission</td>\n",
              "      <td>Direct Traffic</td>\n",
              "      <td>No</td>\n",
              "      <td>No</td>\n",
              "      <td>0</td>\n",
              "      <td>1.0</td>\n",
              "      <td>305</td>\n",
              "      <td>1.0</td>\n",
              "      <td>...</td>\n",
              "      <td>No</td>\n",
              "      <td>Select</td>\n",
              "      <td>Mumbai</td>\n",
              "      <td>02.Medium</td>\n",
              "      <td>01.High</td>\n",
              "      <td>13.0</td>\n",
              "      <td>17.0</td>\n",
              "      <td>No</td>\n",
              "      <td>No</td>\n",
              "      <td>Modified</td>\n",
              "    </tr>\n",
              "    <tr>\n",
              "      <th>4</th>\n",
              "      <td>3256f628-e534-4826-9d63-4a8b88782852</td>\n",
              "      <td>660681</td>\n",
              "      <td>Landing Page Submission</td>\n",
              "      <td>Google</td>\n",
              "      <td>No</td>\n",
              "      <td>No</td>\n",
              "      <td>1</td>\n",
              "      <td>2.0</td>\n",
              "      <td>1428</td>\n",
              "      <td>1.0</td>\n",
              "      <td>...</td>\n",
              "      <td>No</td>\n",
              "      <td>Select</td>\n",
              "      <td>Mumbai</td>\n",
              "      <td>02.Medium</td>\n",
              "      <td>01.High</td>\n",
              "      <td>15.0</td>\n",
              "      <td>18.0</td>\n",
              "      <td>No</td>\n",
              "      <td>No</td>\n",
              "      <td>Modified</td>\n",
              "    </tr>\n",
              "  </tbody>\n",
              "</table>\n",
              "<p>5 rows × 37 columns</p>\n",
              "</div>\n",
              "      <button class=\"colab-df-convert\" onclick=\"convertToInteractive('df-613fde63-8580-4fdc-abae-9d6849bc99ce')\"\n",
              "              title=\"Convert this dataframe to an interactive table.\"\n",
              "              style=\"display:none;\">\n",
              "        \n",
              "  <svg xmlns=\"http://www.w3.org/2000/svg\" height=\"24px\"viewBox=\"0 0 24 24\"\n",
              "       width=\"24px\">\n",
              "    <path d=\"M0 0h24v24H0V0z\" fill=\"none\"/>\n",
              "    <path d=\"M18.56 5.44l.94 2.06.94-2.06 2.06-.94-2.06-.94-.94-2.06-.94 2.06-2.06.94zm-11 1L8.5 8.5l.94-2.06 2.06-.94-2.06-.94L8.5 2.5l-.94 2.06-2.06.94zm10 10l.94 2.06.94-2.06 2.06-.94-2.06-.94-.94-2.06-.94 2.06-2.06.94z\"/><path d=\"M17.41 7.96l-1.37-1.37c-.4-.4-.92-.59-1.43-.59-.52 0-1.04.2-1.43.59L10.3 9.45l-7.72 7.72c-.78.78-.78 2.05 0 2.83L4 21.41c.39.39.9.59 1.41.59.51 0 1.02-.2 1.41-.59l7.78-7.78 2.81-2.81c.8-.78.8-2.07 0-2.86zM5.41 20L4 18.59l7.72-7.72 1.47 1.35L5.41 20z\"/>\n",
              "  </svg>\n",
              "      </button>\n",
              "      \n",
              "  <style>\n",
              "    .colab-df-container {\n",
              "      display:flex;\n",
              "      flex-wrap:wrap;\n",
              "      gap: 12px;\n",
              "    }\n",
              "\n",
              "    .colab-df-convert {\n",
              "      background-color: #E8F0FE;\n",
              "      border: none;\n",
              "      border-radius: 50%;\n",
              "      cursor: pointer;\n",
              "      display: none;\n",
              "      fill: #1967D2;\n",
              "      height: 32px;\n",
              "      padding: 0 0 0 0;\n",
              "      width: 32px;\n",
              "    }\n",
              "\n",
              "    .colab-df-convert:hover {\n",
              "      background-color: #E2EBFA;\n",
              "      box-shadow: 0px 1px 2px rgba(60, 64, 67, 0.3), 0px 1px 3px 1px rgba(60, 64, 67, 0.15);\n",
              "      fill: #174EA6;\n",
              "    }\n",
              "\n",
              "    [theme=dark] .colab-df-convert {\n",
              "      background-color: #3B4455;\n",
              "      fill: #D2E3FC;\n",
              "    }\n",
              "\n",
              "    [theme=dark] .colab-df-convert:hover {\n",
              "      background-color: #434B5C;\n",
              "      box-shadow: 0px 1px 3px 1px rgba(0, 0, 0, 0.15);\n",
              "      filter: drop-shadow(0px 1px 2px rgba(0, 0, 0, 0.3));\n",
              "      fill: #FFFFFF;\n",
              "    }\n",
              "  </style>\n",
              "\n",
              "      <script>\n",
              "        const buttonEl =\n",
              "          document.querySelector('#df-613fde63-8580-4fdc-abae-9d6849bc99ce button.colab-df-convert');\n",
              "        buttonEl.style.display =\n",
              "          google.colab.kernel.accessAllowed ? 'block' : 'none';\n",
              "\n",
              "        async function convertToInteractive(key) {\n",
              "          const element = document.querySelector('#df-613fde63-8580-4fdc-abae-9d6849bc99ce');\n",
              "          const dataTable =\n",
              "            await google.colab.kernel.invokeFunction('convertToInteractive',\n",
              "                                                     [key], {});\n",
              "          if (!dataTable) return;\n",
              "\n",
              "          const docLinkHtml = 'Like what you see? Visit the ' +\n",
              "            '<a target=\"_blank\" href=https://colab.research.google.com/notebooks/data_table.ipynb>data table notebook</a>'\n",
              "            + ' to learn more about interactive tables.';\n",
              "          element.innerHTML = '';\n",
              "          dataTable['output_type'] = 'display_data';\n",
              "          await google.colab.output.renderOutput(dataTable, element);\n",
              "          const docLink = document.createElement('div');\n",
              "          docLink.innerHTML = docLinkHtml;\n",
              "          element.appendChild(docLink);\n",
              "        }\n",
              "      </script>\n",
              "    </div>\n",
              "  </div>\n",
              "  "
            ]
          },
          "metadata": {},
          "execution_count": 555
        }
      ],
      "source": [
        "dataset.head()"
      ]
    },
    {
      "cell_type": "code",
      "execution_count": 556,
      "metadata": {
        "id": "Oo3dVZUa6r99",
        "colab": {
          "base_uri": "https://localhost:8080/"
        },
        "outputId": "eabf83f4-2874-4bd5-fe65-59a0d56801af"
      },
      "outputs": [
        {
          "output_type": "execute_result",
          "data": {
            "text/plain": [
              "(9240, 37)"
            ]
          },
          "metadata": {},
          "execution_count": 556
        }
      ],
      "source": [
        "#Checking shape of the dataset\n",
        "dataset.shape"
      ]
    },
    {
      "cell_type": "code",
      "execution_count": 557,
      "metadata": {
        "id": "6MGup-qb_2po",
        "colab": {
          "base_uri": "https://localhost:8080/"
        },
        "outputId": "7cbdec5b-c695-4a4b-eae1-6497b9273df2"
      },
      "outputs": [
        {
          "output_type": "stream",
          "name": "stdout",
          "text": [
            "<class 'pandas.core.frame.DataFrame'>\n",
            "RangeIndex: 9240 entries, 0 to 9239\n",
            "Data columns (total 37 columns):\n",
            " #   Column                                         Non-Null Count  Dtype  \n",
            "---  ------                                         --------------  -----  \n",
            " 0   Prospect ID                                    9240 non-null   object \n",
            " 1   Lead Number                                    9240 non-null   int64  \n",
            " 2   Lead Origin                                    9240 non-null   object \n",
            " 3   Lead Source                                    9204 non-null   object \n",
            " 4   Do Not Email                                   9240 non-null   object \n",
            " 5   Do Not Call                                    9240 non-null   object \n",
            " 6   Converted                                      9240 non-null   int64  \n",
            " 7   TotalVisits                                    9103 non-null   float64\n",
            " 8   Total Time Spent on Website                    9240 non-null   int64  \n",
            " 9   Page Views Per Visit                           9103 non-null   float64\n",
            " 10  Last Activity                                  9137 non-null   object \n",
            " 11  Country                                        6779 non-null   object \n",
            " 12  Specialization                                 7802 non-null   object \n",
            " 13  How did you hear about X Education             7033 non-null   object \n",
            " 14  What is your current occupation                6550 non-null   object \n",
            " 15  What matters most to you in choosing a course  6531 non-null   object \n",
            " 16  Search                                         9240 non-null   object \n",
            " 17  Magazine                                       9240 non-null   object \n",
            " 18  Newspaper Article                              9240 non-null   object \n",
            " 19  X Education Forums                             9240 non-null   object \n",
            " 20  Newspaper                                      9240 non-null   object \n",
            " 21  Digital Advertisement                          9240 non-null   object \n",
            " 22  Through Recommendations                        9240 non-null   object \n",
            " 23  Receive More Updates About Our Courses         9240 non-null   object \n",
            " 24  Tags                                           5887 non-null   object \n",
            " 25  Lead Quality                                   4473 non-null   object \n",
            " 26  Update me on Supply Chain Content              9240 non-null   object \n",
            " 27  Get updates on DM Content                      9240 non-null   object \n",
            " 28  Lead Profile                                   6531 non-null   object \n",
            " 29  City                                           7820 non-null   object \n",
            " 30  Asymmetrique Activity Index                    5022 non-null   object \n",
            " 31  Asymmetrique Profile Index                     5022 non-null   object \n",
            " 32  Asymmetrique Activity Score                    5022 non-null   float64\n",
            " 33  Asymmetrique Profile Score                     5022 non-null   float64\n",
            " 34  I agree to pay the amount through cheque       9240 non-null   object \n",
            " 35  A free copy of Mastering The Interview         9240 non-null   object \n",
            " 36  Last Notable Activity                          9240 non-null   object \n",
            "dtypes: float64(4), int64(3), object(30)\n",
            "memory usage: 2.6+ MB\n"
          ]
        }
      ],
      "source": [
        "#checking columns datatypes\n",
        "dataset.info()"
      ]
    },
    {
      "cell_type": "code",
      "execution_count": 558,
      "metadata": {
        "id": "urLEE5DI_5pS",
        "colab": {
          "base_uri": "https://localhost:8080/"
        },
        "outputId": "85a03570-e6f4-4d5c-d8c7-2a1af7d39c81"
      },
      "outputs": [
        {
          "output_type": "execute_result",
          "data": {
            "text/plain": [
              "Prospect ID                                         0\n",
              "Lead Number                                         0\n",
              "Lead Origin                                         0\n",
              "Lead Source                                        36\n",
              "Do Not Email                                        0\n",
              "Do Not Call                                         0\n",
              "Converted                                           0\n",
              "TotalVisits                                       137\n",
              "Total Time Spent on Website                         0\n",
              "Page Views Per Visit                              137\n",
              "Last Activity                                     103\n",
              "Country                                          2461\n",
              "Specialization                                   1438\n",
              "How did you hear about X Education               2207\n",
              "What is your current occupation                  2690\n",
              "What matters most to you in choosing a course    2709\n",
              "Search                                              0\n",
              "Magazine                                            0\n",
              "Newspaper Article                                   0\n",
              "X Education Forums                                  0\n",
              "Newspaper                                           0\n",
              "Digital Advertisement                               0\n",
              "Through Recommendations                             0\n",
              "Receive More Updates About Our Courses              0\n",
              "Tags                                             3353\n",
              "Lead Quality                                     4767\n",
              "Update me on Supply Chain Content                   0\n",
              "Get updates on DM Content                           0\n",
              "Lead Profile                                     2709\n",
              "City                                             1420\n",
              "Asymmetrique Activity Index                      4218\n",
              "Asymmetrique Profile Index                       4218\n",
              "Asymmetrique Activity Score                      4218\n",
              "Asymmetrique Profile Score                       4218\n",
              "I agree to pay the amount through cheque            0\n",
              "A free copy of Mastering The Interview              0\n",
              "Last Notable Activity                               0\n",
              "dtype: int64"
            ]
          },
          "metadata": {},
          "execution_count": 558
        }
      ],
      "source": [
        "#Checking null value counts\n",
        "dataset.isnull().sum()"
      ]
    },
    {
      "cell_type": "code",
      "execution_count": 559,
      "metadata": {
        "id": "qkX-WBsiAB9Y",
        "colab": {
          "base_uri": "https://localhost:8080/",
          "height": 361
        },
        "outputId": "cdad7331-9256-46f3-8894-57a97e7927bc"
      },
      "outputs": [
        {
          "output_type": "execute_result",
          "data": {
            "text/plain": [
              "         Lead Number    Converted  TotalVisits  Total Time Spent on Website  \\\n",
              "count    9240.000000  9240.000000  9103.000000                  9240.000000   \n",
              "mean   617188.435606     0.385390     3.445238                   487.698268   \n",
              "std     23405.995698     0.486714     4.854853                   548.021466   \n",
              "min    579533.000000     0.000000     0.000000                     0.000000   \n",
              "25%    596484.500000     0.000000     1.000000                    12.000000   \n",
              "50%    615479.000000     0.000000     3.000000                   248.000000   \n",
              "75%    637387.250000     1.000000     5.000000                   936.000000   \n",
              "max    660737.000000     1.000000   251.000000                  2272.000000   \n",
              "\n",
              "       Page Views Per Visit  Asymmetrique Activity Score  \\\n",
              "count           9103.000000                  5022.000000   \n",
              "mean               2.362820                    14.306252   \n",
              "std                2.161418                     1.386694   \n",
              "min                0.000000                     7.000000   \n",
              "25%                1.000000                    14.000000   \n",
              "50%                2.000000                    14.000000   \n",
              "75%                3.000000                    15.000000   \n",
              "max               55.000000                    18.000000   \n",
              "\n",
              "       Asymmetrique Profile Score  \n",
              "count                 5022.000000  \n",
              "mean                    16.344883  \n",
              "std                      1.811395  \n",
              "min                     11.000000  \n",
              "25%                     15.000000  \n",
              "50%                     16.000000  \n",
              "75%                     18.000000  \n",
              "max                     20.000000  "
            ],
            "text/html": [
              "\n",
              "  <div id=\"df-c11f0d19-2ffc-4a76-8398-258e51f87439\">\n",
              "    <div class=\"colab-df-container\">\n",
              "      <div>\n",
              "<style scoped>\n",
              "    .dataframe tbody tr th:only-of-type {\n",
              "        vertical-align: middle;\n",
              "    }\n",
              "\n",
              "    .dataframe tbody tr th {\n",
              "        vertical-align: top;\n",
              "    }\n",
              "\n",
              "    .dataframe thead th {\n",
              "        text-align: right;\n",
              "    }\n",
              "</style>\n",
              "<table border=\"1\" class=\"dataframe\">\n",
              "  <thead>\n",
              "    <tr style=\"text-align: right;\">\n",
              "      <th></th>\n",
              "      <th>Lead Number</th>\n",
              "      <th>Converted</th>\n",
              "      <th>TotalVisits</th>\n",
              "      <th>Total Time Spent on Website</th>\n",
              "      <th>Page Views Per Visit</th>\n",
              "      <th>Asymmetrique Activity Score</th>\n",
              "      <th>Asymmetrique Profile Score</th>\n",
              "    </tr>\n",
              "  </thead>\n",
              "  <tbody>\n",
              "    <tr>\n",
              "      <th>count</th>\n",
              "      <td>9240.000000</td>\n",
              "      <td>9240.000000</td>\n",
              "      <td>9103.000000</td>\n",
              "      <td>9240.000000</td>\n",
              "      <td>9103.000000</td>\n",
              "      <td>5022.000000</td>\n",
              "      <td>5022.000000</td>\n",
              "    </tr>\n",
              "    <tr>\n",
              "      <th>mean</th>\n",
              "      <td>617188.435606</td>\n",
              "      <td>0.385390</td>\n",
              "      <td>3.445238</td>\n",
              "      <td>487.698268</td>\n",
              "      <td>2.362820</td>\n",
              "      <td>14.306252</td>\n",
              "      <td>16.344883</td>\n",
              "    </tr>\n",
              "    <tr>\n",
              "      <th>std</th>\n",
              "      <td>23405.995698</td>\n",
              "      <td>0.486714</td>\n",
              "      <td>4.854853</td>\n",
              "      <td>548.021466</td>\n",
              "      <td>2.161418</td>\n",
              "      <td>1.386694</td>\n",
              "      <td>1.811395</td>\n",
              "    </tr>\n",
              "    <tr>\n",
              "      <th>min</th>\n",
              "      <td>579533.000000</td>\n",
              "      <td>0.000000</td>\n",
              "      <td>0.000000</td>\n",
              "      <td>0.000000</td>\n",
              "      <td>0.000000</td>\n",
              "      <td>7.000000</td>\n",
              "      <td>11.000000</td>\n",
              "    </tr>\n",
              "    <tr>\n",
              "      <th>25%</th>\n",
              "      <td>596484.500000</td>\n",
              "      <td>0.000000</td>\n",
              "      <td>1.000000</td>\n",
              "      <td>12.000000</td>\n",
              "      <td>1.000000</td>\n",
              "      <td>14.000000</td>\n",
              "      <td>15.000000</td>\n",
              "    </tr>\n",
              "    <tr>\n",
              "      <th>50%</th>\n",
              "      <td>615479.000000</td>\n",
              "      <td>0.000000</td>\n",
              "      <td>3.000000</td>\n",
              "      <td>248.000000</td>\n",
              "      <td>2.000000</td>\n",
              "      <td>14.000000</td>\n",
              "      <td>16.000000</td>\n",
              "    </tr>\n",
              "    <tr>\n",
              "      <th>75%</th>\n",
              "      <td>637387.250000</td>\n",
              "      <td>1.000000</td>\n",
              "      <td>5.000000</td>\n",
              "      <td>936.000000</td>\n",
              "      <td>3.000000</td>\n",
              "      <td>15.000000</td>\n",
              "      <td>18.000000</td>\n",
              "    </tr>\n",
              "    <tr>\n",
              "      <th>max</th>\n",
              "      <td>660737.000000</td>\n",
              "      <td>1.000000</td>\n",
              "      <td>251.000000</td>\n",
              "      <td>2272.000000</td>\n",
              "      <td>55.000000</td>\n",
              "      <td>18.000000</td>\n",
              "      <td>20.000000</td>\n",
              "    </tr>\n",
              "  </tbody>\n",
              "</table>\n",
              "</div>\n",
              "      <button class=\"colab-df-convert\" onclick=\"convertToInteractive('df-c11f0d19-2ffc-4a76-8398-258e51f87439')\"\n",
              "              title=\"Convert this dataframe to an interactive table.\"\n",
              "              style=\"display:none;\">\n",
              "        \n",
              "  <svg xmlns=\"http://www.w3.org/2000/svg\" height=\"24px\"viewBox=\"0 0 24 24\"\n",
              "       width=\"24px\">\n",
              "    <path d=\"M0 0h24v24H0V0z\" fill=\"none\"/>\n",
              "    <path d=\"M18.56 5.44l.94 2.06.94-2.06 2.06-.94-2.06-.94-.94-2.06-.94 2.06-2.06.94zm-11 1L8.5 8.5l.94-2.06 2.06-.94-2.06-.94L8.5 2.5l-.94 2.06-2.06.94zm10 10l.94 2.06.94-2.06 2.06-.94-2.06-.94-.94-2.06-.94 2.06-2.06.94z\"/><path d=\"M17.41 7.96l-1.37-1.37c-.4-.4-.92-.59-1.43-.59-.52 0-1.04.2-1.43.59L10.3 9.45l-7.72 7.72c-.78.78-.78 2.05 0 2.83L4 21.41c.39.39.9.59 1.41.59.51 0 1.02-.2 1.41-.59l7.78-7.78 2.81-2.81c.8-.78.8-2.07 0-2.86zM5.41 20L4 18.59l7.72-7.72 1.47 1.35L5.41 20z\"/>\n",
              "  </svg>\n",
              "      </button>\n",
              "      \n",
              "  <style>\n",
              "    .colab-df-container {\n",
              "      display:flex;\n",
              "      flex-wrap:wrap;\n",
              "      gap: 12px;\n",
              "    }\n",
              "\n",
              "    .colab-df-convert {\n",
              "      background-color: #E8F0FE;\n",
              "      border: none;\n",
              "      border-radius: 50%;\n",
              "      cursor: pointer;\n",
              "      display: none;\n",
              "      fill: #1967D2;\n",
              "      height: 32px;\n",
              "      padding: 0 0 0 0;\n",
              "      width: 32px;\n",
              "    }\n",
              "\n",
              "    .colab-df-convert:hover {\n",
              "      background-color: #E2EBFA;\n",
              "      box-shadow: 0px 1px 2px rgba(60, 64, 67, 0.3), 0px 1px 3px 1px rgba(60, 64, 67, 0.15);\n",
              "      fill: #174EA6;\n",
              "    }\n",
              "\n",
              "    [theme=dark] .colab-df-convert {\n",
              "      background-color: #3B4455;\n",
              "      fill: #D2E3FC;\n",
              "    }\n",
              "\n",
              "    [theme=dark] .colab-df-convert:hover {\n",
              "      background-color: #434B5C;\n",
              "      box-shadow: 0px 1px 3px 1px rgba(0, 0, 0, 0.15);\n",
              "      filter: drop-shadow(0px 1px 2px rgba(0, 0, 0, 0.3));\n",
              "      fill: #FFFFFF;\n",
              "    }\n",
              "  </style>\n",
              "\n",
              "      <script>\n",
              "        const buttonEl =\n",
              "          document.querySelector('#df-c11f0d19-2ffc-4a76-8398-258e51f87439 button.colab-df-convert');\n",
              "        buttonEl.style.display =\n",
              "          google.colab.kernel.accessAllowed ? 'block' : 'none';\n",
              "\n",
              "        async function convertToInteractive(key) {\n",
              "          const element = document.querySelector('#df-c11f0d19-2ffc-4a76-8398-258e51f87439');\n",
              "          const dataTable =\n",
              "            await google.colab.kernel.invokeFunction('convertToInteractive',\n",
              "                                                     [key], {});\n",
              "          if (!dataTable) return;\n",
              "\n",
              "          const docLinkHtml = 'Like what you see? Visit the ' +\n",
              "            '<a target=\"_blank\" href=https://colab.research.google.com/notebooks/data_table.ipynb>data table notebook</a>'\n",
              "            + ' to learn more about interactive tables.';\n",
              "          element.innerHTML = '';\n",
              "          dataTable['output_type'] = 'display_data';\n",
              "          await google.colab.output.renderOutput(dataTable, element);\n",
              "          const docLink = document.createElement('div');\n",
              "          docLink.innerHTML = docLinkHtml;\n",
              "          element.appendChild(docLink);\n",
              "        }\n",
              "      </script>\n",
              "    </div>\n",
              "  </div>\n",
              "  "
            ]
          },
          "metadata": {},
          "execution_count": 559
        }
      ],
      "source": [
        "dataset.describe()"
      ]
    },
    {
      "cell_type": "code",
      "execution_count": 560,
      "metadata": {
        "id": "U9H65TtKAfhU",
        "colab": {
          "base_uri": "https://localhost:8080/",
          "height": 542
        },
        "outputId": "d7bea710-1aac-49c8-e6c1-43c41e8cd127"
      },
      "outputs": [
        {
          "output_type": "execute_result",
          "data": {
            "text/plain": [
              "                            Prospect_ID  Lead_Number              Lead_Origin  \\\n",
              "0  7927b2df-8bba-4d29-b9a2-b6e0beafe620       660737                      API   \n",
              "1  2a272436-5132-4136-86fa-dcc88c88f482       660728                      API   \n",
              "2  8cc8c611-a219-4f35-ad23-fdfd2656bd8a       660727  Landing Page Submission   \n",
              "3  0cc2df48-7cf4-4e39-9de9-19797f9b38cc       660719  Landing Page Submission   \n",
              "4  3256f628-e534-4826-9d63-4a8b88782852       660681  Landing Page Submission   \n",
              "\n",
              "      Lead_Source Do_Not_Email Do_Not_Call  Converted  TotalVisits  \\\n",
              "0      Olark Chat           No          No          0          0.0   \n",
              "1  Organic Search           No          No          0          5.0   \n",
              "2  Direct Traffic           No          No          1          2.0   \n",
              "3  Direct Traffic           No          No          0          1.0   \n",
              "4          Google           No          No          1          2.0   \n",
              "\n",
              "   Total_Time_Spent_on_Website  Page_Views_Per_Visit  ...  \\\n",
              "0                            0                   0.0  ...   \n",
              "1                          674                   2.5  ...   \n",
              "2                         1532                   2.0  ...   \n",
              "3                          305                   1.0  ...   \n",
              "4                         1428                   1.0  ...   \n",
              "\n",
              "  Get_updates_on_DM_Content    Lead_Profile    City  \\\n",
              "0                        No          Select  Select   \n",
              "1                        No          Select  Select   \n",
              "2                        No  Potential Lead  Mumbai   \n",
              "3                        No          Select  Mumbai   \n",
              "4                        No          Select  Mumbai   \n",
              "\n",
              "  Asymmetrique_Activity_Index Asymmetrique_Profile_Index  \\\n",
              "0                   02.Medium                  02.Medium   \n",
              "1                   02.Medium                  02.Medium   \n",
              "2                   02.Medium                    01.High   \n",
              "3                   02.Medium                    01.High   \n",
              "4                   02.Medium                    01.High   \n",
              "\n",
              "  Asymmetrique_Activity_Score Asymmetrique_Profile_Score  \\\n",
              "0                        15.0                       15.0   \n",
              "1                        15.0                       15.0   \n",
              "2                        14.0                       20.0   \n",
              "3                        13.0                       17.0   \n",
              "4                        15.0                       18.0   \n",
              "\n",
              "  I_agree_to_pay_the_amount_through_cheque  \\\n",
              "0                                       No   \n",
              "1                                       No   \n",
              "2                                       No   \n",
              "3                                       No   \n",
              "4                                       No   \n",
              "\n",
              "  A_free_copy_of_Mastering_The_Interview Last_Notable_Activity  \n",
              "0                                     No              Modified  \n",
              "1                                     No          Email Opened  \n",
              "2                                    Yes          Email Opened  \n",
              "3                                     No              Modified  \n",
              "4                                     No              Modified  \n",
              "\n",
              "[5 rows x 37 columns]"
            ],
            "text/html": [
              "\n",
              "  <div id=\"df-e621c46c-e20a-41db-9688-cf0b927243f9\">\n",
              "    <div class=\"colab-df-container\">\n",
              "      <div>\n",
              "<style scoped>\n",
              "    .dataframe tbody tr th:only-of-type {\n",
              "        vertical-align: middle;\n",
              "    }\n",
              "\n",
              "    .dataframe tbody tr th {\n",
              "        vertical-align: top;\n",
              "    }\n",
              "\n",
              "    .dataframe thead th {\n",
              "        text-align: right;\n",
              "    }\n",
              "</style>\n",
              "<table border=\"1\" class=\"dataframe\">\n",
              "  <thead>\n",
              "    <tr style=\"text-align: right;\">\n",
              "      <th></th>\n",
              "      <th>Prospect_ID</th>\n",
              "      <th>Lead_Number</th>\n",
              "      <th>Lead_Origin</th>\n",
              "      <th>Lead_Source</th>\n",
              "      <th>Do_Not_Email</th>\n",
              "      <th>Do_Not_Call</th>\n",
              "      <th>Converted</th>\n",
              "      <th>TotalVisits</th>\n",
              "      <th>Total_Time_Spent_on_Website</th>\n",
              "      <th>Page_Views_Per_Visit</th>\n",
              "      <th>...</th>\n",
              "      <th>Get_updates_on_DM_Content</th>\n",
              "      <th>Lead_Profile</th>\n",
              "      <th>City</th>\n",
              "      <th>Asymmetrique_Activity_Index</th>\n",
              "      <th>Asymmetrique_Profile_Index</th>\n",
              "      <th>Asymmetrique_Activity_Score</th>\n",
              "      <th>Asymmetrique_Profile_Score</th>\n",
              "      <th>I_agree_to_pay_the_amount_through_cheque</th>\n",
              "      <th>A_free_copy_of_Mastering_The_Interview</th>\n",
              "      <th>Last_Notable_Activity</th>\n",
              "    </tr>\n",
              "  </thead>\n",
              "  <tbody>\n",
              "    <tr>\n",
              "      <th>0</th>\n",
              "      <td>7927b2df-8bba-4d29-b9a2-b6e0beafe620</td>\n",
              "      <td>660737</td>\n",
              "      <td>API</td>\n",
              "      <td>Olark Chat</td>\n",
              "      <td>No</td>\n",
              "      <td>No</td>\n",
              "      <td>0</td>\n",
              "      <td>0.0</td>\n",
              "      <td>0</td>\n",
              "      <td>0.0</td>\n",
              "      <td>...</td>\n",
              "      <td>No</td>\n",
              "      <td>Select</td>\n",
              "      <td>Select</td>\n",
              "      <td>02.Medium</td>\n",
              "      <td>02.Medium</td>\n",
              "      <td>15.0</td>\n",
              "      <td>15.0</td>\n",
              "      <td>No</td>\n",
              "      <td>No</td>\n",
              "      <td>Modified</td>\n",
              "    </tr>\n",
              "    <tr>\n",
              "      <th>1</th>\n",
              "      <td>2a272436-5132-4136-86fa-dcc88c88f482</td>\n",
              "      <td>660728</td>\n",
              "      <td>API</td>\n",
              "      <td>Organic Search</td>\n",
              "      <td>No</td>\n",
              "      <td>No</td>\n",
              "      <td>0</td>\n",
              "      <td>5.0</td>\n",
              "      <td>674</td>\n",
              "      <td>2.5</td>\n",
              "      <td>...</td>\n",
              "      <td>No</td>\n",
              "      <td>Select</td>\n",
              "      <td>Select</td>\n",
              "      <td>02.Medium</td>\n",
              "      <td>02.Medium</td>\n",
              "      <td>15.0</td>\n",
              "      <td>15.0</td>\n",
              "      <td>No</td>\n",
              "      <td>No</td>\n",
              "      <td>Email Opened</td>\n",
              "    </tr>\n",
              "    <tr>\n",
              "      <th>2</th>\n",
              "      <td>8cc8c611-a219-4f35-ad23-fdfd2656bd8a</td>\n",
              "      <td>660727</td>\n",
              "      <td>Landing Page Submission</td>\n",
              "      <td>Direct Traffic</td>\n",
              "      <td>No</td>\n",
              "      <td>No</td>\n",
              "      <td>1</td>\n",
              "      <td>2.0</td>\n",
              "      <td>1532</td>\n",
              "      <td>2.0</td>\n",
              "      <td>...</td>\n",
              "      <td>No</td>\n",
              "      <td>Potential Lead</td>\n",
              "      <td>Mumbai</td>\n",
              "      <td>02.Medium</td>\n",
              "      <td>01.High</td>\n",
              "      <td>14.0</td>\n",
              "      <td>20.0</td>\n",
              "      <td>No</td>\n",
              "      <td>Yes</td>\n",
              "      <td>Email Opened</td>\n",
              "    </tr>\n",
              "    <tr>\n",
              "      <th>3</th>\n",
              "      <td>0cc2df48-7cf4-4e39-9de9-19797f9b38cc</td>\n",
              "      <td>660719</td>\n",
              "      <td>Landing Page Submission</td>\n",
              "      <td>Direct Traffic</td>\n",
              "      <td>No</td>\n",
              "      <td>No</td>\n",
              "      <td>0</td>\n",
              "      <td>1.0</td>\n",
              "      <td>305</td>\n",
              "      <td>1.0</td>\n",
              "      <td>...</td>\n",
              "      <td>No</td>\n",
              "      <td>Select</td>\n",
              "      <td>Mumbai</td>\n",
              "      <td>02.Medium</td>\n",
              "      <td>01.High</td>\n",
              "      <td>13.0</td>\n",
              "      <td>17.0</td>\n",
              "      <td>No</td>\n",
              "      <td>No</td>\n",
              "      <td>Modified</td>\n",
              "    </tr>\n",
              "    <tr>\n",
              "      <th>4</th>\n",
              "      <td>3256f628-e534-4826-9d63-4a8b88782852</td>\n",
              "      <td>660681</td>\n",
              "      <td>Landing Page Submission</td>\n",
              "      <td>Google</td>\n",
              "      <td>No</td>\n",
              "      <td>No</td>\n",
              "      <td>1</td>\n",
              "      <td>2.0</td>\n",
              "      <td>1428</td>\n",
              "      <td>1.0</td>\n",
              "      <td>...</td>\n",
              "      <td>No</td>\n",
              "      <td>Select</td>\n",
              "      <td>Mumbai</td>\n",
              "      <td>02.Medium</td>\n",
              "      <td>01.High</td>\n",
              "      <td>15.0</td>\n",
              "      <td>18.0</td>\n",
              "      <td>No</td>\n",
              "      <td>No</td>\n",
              "      <td>Modified</td>\n",
              "    </tr>\n",
              "  </tbody>\n",
              "</table>\n",
              "<p>5 rows × 37 columns</p>\n",
              "</div>\n",
              "      <button class=\"colab-df-convert\" onclick=\"convertToInteractive('df-e621c46c-e20a-41db-9688-cf0b927243f9')\"\n",
              "              title=\"Convert this dataframe to an interactive table.\"\n",
              "              style=\"display:none;\">\n",
              "        \n",
              "  <svg xmlns=\"http://www.w3.org/2000/svg\" height=\"24px\"viewBox=\"0 0 24 24\"\n",
              "       width=\"24px\">\n",
              "    <path d=\"M0 0h24v24H0V0z\" fill=\"none\"/>\n",
              "    <path d=\"M18.56 5.44l.94 2.06.94-2.06 2.06-.94-2.06-.94-.94-2.06-.94 2.06-2.06.94zm-11 1L8.5 8.5l.94-2.06 2.06-.94-2.06-.94L8.5 2.5l-.94 2.06-2.06.94zm10 10l.94 2.06.94-2.06 2.06-.94-2.06-.94-.94-2.06-.94 2.06-2.06.94z\"/><path d=\"M17.41 7.96l-1.37-1.37c-.4-.4-.92-.59-1.43-.59-.52 0-1.04.2-1.43.59L10.3 9.45l-7.72 7.72c-.78.78-.78 2.05 0 2.83L4 21.41c.39.39.9.59 1.41.59.51 0 1.02-.2 1.41-.59l7.78-7.78 2.81-2.81c.8-.78.8-2.07 0-2.86zM5.41 20L4 18.59l7.72-7.72 1.47 1.35L5.41 20z\"/>\n",
              "  </svg>\n",
              "      </button>\n",
              "      \n",
              "  <style>\n",
              "    .colab-df-container {\n",
              "      display:flex;\n",
              "      flex-wrap:wrap;\n",
              "      gap: 12px;\n",
              "    }\n",
              "\n",
              "    .colab-df-convert {\n",
              "      background-color: #E8F0FE;\n",
              "      border: none;\n",
              "      border-radius: 50%;\n",
              "      cursor: pointer;\n",
              "      display: none;\n",
              "      fill: #1967D2;\n",
              "      height: 32px;\n",
              "      padding: 0 0 0 0;\n",
              "      width: 32px;\n",
              "    }\n",
              "\n",
              "    .colab-df-convert:hover {\n",
              "      background-color: #E2EBFA;\n",
              "      box-shadow: 0px 1px 2px rgba(60, 64, 67, 0.3), 0px 1px 3px 1px rgba(60, 64, 67, 0.15);\n",
              "      fill: #174EA6;\n",
              "    }\n",
              "\n",
              "    [theme=dark] .colab-df-convert {\n",
              "      background-color: #3B4455;\n",
              "      fill: #D2E3FC;\n",
              "    }\n",
              "\n",
              "    [theme=dark] .colab-df-convert:hover {\n",
              "      background-color: #434B5C;\n",
              "      box-shadow: 0px 1px 3px 1px rgba(0, 0, 0, 0.15);\n",
              "      filter: drop-shadow(0px 1px 2px rgba(0, 0, 0, 0.3));\n",
              "      fill: #FFFFFF;\n",
              "    }\n",
              "  </style>\n",
              "\n",
              "      <script>\n",
              "        const buttonEl =\n",
              "          document.querySelector('#df-e621c46c-e20a-41db-9688-cf0b927243f9 button.colab-df-convert');\n",
              "        buttonEl.style.display =\n",
              "          google.colab.kernel.accessAllowed ? 'block' : 'none';\n",
              "\n",
              "        async function convertToInteractive(key) {\n",
              "          const element = document.querySelector('#df-e621c46c-e20a-41db-9688-cf0b927243f9');\n",
              "          const dataTable =\n",
              "            await google.colab.kernel.invokeFunction('convertToInteractive',\n",
              "                                                     [key], {});\n",
              "          if (!dataTable) return;\n",
              "\n",
              "          const docLinkHtml = 'Like what you see? Visit the ' +\n",
              "            '<a target=\"_blank\" href=https://colab.research.google.com/notebooks/data_table.ipynb>data table notebook</a>'\n",
              "            + ' to learn more about interactive tables.';\n",
              "          element.innerHTML = '';\n",
              "          dataTable['output_type'] = 'display_data';\n",
              "          await google.colab.output.renderOutput(dataTable, element);\n",
              "          const docLink = document.createElement('div');\n",
              "          docLink.innerHTML = docLinkHtml;\n",
              "          element.appendChild(docLink);\n",
              "        }\n",
              "      </script>\n",
              "    </div>\n",
              "  </div>\n",
              "  "
            ]
          },
          "metadata": {},
          "execution_count": 560
        }
      ],
      "source": [
        "#Renaming column names\n",
        "dataset.columns=dataset.columns.str.replace(' ','_')\n",
        "dataset.head()\n"
      ]
    },
    {
      "cell_type": "code",
      "execution_count": 561,
      "metadata": {
        "id": "fgR1ex4BBiSR",
        "colab": {
          "base_uri": "https://localhost:8080/",
          "height": 438
        },
        "outputId": "9e9ee2e3-ce4c-4cd1-f4a9-9f834e454782"
      },
      "outputs": [
        {
          "output_type": "execute_result",
          "data": {
            "text/plain": [
              "   Lead_Number              Lead_Origin     Lead_Source Do_Not_Email  \\\n",
              "0       660737                      API      Olark Chat           No   \n",
              "1       660728                      API  Organic Search           No   \n",
              "2       660727  Landing Page Submission  Direct Traffic           No   \n",
              "3       660719  Landing Page Submission  Direct Traffic           No   \n",
              "4       660681  Landing Page Submission          Google           No   \n",
              "\n",
              "  Do_Not_Call  Converted  TotalVisits  Total_Time_Spent_on_Website  \\\n",
              "0          No          0          0.0                            0   \n",
              "1          No          0          5.0                          674   \n",
              "2          No          1          2.0                         1532   \n",
              "3          No          0          1.0                          305   \n",
              "4          No          1          2.0                         1428   \n",
              "\n",
              "   Page_Views_Per_Visit            Last_Activity  ...  \\\n",
              "0                   0.0  Page Visited on Website  ...   \n",
              "1                   2.5             Email Opened  ...   \n",
              "2                   2.0             Email Opened  ...   \n",
              "3                   1.0              Unreachable  ...   \n",
              "4                   1.0        Converted to Lead  ...   \n",
              "\n",
              "  Get_updates_on_DM_Content    Lead_Profile    City  \\\n",
              "0                        No          Select  Select   \n",
              "1                        No          Select  Select   \n",
              "2                        No  Potential Lead  Mumbai   \n",
              "3                        No          Select  Mumbai   \n",
              "4                        No          Select  Mumbai   \n",
              "\n",
              "  Asymmetrique_Activity_Index Asymmetrique_Profile_Index  \\\n",
              "0                   02.Medium                  02.Medium   \n",
              "1                   02.Medium                  02.Medium   \n",
              "2                   02.Medium                    01.High   \n",
              "3                   02.Medium                    01.High   \n",
              "4                   02.Medium                    01.High   \n",
              "\n",
              "  Asymmetrique_Activity_Score Asymmetrique_Profile_Score  \\\n",
              "0                        15.0                       15.0   \n",
              "1                        15.0                       15.0   \n",
              "2                        14.0                       20.0   \n",
              "3                        13.0                       17.0   \n",
              "4                        15.0                       18.0   \n",
              "\n",
              "  I_agree_to_pay_the_amount_through_cheque  \\\n",
              "0                                       No   \n",
              "1                                       No   \n",
              "2                                       No   \n",
              "3                                       No   \n",
              "4                                       No   \n",
              "\n",
              "  A_free_copy_of_Mastering_The_Interview Last_Notable_Activity  \n",
              "0                                     No              Modified  \n",
              "1                                     No          Email Opened  \n",
              "2                                    Yes          Email Opened  \n",
              "3                                     No              Modified  \n",
              "4                                     No              Modified  \n",
              "\n",
              "[5 rows x 36 columns]"
            ],
            "text/html": [
              "\n",
              "  <div id=\"df-45c910f9-76fe-48bc-9100-49cb45e33aff\">\n",
              "    <div class=\"colab-df-container\">\n",
              "      <div>\n",
              "<style scoped>\n",
              "    .dataframe tbody tr th:only-of-type {\n",
              "        vertical-align: middle;\n",
              "    }\n",
              "\n",
              "    .dataframe tbody tr th {\n",
              "        vertical-align: top;\n",
              "    }\n",
              "\n",
              "    .dataframe thead th {\n",
              "        text-align: right;\n",
              "    }\n",
              "</style>\n",
              "<table border=\"1\" class=\"dataframe\">\n",
              "  <thead>\n",
              "    <tr style=\"text-align: right;\">\n",
              "      <th></th>\n",
              "      <th>Lead_Number</th>\n",
              "      <th>Lead_Origin</th>\n",
              "      <th>Lead_Source</th>\n",
              "      <th>Do_Not_Email</th>\n",
              "      <th>Do_Not_Call</th>\n",
              "      <th>Converted</th>\n",
              "      <th>TotalVisits</th>\n",
              "      <th>Total_Time_Spent_on_Website</th>\n",
              "      <th>Page_Views_Per_Visit</th>\n",
              "      <th>Last_Activity</th>\n",
              "      <th>...</th>\n",
              "      <th>Get_updates_on_DM_Content</th>\n",
              "      <th>Lead_Profile</th>\n",
              "      <th>City</th>\n",
              "      <th>Asymmetrique_Activity_Index</th>\n",
              "      <th>Asymmetrique_Profile_Index</th>\n",
              "      <th>Asymmetrique_Activity_Score</th>\n",
              "      <th>Asymmetrique_Profile_Score</th>\n",
              "      <th>I_agree_to_pay_the_amount_through_cheque</th>\n",
              "      <th>A_free_copy_of_Mastering_The_Interview</th>\n",
              "      <th>Last_Notable_Activity</th>\n",
              "    </tr>\n",
              "  </thead>\n",
              "  <tbody>\n",
              "    <tr>\n",
              "      <th>0</th>\n",
              "      <td>660737</td>\n",
              "      <td>API</td>\n",
              "      <td>Olark Chat</td>\n",
              "      <td>No</td>\n",
              "      <td>No</td>\n",
              "      <td>0</td>\n",
              "      <td>0.0</td>\n",
              "      <td>0</td>\n",
              "      <td>0.0</td>\n",
              "      <td>Page Visited on Website</td>\n",
              "      <td>...</td>\n",
              "      <td>No</td>\n",
              "      <td>Select</td>\n",
              "      <td>Select</td>\n",
              "      <td>02.Medium</td>\n",
              "      <td>02.Medium</td>\n",
              "      <td>15.0</td>\n",
              "      <td>15.0</td>\n",
              "      <td>No</td>\n",
              "      <td>No</td>\n",
              "      <td>Modified</td>\n",
              "    </tr>\n",
              "    <tr>\n",
              "      <th>1</th>\n",
              "      <td>660728</td>\n",
              "      <td>API</td>\n",
              "      <td>Organic Search</td>\n",
              "      <td>No</td>\n",
              "      <td>No</td>\n",
              "      <td>0</td>\n",
              "      <td>5.0</td>\n",
              "      <td>674</td>\n",
              "      <td>2.5</td>\n",
              "      <td>Email Opened</td>\n",
              "      <td>...</td>\n",
              "      <td>No</td>\n",
              "      <td>Select</td>\n",
              "      <td>Select</td>\n",
              "      <td>02.Medium</td>\n",
              "      <td>02.Medium</td>\n",
              "      <td>15.0</td>\n",
              "      <td>15.0</td>\n",
              "      <td>No</td>\n",
              "      <td>No</td>\n",
              "      <td>Email Opened</td>\n",
              "    </tr>\n",
              "    <tr>\n",
              "      <th>2</th>\n",
              "      <td>660727</td>\n",
              "      <td>Landing Page Submission</td>\n",
              "      <td>Direct Traffic</td>\n",
              "      <td>No</td>\n",
              "      <td>No</td>\n",
              "      <td>1</td>\n",
              "      <td>2.0</td>\n",
              "      <td>1532</td>\n",
              "      <td>2.0</td>\n",
              "      <td>Email Opened</td>\n",
              "      <td>...</td>\n",
              "      <td>No</td>\n",
              "      <td>Potential Lead</td>\n",
              "      <td>Mumbai</td>\n",
              "      <td>02.Medium</td>\n",
              "      <td>01.High</td>\n",
              "      <td>14.0</td>\n",
              "      <td>20.0</td>\n",
              "      <td>No</td>\n",
              "      <td>Yes</td>\n",
              "      <td>Email Opened</td>\n",
              "    </tr>\n",
              "    <tr>\n",
              "      <th>3</th>\n",
              "      <td>660719</td>\n",
              "      <td>Landing Page Submission</td>\n",
              "      <td>Direct Traffic</td>\n",
              "      <td>No</td>\n",
              "      <td>No</td>\n",
              "      <td>0</td>\n",
              "      <td>1.0</td>\n",
              "      <td>305</td>\n",
              "      <td>1.0</td>\n",
              "      <td>Unreachable</td>\n",
              "      <td>...</td>\n",
              "      <td>No</td>\n",
              "      <td>Select</td>\n",
              "      <td>Mumbai</td>\n",
              "      <td>02.Medium</td>\n",
              "      <td>01.High</td>\n",
              "      <td>13.0</td>\n",
              "      <td>17.0</td>\n",
              "      <td>No</td>\n",
              "      <td>No</td>\n",
              "      <td>Modified</td>\n",
              "    </tr>\n",
              "    <tr>\n",
              "      <th>4</th>\n",
              "      <td>660681</td>\n",
              "      <td>Landing Page Submission</td>\n",
              "      <td>Google</td>\n",
              "      <td>No</td>\n",
              "      <td>No</td>\n",
              "      <td>1</td>\n",
              "      <td>2.0</td>\n",
              "      <td>1428</td>\n",
              "      <td>1.0</td>\n",
              "      <td>Converted to Lead</td>\n",
              "      <td>...</td>\n",
              "      <td>No</td>\n",
              "      <td>Select</td>\n",
              "      <td>Mumbai</td>\n",
              "      <td>02.Medium</td>\n",
              "      <td>01.High</td>\n",
              "      <td>15.0</td>\n",
              "      <td>18.0</td>\n",
              "      <td>No</td>\n",
              "      <td>No</td>\n",
              "      <td>Modified</td>\n",
              "    </tr>\n",
              "  </tbody>\n",
              "</table>\n",
              "<p>5 rows × 36 columns</p>\n",
              "</div>\n",
              "      <button class=\"colab-df-convert\" onclick=\"convertToInteractive('df-45c910f9-76fe-48bc-9100-49cb45e33aff')\"\n",
              "              title=\"Convert this dataframe to an interactive table.\"\n",
              "              style=\"display:none;\">\n",
              "        \n",
              "  <svg xmlns=\"http://www.w3.org/2000/svg\" height=\"24px\"viewBox=\"0 0 24 24\"\n",
              "       width=\"24px\">\n",
              "    <path d=\"M0 0h24v24H0V0z\" fill=\"none\"/>\n",
              "    <path d=\"M18.56 5.44l.94 2.06.94-2.06 2.06-.94-2.06-.94-.94-2.06-.94 2.06-2.06.94zm-11 1L8.5 8.5l.94-2.06 2.06-.94-2.06-.94L8.5 2.5l-.94 2.06-2.06.94zm10 10l.94 2.06.94-2.06 2.06-.94-2.06-.94-.94-2.06-.94 2.06-2.06.94z\"/><path d=\"M17.41 7.96l-1.37-1.37c-.4-.4-.92-.59-1.43-.59-.52 0-1.04.2-1.43.59L10.3 9.45l-7.72 7.72c-.78.78-.78 2.05 0 2.83L4 21.41c.39.39.9.59 1.41.59.51 0 1.02-.2 1.41-.59l7.78-7.78 2.81-2.81c.8-.78.8-2.07 0-2.86zM5.41 20L4 18.59l7.72-7.72 1.47 1.35L5.41 20z\"/>\n",
              "  </svg>\n",
              "      </button>\n",
              "      \n",
              "  <style>\n",
              "    .colab-df-container {\n",
              "      display:flex;\n",
              "      flex-wrap:wrap;\n",
              "      gap: 12px;\n",
              "    }\n",
              "\n",
              "    .colab-df-convert {\n",
              "      background-color: #E8F0FE;\n",
              "      border: none;\n",
              "      border-radius: 50%;\n",
              "      cursor: pointer;\n",
              "      display: none;\n",
              "      fill: #1967D2;\n",
              "      height: 32px;\n",
              "      padding: 0 0 0 0;\n",
              "      width: 32px;\n",
              "    }\n",
              "\n",
              "    .colab-df-convert:hover {\n",
              "      background-color: #E2EBFA;\n",
              "      box-shadow: 0px 1px 2px rgba(60, 64, 67, 0.3), 0px 1px 3px 1px rgba(60, 64, 67, 0.15);\n",
              "      fill: #174EA6;\n",
              "    }\n",
              "\n",
              "    [theme=dark] .colab-df-convert {\n",
              "      background-color: #3B4455;\n",
              "      fill: #D2E3FC;\n",
              "    }\n",
              "\n",
              "    [theme=dark] .colab-df-convert:hover {\n",
              "      background-color: #434B5C;\n",
              "      box-shadow: 0px 1px 3px 1px rgba(0, 0, 0, 0.15);\n",
              "      filter: drop-shadow(0px 1px 2px rgba(0, 0, 0, 0.3));\n",
              "      fill: #FFFFFF;\n",
              "    }\n",
              "  </style>\n",
              "\n",
              "      <script>\n",
              "        const buttonEl =\n",
              "          document.querySelector('#df-45c910f9-76fe-48bc-9100-49cb45e33aff button.colab-df-convert');\n",
              "        buttonEl.style.display =\n",
              "          google.colab.kernel.accessAllowed ? 'block' : 'none';\n",
              "\n",
              "        async function convertToInteractive(key) {\n",
              "          const element = document.querySelector('#df-45c910f9-76fe-48bc-9100-49cb45e33aff');\n",
              "          const dataTable =\n",
              "            await google.colab.kernel.invokeFunction('convertToInteractive',\n",
              "                                                     [key], {});\n",
              "          if (!dataTable) return;\n",
              "\n",
              "          const docLinkHtml = 'Like what you see? Visit the ' +\n",
              "            '<a target=\"_blank\" href=https://colab.research.google.com/notebooks/data_table.ipynb>data table notebook</a>'\n",
              "            + ' to learn more about interactive tables.';\n",
              "          element.innerHTML = '';\n",
              "          dataTable['output_type'] = 'display_data';\n",
              "          await google.colab.output.renderOutput(dataTable, element);\n",
              "          const docLink = document.createElement('div');\n",
              "          docLink.innerHTML = docLinkHtml;\n",
              "          element.appendChild(docLink);\n",
              "        }\n",
              "      </script>\n",
              "    </div>\n",
              "  </div>\n",
              "  "
            ]
          },
          "metadata": {},
          "execution_count": 561
        }
      ],
      "source": [
        "#dropping PRospect_ID column as it is not required for the analysis \n",
        "dataset=dataset.drop(['Prospect_ID'],axis=1)\n",
        "dataset.head()"
      ]
    },
    {
      "cell_type": "code",
      "execution_count": 562,
      "metadata": {
        "id": "izC3gUkaCI7H"
      },
      "outputs": [],
      "source": [
        "#checking duplicate values\n",
        "#dataset.City.duplicated().sum()"
      ]
    },
    {
      "cell_type": "code",
      "execution_count": 563,
      "metadata": {
        "id": "AUhawsGaDAi1",
        "colab": {
          "base_uri": "https://localhost:8080/"
        },
        "outputId": "06ec5055-4f33-4aaf-991c-e2e68b8a8209"
      },
      "outputs": [
        {
          "output_type": "execute_result",
          "data": {
            "text/plain": [
              "Lead_Number                                       0.00\n",
              "Lead_Origin                                       0.00\n",
              "Lead_Source                                       0.39\n",
              "Do_Not_Email                                      0.00\n",
              "Do_Not_Call                                       0.00\n",
              "Converted                                         0.00\n",
              "TotalVisits                                       1.48\n",
              "Total_Time_Spent_on_Website                       0.00\n",
              "Page_Views_Per_Visit                              1.48\n",
              "Last_Activity                                     1.11\n",
              "Country                                          26.63\n",
              "Specialization                                   15.56\n",
              "How_did_you_hear_about_X_Education               23.89\n",
              "What_is_your_current_occupation                  29.11\n",
              "What_matters_most_to_you_in_choosing_a_course    29.32\n",
              "Search                                            0.00\n",
              "Magazine                                          0.00\n",
              "Newspaper_Article                                 0.00\n",
              "X_Education_Forums                                0.00\n",
              "Newspaper                                         0.00\n",
              "Digital_Advertisement                             0.00\n",
              "Through_Recommendations                           0.00\n",
              "Receive_More_Updates_About_Our_Courses            0.00\n",
              "Tags                                             36.29\n",
              "Lead_Quality                                     51.59\n",
              "Update_me_on_Supply_Chain_Content                 0.00\n",
              "Get_updates_on_DM_Content                         0.00\n",
              "Lead_Profile                                     29.32\n",
              "City                                             15.37\n",
              "Asymmetrique_Activity_Index                      45.65\n",
              "Asymmetrique_Profile_Index                       45.65\n",
              "Asymmetrique_Activity_Score                      45.65\n",
              "Asymmetrique_Profile_Score                       45.65\n",
              "I_agree_to_pay_the_amount_through_cheque          0.00\n",
              "A_free_copy_of_Mastering_The_Interview            0.00\n",
              "Last_Notable_Activity                             0.00\n",
              "dtype: float64"
            ]
          },
          "metadata": {},
          "execution_count": 563
        }
      ],
      "source": [
        "#calculating percentage of null values\n",
        "round((dataset.isnull().sum())*100/(len(dataset)),2)"
      ]
    },
    {
      "cell_type": "code",
      "execution_count": 564,
      "metadata": {
        "id": "OLH5rfegJSWl"
      },
      "outputs": [],
      "source": [
        "#Dropping columns having null values more than 45%\n",
        "for i in dataset.columns:\n",
        "  if (dataset[i].isnull().sum())*100/(len(dataset)) >=45:\n",
        "    dataset.drop(i,axis=1,inplace=True)"
      ]
    },
    {
      "cell_type": "code",
      "source": [],
      "metadata": {
        "id": "9LA0a7QVW9KL"
      },
      "execution_count": 564,
      "outputs": []
    },
    {
      "cell_type": "code",
      "execution_count": 565,
      "metadata": {
        "id": "UVLFUzYuKPVx",
        "colab": {
          "base_uri": "https://localhost:8080/",
          "height": 886
        },
        "outputId": "f008d658-8f4d-4dfa-95a6-f844e97fdf54"
      },
      "outputs": [
        {
          "output_type": "execute_result",
          "data": {
            "text/plain": [
              "      Lead_Number              Lead_Origin     Lead_Source Do_Not_Email  \\\n",
              "0          660737                      API      Olark Chat           No   \n",
              "1          660728                      API  Organic Search           No   \n",
              "2          660727  Landing Page Submission  Direct Traffic           No   \n",
              "3          660719  Landing Page Submission  Direct Traffic           No   \n",
              "4          660681  Landing Page Submission          Google           No   \n",
              "...           ...                      ...             ...          ...   \n",
              "9235       579564  Landing Page Submission  Direct Traffic          Yes   \n",
              "9236       579546  Landing Page Submission  Direct Traffic           No   \n",
              "9237       579545  Landing Page Submission  Direct Traffic          Yes   \n",
              "9238       579538  Landing Page Submission          Google           No   \n",
              "9239       579533  Landing Page Submission  Direct Traffic           No   \n",
              "\n",
              "     Do_Not_Call  Converted  TotalVisits  Total_Time_Spent_on_Website  \\\n",
              "0             No          0          0.0                            0   \n",
              "1             No          0          5.0                          674   \n",
              "2             No          1          2.0                         1532   \n",
              "3             No          0          1.0                          305   \n",
              "4             No          1          2.0                         1428   \n",
              "...          ...        ...          ...                          ...   \n",
              "9235          No          1          8.0                         1845   \n",
              "9236          No          0          2.0                          238   \n",
              "9237          No          0          2.0                          199   \n",
              "9238          No          1          3.0                          499   \n",
              "9239          No          1          6.0                         1279   \n",
              "\n",
              "      Page_Views_Per_Visit            Last_Activity  ...  \\\n",
              "0                     0.00  Page Visited on Website  ...   \n",
              "1                     2.50             Email Opened  ...   \n",
              "2                     2.00             Email Opened  ...   \n",
              "3                     1.00              Unreachable  ...   \n",
              "4                     1.00        Converted to Lead  ...   \n",
              "...                    ...                      ...  ...   \n",
              "9235                  2.67        Email Marked Spam  ...   \n",
              "9236                  2.00                 SMS Sent  ...   \n",
              "9237                  2.00                 SMS Sent  ...   \n",
              "9238                  3.00                 SMS Sent  ...   \n",
              "9239                  3.00                 SMS Sent  ...   \n",
              "\n",
              "     Through_Recommendations Receive_More_Updates_About_Our_Courses  \\\n",
              "0                         No                                     No   \n",
              "1                         No                                     No   \n",
              "2                         No                                     No   \n",
              "3                         No                                     No   \n",
              "4                         No                                     No   \n",
              "...                      ...                                    ...   \n",
              "9235                      No                                     No   \n",
              "9236                      No                                     No   \n",
              "9237                      No                                     No   \n",
              "9238                      No                                     No   \n",
              "9239                      No                                     No   \n",
              "\n",
              "                                     Tags Update_me_on_Supply_Chain_Content  \\\n",
              "0             Interested in other courses                                No   \n",
              "1                                 Ringing                                No   \n",
              "2     Will revert after reading the email                                No   \n",
              "3                                 Ringing                                No   \n",
              "4     Will revert after reading the email                                No   \n",
              "...                                   ...                               ...   \n",
              "9235  Will revert after reading the email                                No   \n",
              "9236                   wrong number given                                No   \n",
              "9237                       invalid number                                No   \n",
              "9238                                  NaN                                No   \n",
              "9239  Will revert after reading the email                                No   \n",
              "\n",
              "     Get_updates_on_DM_Content    Lead_Profile                City  \\\n",
              "0                           No          Select              Select   \n",
              "1                           No          Select              Select   \n",
              "2                           No  Potential Lead              Mumbai   \n",
              "3                           No          Select              Mumbai   \n",
              "4                           No          Select              Mumbai   \n",
              "...                        ...             ...                 ...   \n",
              "9235                        No  Potential Lead              Mumbai   \n",
              "9236                        No  Potential Lead              Mumbai   \n",
              "9237                        No  Potential Lead              Mumbai   \n",
              "9238                        No             NaN  Other Metro Cities   \n",
              "9239                        No  Potential Lead        Other Cities   \n",
              "\n",
              "     I_agree_to_pay_the_amount_through_cheque  \\\n",
              "0                                          No   \n",
              "1                                          No   \n",
              "2                                          No   \n",
              "3                                          No   \n",
              "4                                          No   \n",
              "...                                       ...   \n",
              "9235                                       No   \n",
              "9236                                       No   \n",
              "9237                                       No   \n",
              "9238                                       No   \n",
              "9239                                       No   \n",
              "\n",
              "     A_free_copy_of_Mastering_The_Interview Last_Notable_Activity  \n",
              "0                                        No              Modified  \n",
              "1                                        No          Email Opened  \n",
              "2                                       Yes          Email Opened  \n",
              "3                                        No              Modified  \n",
              "4                                        No              Modified  \n",
              "...                                     ...                   ...  \n",
              "9235                                     No     Email Marked Spam  \n",
              "9236                                    Yes              SMS Sent  \n",
              "9237                                    Yes              SMS Sent  \n",
              "9238                                     No              SMS Sent  \n",
              "9239                                    Yes              Modified  \n",
              "\n",
              "[9240 rows x 31 columns]"
            ],
            "text/html": [
              "\n",
              "  <div id=\"df-8b8115e3-86a6-4660-a443-51a373bcac9d\">\n",
              "    <div class=\"colab-df-container\">\n",
              "      <div>\n",
              "<style scoped>\n",
              "    .dataframe tbody tr th:only-of-type {\n",
              "        vertical-align: middle;\n",
              "    }\n",
              "\n",
              "    .dataframe tbody tr th {\n",
              "        vertical-align: top;\n",
              "    }\n",
              "\n",
              "    .dataframe thead th {\n",
              "        text-align: right;\n",
              "    }\n",
              "</style>\n",
              "<table border=\"1\" class=\"dataframe\">\n",
              "  <thead>\n",
              "    <tr style=\"text-align: right;\">\n",
              "      <th></th>\n",
              "      <th>Lead_Number</th>\n",
              "      <th>Lead_Origin</th>\n",
              "      <th>Lead_Source</th>\n",
              "      <th>Do_Not_Email</th>\n",
              "      <th>Do_Not_Call</th>\n",
              "      <th>Converted</th>\n",
              "      <th>TotalVisits</th>\n",
              "      <th>Total_Time_Spent_on_Website</th>\n",
              "      <th>Page_Views_Per_Visit</th>\n",
              "      <th>Last_Activity</th>\n",
              "      <th>...</th>\n",
              "      <th>Through_Recommendations</th>\n",
              "      <th>Receive_More_Updates_About_Our_Courses</th>\n",
              "      <th>Tags</th>\n",
              "      <th>Update_me_on_Supply_Chain_Content</th>\n",
              "      <th>Get_updates_on_DM_Content</th>\n",
              "      <th>Lead_Profile</th>\n",
              "      <th>City</th>\n",
              "      <th>I_agree_to_pay_the_amount_through_cheque</th>\n",
              "      <th>A_free_copy_of_Mastering_The_Interview</th>\n",
              "      <th>Last_Notable_Activity</th>\n",
              "    </tr>\n",
              "  </thead>\n",
              "  <tbody>\n",
              "    <tr>\n",
              "      <th>0</th>\n",
              "      <td>660737</td>\n",
              "      <td>API</td>\n",
              "      <td>Olark Chat</td>\n",
              "      <td>No</td>\n",
              "      <td>No</td>\n",
              "      <td>0</td>\n",
              "      <td>0.0</td>\n",
              "      <td>0</td>\n",
              "      <td>0.00</td>\n",
              "      <td>Page Visited on Website</td>\n",
              "      <td>...</td>\n",
              "      <td>No</td>\n",
              "      <td>No</td>\n",
              "      <td>Interested in other courses</td>\n",
              "      <td>No</td>\n",
              "      <td>No</td>\n",
              "      <td>Select</td>\n",
              "      <td>Select</td>\n",
              "      <td>No</td>\n",
              "      <td>No</td>\n",
              "      <td>Modified</td>\n",
              "    </tr>\n",
              "    <tr>\n",
              "      <th>1</th>\n",
              "      <td>660728</td>\n",
              "      <td>API</td>\n",
              "      <td>Organic Search</td>\n",
              "      <td>No</td>\n",
              "      <td>No</td>\n",
              "      <td>0</td>\n",
              "      <td>5.0</td>\n",
              "      <td>674</td>\n",
              "      <td>2.50</td>\n",
              "      <td>Email Opened</td>\n",
              "      <td>...</td>\n",
              "      <td>No</td>\n",
              "      <td>No</td>\n",
              "      <td>Ringing</td>\n",
              "      <td>No</td>\n",
              "      <td>No</td>\n",
              "      <td>Select</td>\n",
              "      <td>Select</td>\n",
              "      <td>No</td>\n",
              "      <td>No</td>\n",
              "      <td>Email Opened</td>\n",
              "    </tr>\n",
              "    <tr>\n",
              "      <th>2</th>\n",
              "      <td>660727</td>\n",
              "      <td>Landing Page Submission</td>\n",
              "      <td>Direct Traffic</td>\n",
              "      <td>No</td>\n",
              "      <td>No</td>\n",
              "      <td>1</td>\n",
              "      <td>2.0</td>\n",
              "      <td>1532</td>\n",
              "      <td>2.00</td>\n",
              "      <td>Email Opened</td>\n",
              "      <td>...</td>\n",
              "      <td>No</td>\n",
              "      <td>No</td>\n",
              "      <td>Will revert after reading the email</td>\n",
              "      <td>No</td>\n",
              "      <td>No</td>\n",
              "      <td>Potential Lead</td>\n",
              "      <td>Mumbai</td>\n",
              "      <td>No</td>\n",
              "      <td>Yes</td>\n",
              "      <td>Email Opened</td>\n",
              "    </tr>\n",
              "    <tr>\n",
              "      <th>3</th>\n",
              "      <td>660719</td>\n",
              "      <td>Landing Page Submission</td>\n",
              "      <td>Direct Traffic</td>\n",
              "      <td>No</td>\n",
              "      <td>No</td>\n",
              "      <td>0</td>\n",
              "      <td>1.0</td>\n",
              "      <td>305</td>\n",
              "      <td>1.00</td>\n",
              "      <td>Unreachable</td>\n",
              "      <td>...</td>\n",
              "      <td>No</td>\n",
              "      <td>No</td>\n",
              "      <td>Ringing</td>\n",
              "      <td>No</td>\n",
              "      <td>No</td>\n",
              "      <td>Select</td>\n",
              "      <td>Mumbai</td>\n",
              "      <td>No</td>\n",
              "      <td>No</td>\n",
              "      <td>Modified</td>\n",
              "    </tr>\n",
              "    <tr>\n",
              "      <th>4</th>\n",
              "      <td>660681</td>\n",
              "      <td>Landing Page Submission</td>\n",
              "      <td>Google</td>\n",
              "      <td>No</td>\n",
              "      <td>No</td>\n",
              "      <td>1</td>\n",
              "      <td>2.0</td>\n",
              "      <td>1428</td>\n",
              "      <td>1.00</td>\n",
              "      <td>Converted to Lead</td>\n",
              "      <td>...</td>\n",
              "      <td>No</td>\n",
              "      <td>No</td>\n",
              "      <td>Will revert after reading the email</td>\n",
              "      <td>No</td>\n",
              "      <td>No</td>\n",
              "      <td>Select</td>\n",
              "      <td>Mumbai</td>\n",
              "      <td>No</td>\n",
              "      <td>No</td>\n",
              "      <td>Modified</td>\n",
              "    </tr>\n",
              "    <tr>\n",
              "      <th>...</th>\n",
              "      <td>...</td>\n",
              "      <td>...</td>\n",
              "      <td>...</td>\n",
              "      <td>...</td>\n",
              "      <td>...</td>\n",
              "      <td>...</td>\n",
              "      <td>...</td>\n",
              "      <td>...</td>\n",
              "      <td>...</td>\n",
              "      <td>...</td>\n",
              "      <td>...</td>\n",
              "      <td>...</td>\n",
              "      <td>...</td>\n",
              "      <td>...</td>\n",
              "      <td>...</td>\n",
              "      <td>...</td>\n",
              "      <td>...</td>\n",
              "      <td>...</td>\n",
              "      <td>...</td>\n",
              "      <td>...</td>\n",
              "      <td>...</td>\n",
              "    </tr>\n",
              "    <tr>\n",
              "      <th>9235</th>\n",
              "      <td>579564</td>\n",
              "      <td>Landing Page Submission</td>\n",
              "      <td>Direct Traffic</td>\n",
              "      <td>Yes</td>\n",
              "      <td>No</td>\n",
              "      <td>1</td>\n",
              "      <td>8.0</td>\n",
              "      <td>1845</td>\n",
              "      <td>2.67</td>\n",
              "      <td>Email Marked Spam</td>\n",
              "      <td>...</td>\n",
              "      <td>No</td>\n",
              "      <td>No</td>\n",
              "      <td>Will revert after reading the email</td>\n",
              "      <td>No</td>\n",
              "      <td>No</td>\n",
              "      <td>Potential Lead</td>\n",
              "      <td>Mumbai</td>\n",
              "      <td>No</td>\n",
              "      <td>No</td>\n",
              "      <td>Email Marked Spam</td>\n",
              "    </tr>\n",
              "    <tr>\n",
              "      <th>9236</th>\n",
              "      <td>579546</td>\n",
              "      <td>Landing Page Submission</td>\n",
              "      <td>Direct Traffic</td>\n",
              "      <td>No</td>\n",
              "      <td>No</td>\n",
              "      <td>0</td>\n",
              "      <td>2.0</td>\n",
              "      <td>238</td>\n",
              "      <td>2.00</td>\n",
              "      <td>SMS Sent</td>\n",
              "      <td>...</td>\n",
              "      <td>No</td>\n",
              "      <td>No</td>\n",
              "      <td>wrong number given</td>\n",
              "      <td>No</td>\n",
              "      <td>No</td>\n",
              "      <td>Potential Lead</td>\n",
              "      <td>Mumbai</td>\n",
              "      <td>No</td>\n",
              "      <td>Yes</td>\n",
              "      <td>SMS Sent</td>\n",
              "    </tr>\n",
              "    <tr>\n",
              "      <th>9237</th>\n",
              "      <td>579545</td>\n",
              "      <td>Landing Page Submission</td>\n",
              "      <td>Direct Traffic</td>\n",
              "      <td>Yes</td>\n",
              "      <td>No</td>\n",
              "      <td>0</td>\n",
              "      <td>2.0</td>\n",
              "      <td>199</td>\n",
              "      <td>2.00</td>\n",
              "      <td>SMS Sent</td>\n",
              "      <td>...</td>\n",
              "      <td>No</td>\n",
              "      <td>No</td>\n",
              "      <td>invalid number</td>\n",
              "      <td>No</td>\n",
              "      <td>No</td>\n",
              "      <td>Potential Lead</td>\n",
              "      <td>Mumbai</td>\n",
              "      <td>No</td>\n",
              "      <td>Yes</td>\n",
              "      <td>SMS Sent</td>\n",
              "    </tr>\n",
              "    <tr>\n",
              "      <th>9238</th>\n",
              "      <td>579538</td>\n",
              "      <td>Landing Page Submission</td>\n",
              "      <td>Google</td>\n",
              "      <td>No</td>\n",
              "      <td>No</td>\n",
              "      <td>1</td>\n",
              "      <td>3.0</td>\n",
              "      <td>499</td>\n",
              "      <td>3.00</td>\n",
              "      <td>SMS Sent</td>\n",
              "      <td>...</td>\n",
              "      <td>No</td>\n",
              "      <td>No</td>\n",
              "      <td>NaN</td>\n",
              "      <td>No</td>\n",
              "      <td>No</td>\n",
              "      <td>NaN</td>\n",
              "      <td>Other Metro Cities</td>\n",
              "      <td>No</td>\n",
              "      <td>No</td>\n",
              "      <td>SMS Sent</td>\n",
              "    </tr>\n",
              "    <tr>\n",
              "      <th>9239</th>\n",
              "      <td>579533</td>\n",
              "      <td>Landing Page Submission</td>\n",
              "      <td>Direct Traffic</td>\n",
              "      <td>No</td>\n",
              "      <td>No</td>\n",
              "      <td>1</td>\n",
              "      <td>6.0</td>\n",
              "      <td>1279</td>\n",
              "      <td>3.00</td>\n",
              "      <td>SMS Sent</td>\n",
              "      <td>...</td>\n",
              "      <td>No</td>\n",
              "      <td>No</td>\n",
              "      <td>Will revert after reading the email</td>\n",
              "      <td>No</td>\n",
              "      <td>No</td>\n",
              "      <td>Potential Lead</td>\n",
              "      <td>Other Cities</td>\n",
              "      <td>No</td>\n",
              "      <td>Yes</td>\n",
              "      <td>Modified</td>\n",
              "    </tr>\n",
              "  </tbody>\n",
              "</table>\n",
              "<p>9240 rows × 31 columns</p>\n",
              "</div>\n",
              "      <button class=\"colab-df-convert\" onclick=\"convertToInteractive('df-8b8115e3-86a6-4660-a443-51a373bcac9d')\"\n",
              "              title=\"Convert this dataframe to an interactive table.\"\n",
              "              style=\"display:none;\">\n",
              "        \n",
              "  <svg xmlns=\"http://www.w3.org/2000/svg\" height=\"24px\"viewBox=\"0 0 24 24\"\n",
              "       width=\"24px\">\n",
              "    <path d=\"M0 0h24v24H0V0z\" fill=\"none\"/>\n",
              "    <path d=\"M18.56 5.44l.94 2.06.94-2.06 2.06-.94-2.06-.94-.94-2.06-.94 2.06-2.06.94zm-11 1L8.5 8.5l.94-2.06 2.06-.94-2.06-.94L8.5 2.5l-.94 2.06-2.06.94zm10 10l.94 2.06.94-2.06 2.06-.94-2.06-.94-.94-2.06-.94 2.06-2.06.94z\"/><path d=\"M17.41 7.96l-1.37-1.37c-.4-.4-.92-.59-1.43-.59-.52 0-1.04.2-1.43.59L10.3 9.45l-7.72 7.72c-.78.78-.78 2.05 0 2.83L4 21.41c.39.39.9.59 1.41.59.51 0 1.02-.2 1.41-.59l7.78-7.78 2.81-2.81c.8-.78.8-2.07 0-2.86zM5.41 20L4 18.59l7.72-7.72 1.47 1.35L5.41 20z\"/>\n",
              "  </svg>\n",
              "      </button>\n",
              "      \n",
              "  <style>\n",
              "    .colab-df-container {\n",
              "      display:flex;\n",
              "      flex-wrap:wrap;\n",
              "      gap: 12px;\n",
              "    }\n",
              "\n",
              "    .colab-df-convert {\n",
              "      background-color: #E8F0FE;\n",
              "      border: none;\n",
              "      border-radius: 50%;\n",
              "      cursor: pointer;\n",
              "      display: none;\n",
              "      fill: #1967D2;\n",
              "      height: 32px;\n",
              "      padding: 0 0 0 0;\n",
              "      width: 32px;\n",
              "    }\n",
              "\n",
              "    .colab-df-convert:hover {\n",
              "      background-color: #E2EBFA;\n",
              "      box-shadow: 0px 1px 2px rgba(60, 64, 67, 0.3), 0px 1px 3px 1px rgba(60, 64, 67, 0.15);\n",
              "      fill: #174EA6;\n",
              "    }\n",
              "\n",
              "    [theme=dark] .colab-df-convert {\n",
              "      background-color: #3B4455;\n",
              "      fill: #D2E3FC;\n",
              "    }\n",
              "\n",
              "    [theme=dark] .colab-df-convert:hover {\n",
              "      background-color: #434B5C;\n",
              "      box-shadow: 0px 1px 3px 1px rgba(0, 0, 0, 0.15);\n",
              "      filter: drop-shadow(0px 1px 2px rgba(0, 0, 0, 0.3));\n",
              "      fill: #FFFFFF;\n",
              "    }\n",
              "  </style>\n",
              "\n",
              "      <script>\n",
              "        const buttonEl =\n",
              "          document.querySelector('#df-8b8115e3-86a6-4660-a443-51a373bcac9d button.colab-df-convert');\n",
              "        buttonEl.style.display =\n",
              "          google.colab.kernel.accessAllowed ? 'block' : 'none';\n",
              "\n",
              "        async function convertToInteractive(key) {\n",
              "          const element = document.querySelector('#df-8b8115e3-86a6-4660-a443-51a373bcac9d');\n",
              "          const dataTable =\n",
              "            await google.colab.kernel.invokeFunction('convertToInteractive',\n",
              "                                                     [key], {});\n",
              "          if (!dataTable) return;\n",
              "\n",
              "          const docLinkHtml = 'Like what you see? Visit the ' +\n",
              "            '<a target=\"_blank\" href=https://colab.research.google.com/notebooks/data_table.ipynb>data table notebook</a>'\n",
              "            + ' to learn more about interactive tables.';\n",
              "          element.innerHTML = '';\n",
              "          dataTable['output_type'] = 'display_data';\n",
              "          await google.colab.output.renderOutput(dataTable, element);\n",
              "          const docLink = document.createElement('div');\n",
              "          docLink.innerHTML = docLinkHtml;\n",
              "          element.appendChild(docLink);\n",
              "        }\n",
              "      </script>\n",
              "    </div>\n",
              "  </div>\n",
              "  "
            ]
          },
          "metadata": {},
          "execution_count": 565
        }
      ],
      "source": [
        "dataset"
      ]
    },
    {
      "cell_type": "code",
      "execution_count": 566,
      "metadata": {
        "id": "EhDGWh6HMfZ_",
        "colab": {
          "base_uri": "https://localhost:8080/"
        },
        "outputId": "f282281d-57c8-4e18-c1e9-5b1c3671c4e3"
      },
      "outputs": [
        {
          "output_type": "execute_result",
          "data": {
            "text/plain": [
              "Email Opened                    3437\n",
              "SMS Sent                        2745\n",
              "Olark Chat Conversation          973\n",
              "Page Visited on Website          640\n",
              "Converted to Lead                428\n",
              "Email Bounced                    326\n",
              "Email Link Clicked               267\n",
              "Form Submitted on Website        116\n",
              "Unreachable                       93\n",
              "Unsubscribed                      61\n",
              "Had a Phone Conversation          30\n",
              "Approached upfront                 9\n",
              "View in browser link Clicked       6\n",
              "Email Received                     2\n",
              "Email Marked Spam                  2\n",
              "Visited Booth in Tradeshow         1\n",
              "Resubscribed to emails             1\n",
              "Name: Last_Activity, dtype: int64"
            ]
          },
          "metadata": {},
          "execution_count": 566
        }
      ],
      "source": [
        "dataset['Last_Activity'].value_counts()"
      ]
    },
    {
      "cell_type": "code",
      "execution_count": 567,
      "metadata": {
        "id": "d48VcFMMKaxN",
        "colab": {
          "base_uri": "https://localhost:8080/"
        },
        "outputId": "c8190987-2ed9-400a-ec05-7dccea6f9b49"
      },
      "outputs": [
        {
          "output_type": "stream",
          "name": "stdout",
          "text": [
            "<class 'pandas.core.frame.DataFrame'>\n",
            "RangeIndex: 9240 entries, 0 to 9239\n",
            "Data columns (total 31 columns):\n",
            " #   Column                                         Non-Null Count  Dtype  \n",
            "---  ------                                         --------------  -----  \n",
            " 0   Lead_Number                                    9240 non-null   int64  \n",
            " 1   Lead_Origin                                    9240 non-null   object \n",
            " 2   Lead_Source                                    9204 non-null   object \n",
            " 3   Do_Not_Email                                   9240 non-null   object \n",
            " 4   Do_Not_Call                                    9240 non-null   object \n",
            " 5   Converted                                      9240 non-null   int64  \n",
            " 6   TotalVisits                                    9103 non-null   float64\n",
            " 7   Total_Time_Spent_on_Website                    9240 non-null   int64  \n",
            " 8   Page_Views_Per_Visit                           9103 non-null   float64\n",
            " 9   Last_Activity                                  9137 non-null   object \n",
            " 10  Country                                        6779 non-null   object \n",
            " 11  Specialization                                 7802 non-null   object \n",
            " 12  How_did_you_hear_about_X_Education             7033 non-null   object \n",
            " 13  What_is_your_current_occupation                6550 non-null   object \n",
            " 14  What_matters_most_to_you_in_choosing_a_course  6531 non-null   object \n",
            " 15  Search                                         9240 non-null   object \n",
            " 16  Magazine                                       9240 non-null   object \n",
            " 17  Newspaper_Article                              9240 non-null   object \n",
            " 18  X_Education_Forums                             9240 non-null   object \n",
            " 19  Newspaper                                      9240 non-null   object \n",
            " 20  Digital_Advertisement                          9240 non-null   object \n",
            " 21  Through_Recommendations                        9240 non-null   object \n",
            " 22  Receive_More_Updates_About_Our_Courses         9240 non-null   object \n",
            " 23  Tags                                           5887 non-null   object \n",
            " 24  Update_me_on_Supply_Chain_Content              9240 non-null   object \n",
            " 25  Get_updates_on_DM_Content                      9240 non-null   object \n",
            " 26  Lead_Profile                                   6531 non-null   object \n",
            " 27  City                                           7820 non-null   object \n",
            " 28  I_agree_to_pay_the_amount_through_cheque       9240 non-null   object \n",
            " 29  A_free_copy_of_Mastering_The_Interview         9240 non-null   object \n",
            " 30  Last_Notable_Activity                          9240 non-null   object \n",
            "dtypes: float64(2), int64(3), object(26)\n",
            "memory usage: 2.2+ MB\n"
          ]
        }
      ],
      "source": [
        "dataset.info()"
      ]
    },
    {
      "cell_type": "code",
      "execution_count": 568,
      "metadata": {
        "id": "Zohy492XLMtX",
        "colab": {
          "base_uri": "https://localhost:8080/"
        },
        "outputId": "dadb7092-88d9-45b8-a16e-d66e2d019afb"
      },
      "outputs": [
        {
          "output_type": "execute_result",
          "data": {
            "text/plain": [
              "No     8506\n",
              "Yes     734\n",
              "Name: Do_Not_Email, dtype: int64"
            ]
          },
          "metadata": {},
          "execution_count": 568
        }
      ],
      "source": [
        "#Checking categorical data\n",
        "dataset['Do_Not_Email'].value_counts()"
      ]
    },
    {
      "cell_type": "code",
      "execution_count": 569,
      "metadata": {
        "id": "txXYR4LsNBFl",
        "colab": {
          "base_uri": "https://localhost:8080/"
        },
        "outputId": "7c812f03-383d-49ac-b5dd-24bdeba95c5b"
      },
      "outputs": [
        {
          "output_type": "execute_result",
          "data": {
            "text/plain": [
              "Lead_Number                                       0.00\n",
              "Lead_Origin                                       0.00\n",
              "Lead_Source                                       0.39\n",
              "Do_Not_Email                                      0.00\n",
              "Do_Not_Call                                       0.00\n",
              "Converted                                         0.00\n",
              "TotalVisits                                       1.48\n",
              "Total_Time_Spent_on_Website                       0.00\n",
              "Page_Views_Per_Visit                              1.48\n",
              "Last_Activity                                     1.11\n",
              "Country                                          26.63\n",
              "Specialization                                   15.56\n",
              "How_did_you_hear_about_X_Education               23.89\n",
              "What_is_your_current_occupation                  29.11\n",
              "What_matters_most_to_you_in_choosing_a_course    29.32\n",
              "Search                                            0.00\n",
              "Magazine                                          0.00\n",
              "Newspaper_Article                                 0.00\n",
              "X_Education_Forums                                0.00\n",
              "Newspaper                                         0.00\n",
              "Digital_Advertisement                             0.00\n",
              "Through_Recommendations                           0.00\n",
              "Receive_More_Updates_About_Our_Courses            0.00\n",
              "Tags                                             36.29\n",
              "Update_me_on_Supply_Chain_Content                 0.00\n",
              "Get_updates_on_DM_Content                         0.00\n",
              "Lead_Profile                                     29.32\n",
              "City                                             15.37\n",
              "I_agree_to_pay_the_amount_through_cheque          0.00\n",
              "A_free_copy_of_Mastering_The_Interview            0.00\n",
              "Last_Notable_Activity                             0.00\n",
              "dtype: float64"
            ]
          },
          "metadata": {},
          "execution_count": 569
        }
      ],
      "source": [
        "round((dataset.isnull().sum())*100/(len(dataset)),2)"
      ]
    },
    {
      "cell_type": "code",
      "execution_count": 570,
      "metadata": {
        "id": "RkG2SKewMHjO",
        "colab": {
          "base_uri": "https://localhost:8080/"
        },
        "outputId": "aa0f8188-781f-40df-df90-4bccc171012b"
      },
      "outputs": [
        {
          "output_type": "execute_result",
          "data": {
            "text/plain": [
              "India                   6492\n",
              "United States             69\n",
              "United Arab Emirates      53\n",
              "Singapore                 24\n",
              "Saudi Arabia              21\n",
              "United Kingdom            15\n",
              "Australia                 13\n",
              "Qatar                     10\n",
              "Hong Kong                  7\n",
              "Bahrain                    7\n",
              "Oman                       6\n",
              "France                     6\n",
              "unknown                    5\n",
              "South Africa               4\n",
              "Nigeria                    4\n",
              "Germany                    4\n",
              "Kuwait                     4\n",
              "Canada                     4\n",
              "Sweden                     3\n",
              "China                      2\n",
              "Asia/Pacific Region        2\n",
              "Uganda                     2\n",
              "Bangladesh                 2\n",
              "Italy                      2\n",
              "Belgium                    2\n",
              "Netherlands                2\n",
              "Ghana                      2\n",
              "Philippines                2\n",
              "Russia                     1\n",
              "Switzerland                1\n",
              "Vietnam                    1\n",
              "Denmark                    1\n",
              "Tanzania                   1\n",
              "Liberia                    1\n",
              "Malaysia                   1\n",
              "Kenya                      1\n",
              "Sri Lanka                  1\n",
              "Indonesia                  1\n",
              "Name: Country, dtype: int64"
            ]
          },
          "metadata": {},
          "execution_count": 570
        }
      ],
      "source": [
        "dataset['Country'].value_counts()"
      ]
    },
    {
      "cell_type": "code",
      "execution_count": 571,
      "metadata": {
        "id": "hySvqG0vOGuj"
      },
      "outputs": [],
      "source": [
        "#Replacing null values with mode value . As COuntry India has max number of counts so replacing null values with India.\n",
        "dataset['Country']=dataset['Country'].fillna('India')"
      ]
    },
    {
      "cell_type": "code",
      "execution_count": 572,
      "metadata": {
        "id": "nmU4Y_1sPj4V",
        "colab": {
          "base_uri": "https://localhost:8080/"
        },
        "outputId": "1b45dc8b-2996-4782-9361-5de41f39d289"
      },
      "outputs": [
        {
          "output_type": "execute_result",
          "data": {
            "text/plain": [
              "0"
            ]
          },
          "metadata": {},
          "execution_count": 572
        }
      ],
      "source": [
        "#Checking null values \n",
        "dataset['Country'].isnull().sum()\n"
      ]
    },
    {
      "cell_type": "code",
      "execution_count": 573,
      "metadata": {
        "id": "kSdaVVudPm3m",
        "colab": {
          "base_uri": "https://localhost:8080/"
        },
        "outputId": "4c65dd3c-d0d2-4ca6-8eeb-a8337199881a"
      },
      "outputs": [
        {
          "output_type": "execute_result",
          "data": {
            "text/plain": [
              "Select                               1942\n",
              "Finance Management                    976\n",
              "Human Resource Management             848\n",
              "Marketing Management                  838\n",
              "Operations Management                 503\n",
              "Business Administration               403\n",
              "IT Projects Management                366\n",
              "Supply Chain Management               349\n",
              "Banking, Investment And Insurance     338\n",
              "Travel and Tourism                    203\n",
              "Media and Advertising                 203\n",
              "International Business                178\n",
              "Healthcare Management                 159\n",
              "Hospitality Management                114\n",
              "E-COMMERCE                            112\n",
              "Retail Management                     100\n",
              "Rural and Agribusiness                 73\n",
              "E-Business                             57\n",
              "Services Excellence                    40\n",
              "Name: Specialization, dtype: int64"
            ]
          },
          "metadata": {},
          "execution_count": 573
        }
      ],
      "source": [
        "#Checking category wise counts\n",
        "dataset['Specialization'].value_counts() "
      ]
    },
    {
      "cell_type": "code",
      "execution_count": 574,
      "metadata": {
        "id": "Q9iZ3Pn2P-Z_"
      },
      "outputs": [],
      "source": [
        "#Replacing 'Sample' category value with 'Not specified' values\n",
        "dataset['Specialization']=dataset['Specialization'].replace('Sample','Not Specified')"
      ]
    },
    {
      "cell_type": "code",
      "execution_count": 575,
      "metadata": {
        "id": "NNtuyWxlb52A"
      },
      "outputs": [],
      "source": [
        "#Replacing Null values with 'Not specified' values\n",
        "dataset['Specialization']=dataset['Specialization'].fillna('Not Specified')"
      ]
    },
    {
      "cell_type": "code",
      "execution_count": 576,
      "metadata": {
        "id": "sMYqqJ-hP-cv",
        "colab": {
          "base_uri": "https://localhost:8080/"
        },
        "outputId": "ba236328-aa5d-40bf-aa32-6c4adc89da34"
      },
      "outputs": [
        {
          "output_type": "execute_result",
          "data": {
            "text/plain": [
              "Select                               1942\n",
              "Not Specified                        1438\n",
              "Finance Management                    976\n",
              "Human Resource Management             848\n",
              "Marketing Management                  838\n",
              "Operations Management                 503\n",
              "Business Administration               403\n",
              "IT Projects Management                366\n",
              "Supply Chain Management               349\n",
              "Banking, Investment And Insurance     338\n",
              "Travel and Tourism                    203\n",
              "Media and Advertising                 203\n",
              "International Business                178\n",
              "Healthcare Management                 159\n",
              "Hospitality Management                114\n",
              "E-COMMERCE                            112\n",
              "Retail Management                     100\n",
              "Rural and Agribusiness                 73\n",
              "E-Business                             57\n",
              "Services Excellence                    40\n",
              "Name: Specialization, dtype: int64"
            ]
          },
          "metadata": {},
          "execution_count": 576
        }
      ],
      "source": [
        "dataset['Specialization'].value_counts()"
      ]
    },
    {
      "cell_type": "code",
      "execution_count": 577,
      "metadata": {
        "id": "4RT3qH-XP-ge",
        "colab": {
          "base_uri": "https://localhost:8080/"
        },
        "outputId": "e373dec1-1d72-45c9-bdce-dc9ed9e3d7eb"
      },
      "outputs": [
        {
          "output_type": "execute_result",
          "data": {
            "text/plain": [
              "Select                   5043\n",
              "Online Search             808\n",
              "Word Of Mouth             348\n",
              "Student of SomeSchool     310\n",
              "Other                     186\n",
              "Multiple Sources          152\n",
              "Advertisements             70\n",
              "Social Media               67\n",
              "Email                      26\n",
              "SMS                        23\n",
              "Name: How_did_you_hear_about_X_Education, dtype: int64"
            ]
          },
          "metadata": {},
          "execution_count": 577
        }
      ],
      "source": [
        "#Checking category wise counts\n",
        "dataset['How_did_you_hear_about_X_Education'].value_counts()"
      ]
    },
    {
      "cell_type": "code",
      "execution_count": 578,
      "metadata": {
        "id": "zllAYGMyRTVt"
      },
      "outputs": [],
      "source": [
        "#There are more than 50% records are 'Select' category so we can drop this column\n",
        "dataset=dataset.drop(['How_did_you_hear_about_X_Education'],axis=1)"
      ]
    },
    {
      "cell_type": "code",
      "execution_count": 579,
      "metadata": {
        "id": "ygpSWYTdSJCg",
        "colab": {
          "base_uri": "https://localhost:8080/"
        },
        "outputId": "a83fad2b-94f6-45a8-8050-7b6818710493"
      },
      "outputs": [
        {
          "output_type": "execute_result",
          "data": {
            "text/plain": [
              "Unemployed              5600\n",
              "Working Professional     706\n",
              "Student                  210\n",
              "Other                     16\n",
              "Housewife                 10\n",
              "Businessman                8\n",
              "Name: What_is_your_current_occupation, dtype: int64"
            ]
          },
          "metadata": {},
          "execution_count": 579
        }
      ],
      "source": [
        "#Checking category wise counts\n",
        "dataset['What_is_your_current_occupation'].value_counts()\n"
      ]
    },
    {
      "cell_type": "code",
      "execution_count": 580,
      "metadata": {
        "id": "Cg9iWgucSLZc"
      },
      "outputs": [],
      "source": [
        "#Replacing Null values with 'Unemployed' values i.e mode value of column\n",
        "dataset['What_is_your_current_occupation']=dataset['What_is_your_current_occupation'].fillna('Unemployed')"
      ]
    },
    {
      "cell_type": "code",
      "execution_count": 581,
      "metadata": {
        "id": "5Rz7JytpSoc_",
        "colab": {
          "base_uri": "https://localhost:8080/"
        },
        "outputId": "32dd294d-e67f-490b-eff0-788653b40363"
      },
      "outputs": [
        {
          "output_type": "execute_result",
          "data": {
            "text/plain": [
              "Better Career Prospects      6528\n",
              "Flexibility & Convenience       2\n",
              "Other                           1\n",
              "Name: What_matters_most_to_you_in_choosing_a_course, dtype: int64"
            ]
          },
          "metadata": {},
          "execution_count": 581
        }
      ],
      "source": [
        "#Checking category wise counts\n",
        "dataset['What_matters_most_to_you_in_choosing_a_course'].value_counts()\n"
      ]
    },
    {
      "cell_type": "code",
      "execution_count": 582,
      "metadata": {
        "id": "2hK7OjCeSqEa"
      },
      "outputs": [],
      "source": [
        "#As there is a data imbalance in 'What_matters_most_to_you_in_choosing_a_course' column so we can drop this column.\n",
        "dataset=dataset.drop(['What_matters_most_to_you_in_choosing_a_course'],axis=1)"
      ]
    },
    {
      "cell_type": "code",
      "execution_count": 583,
      "metadata": {
        "id": "Ezepa5iLTlUN",
        "colab": {
          "base_uri": "https://localhost:8080/"
        },
        "outputId": "13c338d7-eb27-4519-cd3e-00154ed45c39"
      },
      "outputs": [
        {
          "output_type": "execute_result",
          "data": {
            "text/plain": [
              "3353"
            ]
          },
          "metadata": {},
          "execution_count": 583
        }
      ],
      "source": [
        "#Checking Null values count\n",
        "dataset['Tags'].isnull().sum()"
      ]
    },
    {
      "cell_type": "code",
      "execution_count": 584,
      "metadata": {
        "id": "-W_9y3lgTULs",
        "colab": {
          "base_uri": "https://localhost:8080/"
        },
        "outputId": "a586700a-daa0-43d5-f473-666ceb749ce7"
      },
      "outputs": [
        {
          "output_type": "execute_result",
          "data": {
            "text/plain": [
              "Will revert after reading the email                  2072\n",
              "Ringing                                              1203\n",
              "Interested in other courses                           513\n",
              "Already a student                                     465\n",
              "Closed by Horizzon                                    358\n",
              "switched off                                          240\n",
              "Busy                                                  186\n",
              "Lost to EINS                                          175\n",
              "Not doing further education                           145\n",
              "Interested  in full time MBA                          117\n",
              "Graduation in progress                                111\n",
              "invalid number                                         83\n",
              "Diploma holder (Not Eligible)                          63\n",
              "wrong number given                                     47\n",
              "opp hangup                                             33\n",
              "number not provided                                    27\n",
              "in touch with EINS                                     12\n",
              "Lost to Others                                          7\n",
              "Still Thinking                                          6\n",
              "Want to take admission but has financial problems       6\n",
              "In confusion whether part time or DLP                   5\n",
              "Interested in Next batch                                5\n",
              "Lateral student                                         3\n",
              "Shall take in the next coming month                     2\n",
              "University not recognized                               2\n",
              "Recognition issue (DEC approval)                        1\n",
              "Name: Tags, dtype: int64"
            ]
          },
          "metadata": {},
          "execution_count": 584
        }
      ],
      "source": [
        "#Checking category wise counts\n",
        "dataset['Tags'].value_counts()"
      ]
    },
    {
      "cell_type": "code",
      "execution_count": 585,
      "metadata": {
        "id": "094SlxRBTUPY"
      },
      "outputs": [],
      "source": [
        "dataset['Tags']=dataset['Tags'].replace(np.nan,'Not Specified')"
      ]
    },
    {
      "cell_type": "code",
      "execution_count": 586,
      "metadata": {
        "id": "_srUwWp4VfpW",
        "colab": {
          "base_uri": "https://localhost:8080/"
        },
        "outputId": "74958a47-afc6-401c-f205-8fea5fbf4a5e"
      },
      "outputs": [
        {
          "output_type": "execute_result",
          "data": {
            "text/plain": [
              "Not Specified                                        3353\n",
              "Will revert after reading the email                  2072\n",
              "Ringing                                              1203\n",
              "Interested in other courses                           513\n",
              "Already a student                                     465\n",
              "Closed by Horizzon                                    358\n",
              "switched off                                          240\n",
              "Busy                                                  186\n",
              "Lost to EINS                                          175\n",
              "Not doing further education                           145\n",
              "Interested  in full time MBA                          117\n",
              "Graduation in progress                                111\n",
              "invalid number                                         83\n",
              "Diploma holder (Not Eligible)                          63\n",
              "wrong number given                                     47\n",
              "opp hangup                                             33\n",
              "number not provided                                    27\n",
              "in touch with EINS                                     12\n",
              "Lost to Others                                          7\n",
              "Still Thinking                                          6\n",
              "Want to take admission but has financial problems       6\n",
              "In confusion whether part time or DLP                   5\n",
              "Interested in Next batch                                5\n",
              "Lateral student                                         3\n",
              "Shall take in the next coming month                     2\n",
              "University not recognized                               2\n",
              "Recognition issue (DEC approval)                        1\n",
              "Name: Tags, dtype: int64"
            ]
          },
          "metadata": {},
          "execution_count": 586
        }
      ],
      "source": [
        "dataset['Tags'].value_counts()"
      ]
    },
    {
      "cell_type": "code",
      "execution_count": 587,
      "metadata": {
        "id": "Aqa-0KT0XZjL",
        "colab": {
          "base_uri": "https://localhost:8080/",
          "height": 632
        },
        "outputId": "e0410795-7d94-42b4-cb48-6fcb714e6299"
      },
      "outputs": [
        {
          "output_type": "stream",
          "name": "stderr",
          "text": [
            "/usr/local/lib/python3.8/dist-packages/seaborn/_decorators.py:36: FutureWarning: Pass the following variable as a keyword arg: x. From version 0.12, the only valid positional argument will be `data`, and passing other arguments without an explicit keyword will result in an error or misinterpretation.\n",
            "  warnings.warn(\n"
          ]
        },
        {
          "output_type": "display_data",
          "data": {
            "text/plain": [
              "<Figure size 1080x360 with 1 Axes>"
            ],
            "image/png": "[encoded data removed]"
          },
          "metadata": {
            "needs_background": "light"
          }
        }
      ],
      "source": [
        "import seaborn as sns\n",
        "plt.figure(figsize=(15,5))\n",
        "s1=sns.countplot(dataset['Tags'], hue=dataset.Converted)\n",
        "s1.set_xticklabels(s1.get_xticklabels(),rotation=90)\n",
        "plt.show()"
      ]
    },
    {
      "cell_type": "code",
      "execution_count": 588,
      "metadata": {
        "id": "Uv06kplPTUTF"
      },
      "outputs": [],
      "source": [
        "#Replcaing low frequency catgeories with Other_Tags category\n",
        "dataset['Tags']=dataset['Tags'].replace(['In confusion whether part time or DLP', 'in touch with EINS','Diploma holder (Not Eligible)',\n",
        "                                     'Approached upfront','Graduation in progress','number not provided', 'opp hangup','Still Thinking',\n",
        "                                    'Lost to Others','Shall take in the next coming month','Lateral student','Interested in Next batch',\n",
        "                                    'Recognition issue (DEC approval)','Want to take admission but has financial problems',\n",
        "                                    'University not recognized'], 'Other_Tags')"
      ]
    },
    {
      "cell_type": "code",
      "execution_count": 589,
      "metadata": {
        "id": "fbLe4uBGXiU4"
      },
      "outputs": [],
      "source": [
        "dataset['Tags']=dataset['Tags'].replace(['switched off',\n",
        "                                      'Already a student',\n",
        "                                       'Not doing further education',\n",
        "                                       'invalid number',\n",
        "                                       'wrong number given',\n",
        "                                       'Interested  in full time MBA'] , 'Other_Tags')"
      ]
    },
    {
      "cell_type": "code",
      "execution_count": 590,
      "metadata": {
        "id": "PT89fyRnWGCo",
        "colab": {
          "base_uri": "https://localhost:8080/"
        },
        "outputId": "e6658a0a-96af-4631-f801-e0d34ec6bfb4"
      },
      "outputs": [
        {
          "output_type": "execute_result",
          "data": {
            "text/plain": [
              "Not Specified                          3353\n",
              "Will revert after reading the email    2072\n",
              "Other_Tags                             1380\n",
              "Ringing                                1203\n",
              "Interested in other courses             513\n",
              "Closed by Horizzon                      358\n",
              "Busy                                    186\n",
              "Lost to EINS                            175\n",
              "Name: Tags, dtype: int64"
            ]
          },
          "metadata": {},
          "execution_count": 590
        }
      ],
      "source": [
        "dataset['Tags'].value_counts()"
      ]
    },
    {
      "cell_type": "code",
      "execution_count": 591,
      "metadata": {
        "id": "R7p-nD4rXk5j",
        "colab": {
          "base_uri": "https://localhost:8080/"
        },
        "outputId": "e7958a61-b976-46e4-f39b-df7d1bb41989"
      },
      "outputs": [
        {
          "output_type": "execute_result",
          "data": {
            "text/plain": [
              "Not Specified                          3353\n",
              "Will revert after reading the email    2072\n",
              "Other_Tags                             1380\n",
              "Ringing                                1203\n",
              "Interested in other courses             513\n",
              "Closed by Horizzon                      358\n",
              "Busy                                    186\n",
              "Lost to EINS                            175\n",
              "Name: Tags, dtype: int64"
            ]
          },
          "metadata": {},
          "execution_count": 591
        }
      ],
      "source": [
        "dataset['Tags'].value_counts()"
      ]
    },
    {
      "cell_type": "code",
      "execution_count": 592,
      "metadata": {
        "id": "lhYL-e-EYIDO",
        "colab": {
          "base_uri": "https://localhost:8080/",
          "height": 548
        },
        "outputId": "2b328bf5-14be-4d57-9f25-ddc8e6d81578"
      },
      "outputs": [
        {
          "output_type": "stream",
          "name": "stderr",
          "text": [
            "/usr/local/lib/python3.8/dist-packages/seaborn/_decorators.py:36: FutureWarning: Pass the following variable as a keyword arg: x. From version 0.12, the only valid positional argument will be `data`, and passing other arguments without an explicit keyword will result in an error or misinterpretation.\n",
            "  warnings.warn(\n"
          ]
        },
        {
          "output_type": "display_data",
          "data": {
            "text/plain": [
              "<Figure size 1080x360 with 1 Axes>"
            ],
            "image/png": "[encoded data removed]"
          },
          "metadata": {
            "needs_background": "light"
          }
        }
      ],
      "source": [
        "import seaborn as sns\n",
        "plt.figure(figsize=(15,5))\n",
        "s1=sns.countplot(dataset['Tags'], hue=dataset.Converted)\n",
        "s1.set_xticklabels(s1.get_xticklabels(),rotation=90)\n",
        "plt.show()"
      ]
    },
    {
      "cell_type": "code",
      "execution_count": 593,
      "metadata": {
        "id": "pcsVS2DHYIEl",
        "colab": {
          "base_uri": "https://localhost:8080/"
        },
        "outputId": "22492f5e-1422-482e-80b1-3049c175031a"
      },
      "outputs": [
        {
          "output_type": "execute_result",
          "data": {
            "text/plain": [
              "Select                         4146\n",
              "Potential Lead                 1613\n",
              "Other Leads                     487\n",
              "Student of SomeSchool           241\n",
              "Lateral Student                  24\n",
              "Dual Specialization Student      20\n",
              "Name: Lead_Profile, dtype: int64"
            ]
          },
          "metadata": {},
          "execution_count": 593
        }
      ],
      "source": [
        "#Checking category wise counts\n",
        "dataset['Lead_Profile'].value_counts()"
      ]
    },
    {
      "cell_type": "code",
      "execution_count": 594,
      "metadata": {
        "id": "Kwl_xRAYYIHE"
      },
      "outputs": [],
      "source": [
        "#Replacing 'Sample' category value with 'Not specified' values\n",
        "dataset['Lead_Profile']=dataset['Lead_Profile'].replace('Select','Not Specified')"
      ]
    },
    {
      "cell_type": "code",
      "execution_count": 595,
      "metadata": {
        "id": "jqZXhNWoaULU"
      },
      "outputs": [],
      "source": [
        "#Replacing Null value with 'Not specified' values\n",
        "dataset['Lead_Profile']=dataset['Lead_Profile'].fillna('Not Specified')"
      ]
    },
    {
      "cell_type": "code",
      "execution_count": 596,
      "metadata": {
        "id": "plGieF48YIKr",
        "colab": {
          "base_uri": "https://localhost:8080/"
        },
        "outputId": "7562f8cb-7370-4e76-82d6-384de1e9db88"
      },
      "outputs": [
        {
          "output_type": "execute_result",
          "data": {
            "text/plain": [
              "Not Specified                  6855\n",
              "Potential Lead                 1613\n",
              "Other Leads                     487\n",
              "Student of SomeSchool           241\n",
              "Lateral Student                  24\n",
              "Dual Specialization Student      20\n",
              "Name: Lead_Profile, dtype: int64"
            ]
          },
          "metadata": {},
          "execution_count": 596
        }
      ],
      "source": [
        "dataset['Lead_Profile'].value_counts()"
      ]
    },
    {
      "cell_type": "code",
      "execution_count": 597,
      "metadata": {
        "id": "C18teZ7Ya5s9"
      },
      "outputs": [],
      "source": [
        "#We will visualize and then drop LEad_profile column as there are more than 70% valeus are not specified"
      ]
    },
    {
      "cell_type": "code",
      "execution_count": 598,
      "metadata": {
        "id": "hvjeQV_rbDh6",
        "colab": {
          "base_uri": "https://localhost:8080/"
        },
        "outputId": "43907537-bad3-4d44-de5c-df072d04560a"
      },
      "outputs": [
        {
          "output_type": "execute_result",
          "data": {
            "text/plain": [
              "Mumbai                         3222\n",
              "Select                         2249\n",
              "Thane & Outskirts               752\n",
              "Other Cities                    686\n",
              "Other Cities of Maharashtra     457\n",
              "Other Metro Cities              380\n",
              "Tier II Cities                   74\n",
              "Name: City, dtype: int64"
            ]
          },
          "metadata": {},
          "execution_count": 598
        }
      ],
      "source": [
        "dataset['City'].value_counts()"
      ]
    },
    {
      "cell_type": "code",
      "execution_count": 599,
      "metadata": {
        "id": "ZgKcZk9xbDlX"
      },
      "outputs": [],
      "source": [
        "#Replacing 'Sample' category value with 'Not specified' values\n",
        "dataset['City']=dataset['City'].replace('Select','Not Specified')"
      ]
    },
    {
      "cell_type": "code",
      "execution_count": 600,
      "metadata": {
        "id": "fiL20mtLbQ22"
      },
      "outputs": [],
      "source": [
        "#Replacing Null value with 'Not specified' values\n",
        "dataset['City']=dataset['City'].fillna('Not Specified')"
      ]
    },
    {
      "cell_type": "code",
      "execution_count": 601,
      "metadata": {
        "id": "90-udyhKbfMe",
        "colab": {
          "base_uri": "https://localhost:8080/"
        },
        "outputId": "cb9f120f-4c21-4daa-9570-efd63dc068df"
      },
      "outputs": [
        {
          "output_type": "execute_result",
          "data": {
            "text/plain": [
              "Not Specified                  3669\n",
              "Mumbai                         3222\n",
              "Thane & Outskirts               752\n",
              "Other Cities                    686\n",
              "Other Cities of Maharashtra     457\n",
              "Other Metro Cities              380\n",
              "Tier II Cities                   74\n",
              "Name: City, dtype: int64"
            ]
          },
          "metadata": {},
          "execution_count": 601
        }
      ],
      "source": [
        "dataset['City'].value_counts()"
      ]
    },
    {
      "cell_type": "code",
      "execution_count": 602,
      "metadata": {
        "id": "gW3wgp0EbjYa",
        "colab": {
          "base_uri": "https://localhost:8080/"
        },
        "outputId": "811fd007-8e61-4fbf-a6e9-e09f236f6fff"
      },
      "outputs": [
        {
          "output_type": "execute_result",
          "data": {
            "text/plain": [
              "Lead_Number                                   0\n",
              "Lead_Origin                                   0\n",
              "Lead_Source                                  36\n",
              "Do_Not_Email                                  0\n",
              "Do_Not_Call                                   0\n",
              "Converted                                     0\n",
              "TotalVisits                                 137\n",
              "Total_Time_Spent_on_Website                   0\n",
              "Page_Views_Per_Visit                        137\n",
              "Last_Activity                               103\n",
              "Country                                       0\n",
              "Specialization                                0\n",
              "What_is_your_current_occupation               0\n",
              "Search                                        0\n",
              "Magazine                                      0\n",
              "Newspaper_Article                             0\n",
              "X_Education_Forums                            0\n",
              "Newspaper                                     0\n",
              "Digital_Advertisement                         0\n",
              "Through_Recommendations                       0\n",
              "Receive_More_Updates_About_Our_Courses        0\n",
              "Tags                                          0\n",
              "Update_me_on_Supply_Chain_Content             0\n",
              "Get_updates_on_DM_Content                     0\n",
              "Lead_Profile                                  0\n",
              "City                                          0\n",
              "I_agree_to_pay_the_amount_through_cheque      0\n",
              "A_free_copy_of_Mastering_The_Interview        0\n",
              "Last_Notable_Activity                         0\n",
              "dtype: int64"
            ]
          },
          "metadata": {},
          "execution_count": 602
        }
      ],
      "source": [
        "dataset.isnull().sum()"
      ]
    },
    {
      "cell_type": "code",
      "execution_count": 603,
      "metadata": {
        "id": "ySaZmIocbzYB",
        "colab": {
          "base_uri": "https://localhost:8080/"
        },
        "outputId": "9dcc2d80-98ee-41d6-bec1-f9130679abf2"
      },
      "outputs": [
        {
          "output_type": "execute_result",
          "data": {
            "text/plain": [
              "Google               2868\n",
              "Direct Traffic       2543\n",
              "Olark Chat           1755\n",
              "Organic Search       1154\n",
              "Reference             534\n",
              "Welingak Website      142\n",
              "Referral Sites        125\n",
              "Facebook               55\n",
              "bing                    6\n",
              "google                  5\n",
              "Click2call              4\n",
              "Press_Release           2\n",
              "Social Media            2\n",
              "Live Chat               2\n",
              "youtubechannel          1\n",
              "testone                 1\n",
              "Pay per Click Ads       1\n",
              "welearnblog_Home        1\n",
              "WeLearn                 1\n",
              "blog                    1\n",
              "NC_EDM                  1\n",
              "Name: Lead_Source, dtype: int64"
            ]
          },
          "metadata": {},
          "execution_count": 603
        }
      ],
      "source": [
        "dataset['Lead_Source'].value_counts()"
      ]
    },
    {
      "cell_type": "code",
      "execution_count": 604,
      "metadata": {
        "id": "4dpr0D-gctSz"
      },
      "outputs": [],
      "source": [
        "dataset['Lead_Source']=dataset['Lead_Source'].fillna('Google')"
      ]
    },
    {
      "cell_type": "code",
      "execution_count": 605,
      "metadata": {
        "id": "2KM-zvaXdIf0"
      },
      "outputs": [],
      "source": [
        "dataset['Lead_Source']=dataset['Lead_Source'].replace('google','Google')"
      ]
    },
    {
      "cell_type": "code",
      "execution_count": 606,
      "metadata": {
        "id": "QiNVGL2edLob",
        "colab": {
          "base_uri": "https://localhost:8080/"
        },
        "outputId": "c4875b36-3763-40c7-bd5d-a63db364035e"
      },
      "outputs": [
        {
          "output_type": "execute_result",
          "data": {
            "text/plain": [
              "Google               2909\n",
              "Direct Traffic       2543\n",
              "Olark Chat           1755\n",
              "Organic Search       1154\n",
              "Reference             534\n",
              "Welingak Website      142\n",
              "Referral Sites        125\n",
              "Facebook               55\n",
              "bing                    6\n",
              "Click2call              4\n",
              "Social Media            2\n",
              "Live Chat               2\n",
              "Press_Release           2\n",
              "Pay per Click Ads       1\n",
              "blog                    1\n",
              "WeLearn                 1\n",
              "welearnblog_Home        1\n",
              "youtubechannel          1\n",
              "testone                 1\n",
              "NC_EDM                  1\n",
              "Name: Lead_Source, dtype: int64"
            ]
          },
          "metadata": {},
          "execution_count": 606
        }
      ],
      "source": [
        "dataset['Lead_Source'].value_counts()"
      ]
    },
    {
      "cell_type": "code",
      "execution_count": 607,
      "metadata": {
        "id": "dRr8i8oedO-h",
        "colab": {
          "base_uri": "https://localhost:8080/"
        },
        "outputId": "7d938252-ce14-4fe6-db0d-b50c02d7e4de"
      },
      "outputs": [
        {
          "output_type": "execute_result",
          "data": {
            "text/plain": [
              "0.0      2189\n",
              "2.0      1680\n",
              "3.0      1306\n",
              "4.0      1120\n",
              "5.0       783\n",
              "6.0       466\n",
              "1.0       395\n",
              "7.0       309\n",
              "8.0       224\n",
              "9.0       164\n",
              "10.0      114\n",
              "11.0       86\n",
              "13.0       48\n",
              "12.0       45\n",
              "14.0       36\n",
              "16.0       21\n",
              "15.0       18\n",
              "17.0       16\n",
              "18.0       15\n",
              "20.0       12\n",
              "19.0        9\n",
              "21.0        6\n",
              "23.0        6\n",
              "24.0        5\n",
              "25.0        5\n",
              "27.0        5\n",
              "22.0        3\n",
              "29.0        2\n",
              "28.0        2\n",
              "26.0        2\n",
              "141.0       1\n",
              "55.0        1\n",
              "30.0        1\n",
              "43.0        1\n",
              "74.0        1\n",
              "41.0        1\n",
              "54.0        1\n",
              "115.0       1\n",
              "251.0       1\n",
              "32.0        1\n",
              "42.0        1\n",
              "Name: TotalVisits, dtype: int64"
            ]
          },
          "metadata": {},
          "execution_count": 607
        }
      ],
      "source": [
        "dataset['TotalVisits'].value_counts()"
      ]
    },
    {
      "cell_type": "code",
      "execution_count": 608,
      "metadata": {
        "id": "3-YfoMT7dafV",
        "colab": {
          "base_uri": "https://localhost:8080/"
        },
        "outputId": "707e5556-50c1-428f-d8a6-a07a4250f7ba"
      },
      "outputs": [
        {
          "output_type": "execute_result",
          "data": {
            "text/plain": [
              "3.45"
            ]
          },
          "metadata": {},
          "execution_count": 608
        }
      ],
      "source": [
        "round(np.mean(dataset['TotalVisits']),2)"
      ]
    },
    {
      "cell_type": "code",
      "execution_count": 609,
      "metadata": {
        "id": "FNKNYJRgPBr4"
      },
      "outputs": [],
      "source": [
        "dataset['TotalVisits']=dataset['TotalVisits'].fillna(3.0)\n"
      ]
    },
    {
      "cell_type": "code",
      "execution_count": 610,
      "metadata": {
        "id": "GBPvHaqsPovF",
        "colab": {
          "base_uri": "https://localhost:8080/"
        },
        "outputId": "71ad2645-77de-4b0c-d0d3-19506d44df92"
      },
      "outputs": [
        {
          "output_type": "execute_result",
          "data": {
            "text/plain": [
              "2.36"
            ]
          },
          "metadata": {},
          "execution_count": 610
        }
      ],
      "source": [
        "round(np.mean(dataset['Page_Views_Per_Visit']),2)"
      ]
    },
    {
      "cell_type": "code",
      "execution_count": 611,
      "metadata": {
        "id": "ExK38qLnXFwf"
      },
      "outputs": [],
      "source": [
        "dataset['Specialization']=dataset['Specialization'].replace('Select','Not Specified')\n"
      ]
    },
    {
      "cell_type": "code",
      "execution_count": 612,
      "metadata": {
        "id": "fzZumHgOXOnU",
        "colab": {
          "base_uri": "https://localhost:8080/"
        },
        "outputId": "3e7e2a09-cfe9-4f58-9a68-a1984e161966"
      },
      "outputs": [
        {
          "output_type": "execute_result",
          "data": {
            "text/plain": [
              "Not Specified                        3380\n",
              "Finance Management                    976\n",
              "Human Resource Management             848\n",
              "Marketing Management                  838\n",
              "Operations Management                 503\n",
              "Business Administration               403\n",
              "IT Projects Management                366\n",
              "Supply Chain Management               349\n",
              "Banking, Investment And Insurance     338\n",
              "Travel and Tourism                    203\n",
              "Media and Advertising                 203\n",
              "International Business                178\n",
              "Healthcare Management                 159\n",
              "Hospitality Management                114\n",
              "E-COMMERCE                            112\n",
              "Retail Management                     100\n",
              "Rural and Agribusiness                 73\n",
              "E-Business                             57\n",
              "Services Excellence                    40\n",
              "Name: Specialization, dtype: int64"
            ]
          },
          "metadata": {},
          "execution_count": 612
        }
      ],
      "source": [
        "dataset['Specialization'].value_counts()"
      ]
    },
    {
      "cell_type": "code",
      "execution_count": 613,
      "metadata": {
        "id": "pKbHYOasPr1s"
      },
      "outputs": [],
      "source": [
        "dataset['Page_Views_Per_Visit']=dataset['Page_Views_Per_Visit'].fillna(2.36)"
      ]
    },
    {
      "cell_type": "code",
      "execution_count": 614,
      "metadata": {
        "id": "KLEIEXc0QLjh",
        "colab": {
          "base_uri": "https://localhost:8080/"
        },
        "outputId": "e49473e6-3611-4676-a867-574b48bad12b"
      },
      "outputs": [
        {
          "output_type": "execute_result",
          "data": {
            "text/plain": [
              "Email Opened                    3437\n",
              "SMS Sent                        2745\n",
              "Olark Chat Conversation          973\n",
              "Page Visited on Website          640\n",
              "Converted to Lead                428\n",
              "Email Bounced                    326\n",
              "Email Link Clicked               267\n",
              "Form Submitted on Website        116\n",
              "Unreachable                       93\n",
              "Unsubscribed                      61\n",
              "Had a Phone Conversation          30\n",
              "Approached upfront                 9\n",
              "View in browser link Clicked       6\n",
              "Email Received                     2\n",
              "Email Marked Spam                  2\n",
              "Visited Booth in Tradeshow         1\n",
              "Resubscribed to emails             1\n",
              "Name: Last_Activity, dtype: int64"
            ]
          },
          "metadata": {},
          "execution_count": 614
        }
      ],
      "source": [
        "dataset['Last_Activity'].value_counts()\n",
        "  "
      ]
    },
    {
      "cell_type": "code",
      "execution_count": 615,
      "metadata": {
        "id": "3WKU7KHhQcfx"
      },
      "outputs": [],
      "source": [
        "dataset['Last_Activity']=dataset['Last_Activity'].fillna('Others')"
      ]
    },
    {
      "cell_type": "code",
      "execution_count": 616,
      "metadata": {
        "id": "IXCTzusKQyGn",
        "colab": {
          "base_uri": "https://localhost:8080/"
        },
        "outputId": "7b761f24-be11-4f88-a872-144b451f5b2b"
      },
      "outputs": [
        {
          "output_type": "execute_result",
          "data": {
            "text/plain": [
              "0"
            ]
          },
          "metadata": {},
          "execution_count": 616
        }
      ],
      "source": [
        "dataset['Last_Activity'].isnull().sum()"
      ]
    },
    {
      "cell_type": "code",
      "execution_count": 617,
      "metadata": {
        "id": "_rY2ziggQ4JJ",
        "colab": {
          "base_uri": "https://localhost:8080/"
        },
        "outputId": "d056556b-de22-4882-c878-ba000394f8f5"
      },
      "outputs": [
        {
          "output_type": "execute_result",
          "data": {
            "text/plain": [
              "Lead_Number                                 0\n",
              "Lead_Origin                                 0\n",
              "Lead_Source                                 0\n",
              "Do_Not_Email                                0\n",
              "Do_Not_Call                                 0\n",
              "Converted                                   0\n",
              "TotalVisits                                 0\n",
              "Total_Time_Spent_on_Website                 0\n",
              "Page_Views_Per_Visit                        0\n",
              "Last_Activity                               0\n",
              "Country                                     0\n",
              "Specialization                              0\n",
              "What_is_your_current_occupation             0\n",
              "Search                                      0\n",
              "Magazine                                    0\n",
              "Newspaper_Article                           0\n",
              "X_Education_Forums                          0\n",
              "Newspaper                                   0\n",
              "Digital_Advertisement                       0\n",
              "Through_Recommendations                     0\n",
              "Receive_More_Updates_About_Our_Courses      0\n",
              "Tags                                        0\n",
              "Update_me_on_Supply_Chain_Content           0\n",
              "Get_updates_on_DM_Content                   0\n",
              "Lead_Profile                                0\n",
              "City                                        0\n",
              "I_agree_to_pay_the_amount_through_cheque    0\n",
              "A_free_copy_of_Mastering_The_Interview      0\n",
              "Last_Notable_Activity                       0\n",
              "dtype: int64"
            ]
          },
          "metadata": {},
          "execution_count": 617
        }
      ],
      "source": [
        "dataset.isnull().sum()"
      ]
    },
    {
      "cell_type": "markdown",
      "metadata": {
        "id": "uCF91rScRAqX"
      },
      "source": [
        "#Check data imbalance"
      ]
    },
    {
      "cell_type": "code",
      "execution_count": 618,
      "metadata": {
        "id": "nwY2Mog-Q7gr",
        "colab": {
          "base_uri": "https://localhost:8080/"
        },
        "outputId": "af4c85c9-46c0-4d4c-a980-6630f9ca6c07"
      },
      "outputs": [
        {
          "output_type": "stream",
          "name": "stdout",
          "text": [
            "<class 'pandas.core.frame.DataFrame'>\n",
            "RangeIndex: 9240 entries, 0 to 9239\n",
            "Data columns (total 29 columns):\n",
            " #   Column                                    Non-Null Count  Dtype  \n",
            "---  ------                                    --------------  -----  \n",
            " 0   Lead_Number                               9240 non-null   int64  \n",
            " 1   Lead_Origin                               9240 non-null   object \n",
            " 2   Lead_Source                               9240 non-null   object \n",
            " 3   Do_Not_Email                              9240 non-null   object \n",
            " 4   Do_Not_Call                               9240 non-null   object \n",
            " 5   Converted                                 9240 non-null   int64  \n",
            " 6   TotalVisits                               9240 non-null   float64\n",
            " 7   Total_Time_Spent_on_Website               9240 non-null   int64  \n",
            " 8   Page_Views_Per_Visit                      9240 non-null   float64\n",
            " 9   Last_Activity                             9240 non-null   object \n",
            " 10  Country                                   9240 non-null   object \n",
            " 11  Specialization                            9240 non-null   object \n",
            " 12  What_is_your_current_occupation           9240 non-null   object \n",
            " 13  Search                                    9240 non-null   object \n",
            " 14  Magazine                                  9240 non-null   object \n",
            " 15  Newspaper_Article                         9240 non-null   object \n",
            " 16  X_Education_Forums                        9240 non-null   object \n",
            " 17  Newspaper                                 9240 non-null   object \n",
            " 18  Digital_Advertisement                     9240 non-null   object \n",
            " 19  Through_Recommendations                   9240 non-null   object \n",
            " 20  Receive_More_Updates_About_Our_Courses    9240 non-null   object \n",
            " 21  Tags                                      9240 non-null   object \n",
            " 22  Update_me_on_Supply_Chain_Content         9240 non-null   object \n",
            " 23  Get_updates_on_DM_Content                 9240 non-null   object \n",
            " 24  Lead_Profile                              9240 non-null   object \n",
            " 25  City                                      9240 non-null   object \n",
            " 26  I_agree_to_pay_the_amount_through_cheque  9240 non-null   object \n",
            " 27  A_free_copy_of_Mastering_The_Interview    9240 non-null   object \n",
            " 28  Last_Notable_Activity                     9240 non-null   object \n",
            "dtypes: float64(2), int64(3), object(24)\n",
            "memory usage: 2.0+ MB\n"
          ]
        }
      ],
      "source": [
        "dataset.info()"
      ]
    },
    {
      "cell_type": "code",
      "execution_count": 619,
      "metadata": {
        "id": "vPDBOSdERVWZ",
        "colab": {
          "base_uri": "https://localhost:8080/",
          "height": 490
        },
        "outputId": "62026791-2416-491e-ef19-2ecd87c35d3c"
      },
      "outputs": [
        {
          "output_type": "execute_result",
          "data": {
            "text/plain": [
              "   Lead_Number              Lead_Origin     Lead_Source Do_Not_Email  \\\n",
              "0       660737                      API      Olark Chat           No   \n",
              "1       660728                      API  Organic Search           No   \n",
              "2       660727  Landing Page Submission  Direct Traffic           No   \n",
              "3       660719  Landing Page Submission  Direct Traffic           No   \n",
              "4       660681  Landing Page Submission          Google           No   \n",
              "\n",
              "  Do_Not_Call  Converted  TotalVisits  Total_Time_Spent_on_Website  \\\n",
              "0          No          0          0.0                            0   \n",
              "1          No          0          5.0                          674   \n",
              "2          No          1          2.0                         1532   \n",
              "3          No          0          1.0                          305   \n",
              "4          No          1          2.0                         1428   \n",
              "\n",
              "   Page_Views_Per_Visit            Last_Activity  ... Through_Recommendations  \\\n",
              "0                   0.0  Page Visited on Website  ...                      No   \n",
              "1                   2.5             Email Opened  ...                      No   \n",
              "2                   2.0             Email Opened  ...                      No   \n",
              "3                   1.0              Unreachable  ...                      No   \n",
              "4                   1.0        Converted to Lead  ...                      No   \n",
              "\n",
              "  Receive_More_Updates_About_Our_Courses                                 Tags  \\\n",
              "0                                     No          Interested in other courses   \n",
              "1                                     No                              Ringing   \n",
              "2                                     No  Will revert after reading the email   \n",
              "3                                     No                              Ringing   \n",
              "4                                     No  Will revert after reading the email   \n",
              "\n",
              "  Update_me_on_Supply_Chain_Content Get_updates_on_DM_Content    Lead_Profile  \\\n",
              "0                                No                        No   Not Specified   \n",
              "1                                No                        No   Not Specified   \n",
              "2                                No                        No  Potential Lead   \n",
              "3                                No                        No   Not Specified   \n",
              "4                                No                        No   Not Specified   \n",
              "\n",
              "            City I_agree_to_pay_the_amount_through_cheque  \\\n",
              "0  Not Specified                                       No   \n",
              "1  Not Specified                                       No   \n",
              "2         Mumbai                                       No   \n",
              "3         Mumbai                                       No   \n",
              "4         Mumbai                                       No   \n",
              "\n",
              "  A_free_copy_of_Mastering_The_Interview Last_Notable_Activity  \n",
              "0                                     No              Modified  \n",
              "1                                     No          Email Opened  \n",
              "2                                    Yes          Email Opened  \n",
              "3                                     No              Modified  \n",
              "4                                     No              Modified  \n",
              "\n",
              "[5 rows x 29 columns]"
            ],
            "text/html": [
              "\n",
              "  <div id=\"df-2099acf9-ec24-43c1-a940-e9fdbb180904\">\n",
              "    <div class=\"colab-df-container\">\n",
              "      <div>\n",
              "<style scoped>\n",
              "    .dataframe tbody tr th:only-of-type {\n",
              "        vertical-align: middle;\n",
              "    }\n",
              "\n",
              "    .dataframe tbody tr th {\n",
              "        vertical-align: top;\n",
              "    }\n",
              "\n",
              "    .dataframe thead th {\n",
              "        text-align: right;\n",
              "    }\n",
              "</style>\n",
              "<table border=\"1\" class=\"dataframe\">\n",
              "  <thead>\n",
              "    <tr style=\"text-align: right;\">\n",
              "      <th></th>\n",
              "      <th>Lead_Number</th>\n",
              "      <th>Lead_Origin</th>\n",
              "      <th>Lead_Source</th>\n",
              "      <th>Do_Not_Email</th>\n",
              "      <th>Do_Not_Call</th>\n",
              "      <th>Converted</th>\n",
              "      <th>TotalVisits</th>\n",
              "      <th>Total_Time_Spent_on_Website</th>\n",
              "      <th>Page_Views_Per_Visit</th>\n",
              "      <th>Last_Activity</th>\n",
              "      <th>...</th>\n",
              "      <th>Through_Recommendations</th>\n",
              "      <th>Receive_More_Updates_About_Our_Courses</th>\n",
              "      <th>Tags</th>\n",
              "      <th>Update_me_on_Supply_Chain_Content</th>\n",
              "      <th>Get_updates_on_DM_Content</th>\n",
              "      <th>Lead_Profile</th>\n",
              "      <th>City</th>\n",
              "      <th>I_agree_to_pay_the_amount_through_cheque</th>\n",
              "      <th>A_free_copy_of_Mastering_The_Interview</th>\n",
              "      <th>Last_Notable_Activity</th>\n",
              "    </tr>\n",
              "  </thead>\n",
              "  <tbody>\n",
              "    <tr>\n",
              "      <th>0</th>\n",
              "      <td>660737</td>\n",
              "      <td>API</td>\n",
              "      <td>Olark Chat</td>\n",
              "      <td>No</td>\n",
              "      <td>No</td>\n",
              "      <td>0</td>\n",
              "      <td>0.0</td>\n",
              "      <td>0</td>\n",
              "      <td>0.0</td>\n",
              "      <td>Page Visited on Website</td>\n",
              "      <td>...</td>\n",
              "      <td>No</td>\n",
              "      <td>No</td>\n",
              "      <td>Interested in other courses</td>\n",
              "      <td>No</td>\n",
              "      <td>No</td>\n",
              "      <td>Not Specified</td>\n",
              "      <td>Not Specified</td>\n",
              "      <td>No</td>\n",
              "      <td>No</td>\n",
              "      <td>Modified</td>\n",
              "    </tr>\n",
              "    <tr>\n",
              "      <th>1</th>\n",
              "      <td>660728</td>\n",
              "      <td>API</td>\n",
              "      <td>Organic Search</td>\n",
              "      <td>No</td>\n",
              "      <td>No</td>\n",
              "      <td>0</td>\n",
              "      <td>5.0</td>\n",
              "      <td>674</td>\n",
              "      <td>2.5</td>\n",
              "      <td>Email Opened</td>\n",
              "      <td>...</td>\n",
              "      <td>No</td>\n",
              "      <td>No</td>\n",
              "      <td>Ringing</td>\n",
              "      <td>No</td>\n",
              "      <td>No</td>\n",
              "      <td>Not Specified</td>\n",
              "      <td>Not Specified</td>\n",
              "      <td>No</td>\n",
              "      <td>No</td>\n",
              "      <td>Email Opened</td>\n",
              "    </tr>\n",
              "    <tr>\n",
              "      <th>2</th>\n",
              "      <td>660727</td>\n",
              "      <td>Landing Page Submission</td>\n",
              "      <td>Direct Traffic</td>\n",
              "      <td>No</td>\n",
              "      <td>No</td>\n",
              "      <td>1</td>\n",
              "      <td>2.0</td>\n",
              "      <td>1532</td>\n",
              "      <td>2.0</td>\n",
              "      <td>Email Opened</td>\n",
              "      <td>...</td>\n",
              "      <td>No</td>\n",
              "      <td>No</td>\n",
              "      <td>Will revert after reading the email</td>\n",
              "      <td>No</td>\n",
              "      <td>No</td>\n",
              "      <td>Potential Lead</td>\n",
              "      <td>Mumbai</td>\n",
              "      <td>No</td>\n",
              "      <td>Yes</td>\n",
              "      <td>Email Opened</td>\n",
              "    </tr>\n",
              "    <tr>\n",
              "      <th>3</th>\n",
              "      <td>660719</td>\n",
              "      <td>Landing Page Submission</td>\n",
              "      <td>Direct Traffic</td>\n",
              "      <td>No</td>\n",
              "      <td>No</td>\n",
              "      <td>0</td>\n",
              "      <td>1.0</td>\n",
              "      <td>305</td>\n",
              "      <td>1.0</td>\n",
              "      <td>Unreachable</td>\n",
              "      <td>...</td>\n",
              "      <td>No</td>\n",
              "      <td>No</td>\n",
              "      <td>Ringing</td>\n",
              "      <td>No</td>\n",
              "      <td>No</td>\n",
              "      <td>Not Specified</td>\n",
              "      <td>Mumbai</td>\n",
              "      <td>No</td>\n",
              "      <td>No</td>\n",
              "      <td>Modified</td>\n",
              "    </tr>\n",
              "    <tr>\n",
              "      <th>4</th>\n",
              "      <td>660681</td>\n",
              "      <td>Landing Page Submission</td>\n",
              "      <td>Google</td>\n",
              "      <td>No</td>\n",
              "      <td>No</td>\n",
              "      <td>1</td>\n",
              "      <td>2.0</td>\n",
              "      <td>1428</td>\n",
              "      <td>1.0</td>\n",
              "      <td>Converted to Lead</td>\n",
              "      <td>...</td>\n",
              "      <td>No</td>\n",
              "      <td>No</td>\n",
              "      <td>Will revert after reading the email</td>\n",
              "      <td>No</td>\n",
              "      <td>No</td>\n",
              "      <td>Not Specified</td>\n",
              "      <td>Mumbai</td>\n",
              "      <td>No</td>\n",
              "      <td>No</td>\n",
              "      <td>Modified</td>\n",
              "    </tr>\n",
              "  </tbody>\n",
              "</table>\n",
              "<p>5 rows × 29 columns</p>\n",
              "</div>\n",
              "      <button class=\"colab-df-convert\" onclick=\"convertToInteractive('df-2099acf9-ec24-43c1-a940-e9fdbb180904')\"\n",
              "              title=\"Convert this dataframe to an interactive table.\"\n",
              "              style=\"display:none;\">\n",
              "        \n",
              "  <svg xmlns=\"http://www.w3.org/2000/svg\" height=\"24px\"viewBox=\"0 0 24 24\"\n",
              "       width=\"24px\">\n",
              "    <path d=\"M0 0h24v24H0V0z\" fill=\"none\"/>\n",
              "    <path d=\"M18.56 5.44l.94 2.06.94-2.06 2.06-.94-2.06-.94-.94-2.06-.94 2.06-2.06.94zm-11 1L8.5 8.5l.94-2.06 2.06-.94-2.06-.94L8.5 2.5l-.94 2.06-2.06.94zm10 10l.94 2.06.94-2.06 2.06-.94-2.06-.94-.94-2.06-.94 2.06-2.06.94z\"/><path d=\"M17.41 7.96l-1.37-1.37c-.4-.4-.92-.59-1.43-.59-.52 0-1.04.2-1.43.59L10.3 9.45l-7.72 7.72c-.78.78-.78 2.05 0 2.83L4 21.41c.39.39.9.59 1.41.59.51 0 1.02-.2 1.41-.59l7.78-7.78 2.81-2.81c.8-.78.8-2.07 0-2.86zM5.41 20L4 18.59l7.72-7.72 1.47 1.35L5.41 20z\"/>\n",
              "  </svg>\n",
              "      </button>\n",
              "      \n",
              "  <style>\n",
              "    .colab-df-container {\n",
              "      display:flex;\n",
              "      flex-wrap:wrap;\n",
              "      gap: 12px;\n",
              "    }\n",
              "\n",
              "    .colab-df-convert {\n",
              "      background-color: #E8F0FE;\n",
              "      border: none;\n",
              "      border-radius: 50%;\n",
              "      cursor: pointer;\n",
              "      display: none;\n",
              "      fill: #1967D2;\n",
              "      height: 32px;\n",
              "      padding: 0 0 0 0;\n",
              "      width: 32px;\n",
              "    }\n",
              "\n",
              "    .colab-df-convert:hover {\n",
              "      background-color: #E2EBFA;\n",
              "      box-shadow: 0px 1px 2px rgba(60, 64, 67, 0.3), 0px 1px 3px 1px rgba(60, 64, 67, 0.15);\n",
              "      fill: #174EA6;\n",
              "    }\n",
              "\n",
              "    [theme=dark] .colab-df-convert {\n",
              "      background-color: #3B4455;\n",
              "      fill: #D2E3FC;\n",
              "    }\n",
              "\n",
              "    [theme=dark] .colab-df-convert:hover {\n",
              "      background-color: #434B5C;\n",
              "      box-shadow: 0px 1px 3px 1px rgba(0, 0, 0, 0.15);\n",
              "      filter: drop-shadow(0px 1px 2px rgba(0, 0, 0, 0.3));\n",
              "      fill: #FFFFFF;\n",
              "    }\n",
              "  </style>\n",
              "\n",
              "      <script>\n",
              "        const buttonEl =\n",
              "          document.querySelector('#df-2099acf9-ec24-43c1-a940-e9fdbb180904 button.colab-df-convert');\n",
              "        buttonEl.style.display =\n",
              "          google.colab.kernel.accessAllowed ? 'block' : 'none';\n",
              "\n",
              "        async function convertToInteractive(key) {\n",
              "          const element = document.querySelector('#df-2099acf9-ec24-43c1-a940-e9fdbb180904');\n",
              "          const dataTable =\n",
              "            await google.colab.kernel.invokeFunction('convertToInteractive',\n",
              "                                                     [key], {});\n",
              "          if (!dataTable) return;\n",
              "\n",
              "          const docLinkHtml = 'Like what you see? Visit the ' +\n",
              "            '<a target=\"_blank\" href=https://colab.research.google.com/notebooks/data_table.ipynb>data table notebook</a>'\n",
              "            + ' to learn more about interactive tables.';\n",
              "          element.innerHTML = '';\n",
              "          dataTable['output_type'] = 'display_data';\n",
              "          await google.colab.output.renderOutput(dataTable, element);\n",
              "          const docLink = document.createElement('div');\n",
              "          docLink.innerHTML = docLinkHtml;\n",
              "          element.appendChild(docLink);\n",
              "        }\n",
              "      </script>\n",
              "    </div>\n",
              "  </div>\n",
              "  "
            ]
          },
          "metadata": {},
          "execution_count": 619
        }
      ],
      "source": [
        "dataset.head()"
      ]
    },
    {
      "cell_type": "code",
      "execution_count": 620,
      "metadata": {
        "id": "jMvIyAJwRM7g",
        "colab": {
          "base_uri": "https://localhost:8080/"
        },
        "outputId": "1c94644f-aeb3-497f-b1bb-f08ab3f64293"
      },
      "outputs": [
        {
          "output_type": "execute_result",
          "data": {
            "text/plain": [
              "No     9226\n",
              "Yes      14\n",
              "Name: Search, dtype: int64"
            ]
          },
          "metadata": {},
          "execution_count": 620
        }
      ],
      "source": [
        "dataset['Search'].value_counts()"
      ]
    },
    {
      "cell_type": "code",
      "execution_count": 621,
      "metadata": {
        "id": "pmNuXpRPRmoE",
        "colab": {
          "base_uri": "https://localhost:8080/"
        },
        "outputId": "b1003367-9c75-4e36-b163-81bc990a23c4"
      },
      "outputs": [
        {
          "output_type": "execute_result",
          "data": {
            "text/plain": [
              "No     9238\n",
              "Yes       2\n",
              "Name: Do_Not_Call, dtype: int64"
            ]
          },
          "metadata": {},
          "execution_count": 621
        }
      ],
      "source": [
        "dataset['Do_Not_Call'].value_counts()"
      ]
    },
    {
      "cell_type": "code",
      "execution_count": 622,
      "metadata": {
        "id": "715v6gUcRuzO",
        "colab": {
          "base_uri": "https://localhost:8080/"
        },
        "outputId": "a2507c08-51ad-418c-806c-591436a47237"
      },
      "outputs": [
        {
          "output_type": "execute_result",
          "data": {
            "text/plain": [
              "No     9233\n",
              "Yes       7\n",
              "Name: Through_Recommendations, dtype: int64"
            ]
          },
          "metadata": {},
          "execution_count": 622
        }
      ],
      "source": [
        "dataset['Through_Recommendations'].value_counts()\n"
      ]
    },
    {
      "cell_type": "code",
      "execution_count": 623,
      "metadata": {
        "id": "GLEjsfN5SMBr",
        "colab": {
          "base_uri": "https://localhost:8080/"
        },
        "outputId": "b71b6303-ec95-408f-e33b-e4f5a8761734"
      },
      "outputs": [
        {
          "output_type": "execute_result",
          "data": {
            "text/plain": [
              "No    9240\n",
              "Name: Receive_More_Updates_About_Our_Courses, dtype: int64"
            ]
          },
          "metadata": {},
          "execution_count": 623
        }
      ],
      "source": [
        "dataset['Receive_More_Updates_About_Our_Courses'].value_counts()\n"
      ]
    },
    {
      "cell_type": "code",
      "execution_count": 624,
      "metadata": {
        "id": "h6BafcgRSUJP",
        "colab": {
          "base_uri": "https://localhost:8080/"
        },
        "outputId": "f55760a7-a172-4d9d-d4bb-1cad0781f803"
      },
      "outputs": [
        {
          "output_type": "execute_result",
          "data": {
            "text/plain": [
              "No    9240\n",
              "Name: Update_me_on_Supply_Chain_Content, dtype: int64"
            ]
          },
          "metadata": {},
          "execution_count": 624
        }
      ],
      "source": [
        "dataset['Update_me_on_Supply_Chain_Content'].value_counts()\n"
      ]
    },
    {
      "cell_type": "code",
      "execution_count": 625,
      "metadata": {
        "id": "K5QDEOKDSdp2",
        "colab": {
          "base_uri": "https://localhost:8080/"
        },
        "outputId": "a2278eca-7c92-4822-f413-06951f8bb24d"
      },
      "outputs": [
        {
          "output_type": "execute_result",
          "data": {
            "text/plain": [
              "No    9240\n",
              "Name: Get_updates_on_DM_Content, dtype: int64"
            ]
          },
          "metadata": {},
          "execution_count": 625
        }
      ],
      "source": [
        "dataset['Get_updates_on_DM_Content'].value_counts()\n"
      ]
    },
    {
      "cell_type": "code",
      "execution_count": 626,
      "metadata": {
        "id": "e5gqN0pZSkOp",
        "colab": {
          "base_uri": "https://localhost:8080/"
        },
        "outputId": "57916d9e-b71e-4d53-da00-a1ed80445de0"
      },
      "outputs": [
        {
          "output_type": "execute_result",
          "data": {
            "text/plain": [
              "No    9240\n",
              "Name: I_agree_to_pay_the_amount_through_cheque, dtype: int64"
            ]
          },
          "metadata": {},
          "execution_count": 626
        }
      ],
      "source": [
        "dataset['I_agree_to_pay_the_amount_through_cheque'].value_counts()\n"
      ]
    },
    {
      "cell_type": "code",
      "execution_count": 627,
      "metadata": {
        "id": "7TCn5IXrSqkw",
        "colab": {
          "base_uri": "https://localhost:8080/"
        },
        "outputId": "107e7710-b974-4910-b094-29f9af481ea9"
      },
      "outputs": [
        {
          "output_type": "execute_result",
          "data": {
            "text/plain": [
              "No     6352\n",
              "Yes    2888\n",
              "Name: A_free_copy_of_Mastering_The_Interview, dtype: int64"
            ]
          },
          "metadata": {},
          "execution_count": 627
        }
      ],
      "source": [
        "dataset['A_free_copy_of_Mastering_The_Interview'].value_counts()\n"
      ]
    },
    {
      "cell_type": "code",
      "execution_count": 628,
      "metadata": {
        "id": "UyuU67rjSx7N",
        "colab": {
          "base_uri": "https://localhost:8080/"
        },
        "outputId": "b9778559-4079-418a-a38c-c1f38b6669f7"
      },
      "outputs": [
        {
          "output_type": "execute_result",
          "data": {
            "text/plain": [
              "India                   8953\n",
              "United States             69\n",
              "United Arab Emirates      53\n",
              "Singapore                 24\n",
              "Saudi Arabia              21\n",
              "United Kingdom            15\n",
              "Australia                 13\n",
              "Qatar                     10\n",
              "Hong Kong                  7\n",
              "Bahrain                    7\n",
              "Oman                       6\n",
              "France                     6\n",
              "unknown                    5\n",
              "South Africa               4\n",
              "Nigeria                    4\n",
              "Germany                    4\n",
              "Kuwait                     4\n",
              "Canada                     4\n",
              "Sweden                     3\n",
              "China                      2\n",
              "Asia/Pacific Region        2\n",
              "Uganda                     2\n",
              "Bangladesh                 2\n",
              "Italy                      2\n",
              "Belgium                    2\n",
              "Netherlands                2\n",
              "Ghana                      2\n",
              "Philippines                2\n",
              "Russia                     1\n",
              "Switzerland                1\n",
              "Vietnam                    1\n",
              "Denmark                    1\n",
              "Tanzania                   1\n",
              "Liberia                    1\n",
              "Malaysia                   1\n",
              "Kenya                      1\n",
              "Sri Lanka                  1\n",
              "Indonesia                  1\n",
              "Name: Country, dtype: int64"
            ]
          },
          "metadata": {},
          "execution_count": 628
        }
      ],
      "source": [
        "dataset['Country'].value_counts()\n"
      ]
    },
    {
      "cell_type": "code",
      "execution_count": 629,
      "metadata": {
        "id": "L5BM5NxmTFRe",
        "colab": {
          "base_uri": "https://localhost:8080/",
          "height": 486
        },
        "outputId": "c1e1deba-e536-40b3-b07e-13b08508bbfa"
      },
      "outputs": [
        {
          "output_type": "stream",
          "name": "stderr",
          "text": [
            "/usr/local/lib/python3.8/dist-packages/seaborn/_decorators.py:36: FutureWarning: Pass the following variable as a keyword arg: x. From version 0.12, the only valid positional argument will be `data`, and passing other arguments without an explicit keyword will result in an error or misinterpretation.\n",
            "  warnings.warn(\n"
          ]
        },
        {
          "output_type": "display_data",
          "data": {
            "text/plain": [
              "<Figure size 1080x360 with 1 Axes>"
            ],
            "image/png": "[encoded data removed]"
          },
          "metadata": {
            "needs_background": "light"
          }
        }
      ],
      "source": [
        "plt.figure(figsize=(15,5))\n",
        "s1=sns.countplot(dataset.Country, hue=dataset.Converted)\n",
        "s1.set_xticklabels(s1.get_xticklabels(),rotation=90)\n",
        "plt.show()"
      ]
    },
    {
      "cell_type": "code",
      "execution_count": 630,
      "metadata": {
        "id": "k0IwVL1KWJLu",
        "colab": {
          "base_uri": "https://localhost:8080/"
        },
        "outputId": "9980bd1e-e0b3-43c3-84c9-ff2022d1719c"
      },
      "outputs": [
        {
          "output_type": "execute_result",
          "data": {
            "text/plain": [
              "Not Specified                        3380\n",
              "Finance Management                    976\n",
              "Human Resource Management             848\n",
              "Marketing Management                  838\n",
              "Operations Management                 503\n",
              "Business Administration               403\n",
              "IT Projects Management                366\n",
              "Supply Chain Management               349\n",
              "Banking, Investment And Insurance     338\n",
              "Travel and Tourism                    203\n",
              "Media and Advertising                 203\n",
              "International Business                178\n",
              "Healthcare Management                 159\n",
              "Hospitality Management                114\n",
              "E-COMMERCE                            112\n",
              "Retail Management                     100\n",
              "Rural and Agribusiness                 73\n",
              "E-Business                             57\n",
              "Services Excellence                    40\n",
              "Name: Specialization, dtype: int64"
            ]
          },
          "metadata": {},
          "execution_count": 630
        }
      ],
      "source": [
        "dataset['Specialization'].value_counts()\n"
      ]
    },
    {
      "cell_type": "code",
      "execution_count": 631,
      "metadata": {
        "id": "TnCFEzPDWjNk",
        "colab": {
          "base_uri": "https://localhost:8080/",
          "height": 558
        },
        "outputId": "4ef794bf-1029-4872-fcbe-74ccd9dc702a"
      },
      "outputs": [
        {
          "output_type": "stream",
          "name": "stderr",
          "text": [
            "/usr/local/lib/python3.8/dist-packages/seaborn/_decorators.py:36: FutureWarning: Pass the following variable as a keyword arg: x. From version 0.12, the only valid positional argument will be `data`, and passing other arguments without an explicit keyword will result in an error or misinterpretation.\n",
            "  warnings.warn(\n"
          ]
        },
        {
          "output_type": "display_data",
          "data": {
            "text/plain": [
              "<Figure size 1080x360 with 1 Axes>"
            ],
            "image/png": "[encoded data removed]"
          },
          "metadata": {
            "needs_background": "light"
          }
        }
      ],
      "source": [
        "plt.figure(figsize=(15,5))\n",
        "s1=sns.countplot(dataset.Specialization, hue=dataset.Converted)\n",
        "s1.set_xticklabels(s1.get_xticklabels(),rotation=90)\n",
        "plt.show()"
      ]
    },
    {
      "cell_type": "code",
      "execution_count": 632,
      "metadata": {
        "id": "uPL1aUSAW-MH"
      },
      "outputs": [],
      "source": [
        "\n",
        "#We can see specialization related to Management are having higher number leads converted as compared to other specialization so we can not drop this feature as it is significant ."
      ]
    },
    {
      "cell_type": "code",
      "execution_count": 633,
      "metadata": {
        "id": "Nk_T-tftYADP",
        "colab": {
          "base_uri": "https://localhost:8080/"
        },
        "outputId": "875cd55f-f3ce-4a0b-d0eb-f649fffbde57"
      },
      "outputs": [
        {
          "output_type": "execute_result",
          "data": {
            "text/plain": [
              "Unemployed              8290\n",
              "Working Professional     706\n",
              "Student                  210\n",
              "Other                     16\n",
              "Housewife                 10\n",
              "Businessman                8\n",
              "Name: What_is_your_current_occupation, dtype: int64"
            ]
          },
          "metadata": {},
          "execution_count": 633
        }
      ],
      "source": [
        "dataset['What_is_your_current_occupation'].value_counts()\n"
      ]
    },
    {
      "cell_type": "code",
      "execution_count": 634,
      "metadata": {
        "id": "M__fO3hwYAE_",
        "colab": {
          "base_uri": "https://localhost:8080/",
          "height": 429
        },
        "outputId": "5943f55f-47ac-4b13-d22f-ddca346993c1"
      },
      "outputs": [
        {
          "output_type": "stream",
          "name": "stderr",
          "text": [
            "/usr/local/lib/python3.8/dist-packages/seaborn/_decorators.py:36: FutureWarning: Pass the following variable as a keyword arg: x. From version 0.12, the only valid positional argument will be `data`, and passing other arguments without an explicit keyword will result in an error or misinterpretation.\n",
            "  warnings.warn(\n"
          ]
        },
        {
          "output_type": "display_data",
          "data": {
            "text/plain": [
              "<Figure size 432x288 with 1 Axes>"
            ],
            "image/png": "[encoded data removed]"
          },
          "metadata": {
            "needs_background": "light"
          }
        }
      ],
      "source": [
        "s1=sns.countplot(dataset['What_is_your_current_occupation'], hue=dataset.Converted)\n",
        "s1.set_xticklabels(s1.get_xticklabels(),rotation=90)\n",
        "plt.show()"
      ]
    },
    {
      "cell_type": "code",
      "execution_count": 635,
      "metadata": {
        "id": "B8BCHtBWYAHz"
      },
      "outputs": [],
      "source": [
        "#Working professions are mostl likely to be converted into leads."
      ]
    },
    {
      "cell_type": "code",
      "execution_count": 636,
      "metadata": {
        "id": "4ueFM1hfY-pG",
        "colab": {
          "base_uri": "https://localhost:8080/"
        },
        "outputId": "26b28fc1-a332-4a04-fc9c-7bc705df1d36"
      },
      "outputs": [
        {
          "output_type": "execute_result",
          "data": {
            "text/plain": [
              "No    9240\n",
              "Name: Magazine, dtype: int64"
            ]
          },
          "metadata": {},
          "execution_count": 636
        }
      ],
      "source": [
        "dataset['Magazine'].value_counts()\n"
      ]
    },
    {
      "cell_type": "code",
      "execution_count": 637,
      "metadata": {
        "id": "_z2_B8xtY-rC",
        "colab": {
          "base_uri": "https://localhost:8080/"
        },
        "outputId": "86c88470-c8a1-47b8-f10c-66d1957cc83d"
      },
      "outputs": [
        {
          "output_type": "execute_result",
          "data": {
            "text/plain": [
              "No     9238\n",
              "Yes       2\n",
              "Name: Newspaper_Article, dtype: int64"
            ]
          },
          "metadata": {},
          "execution_count": 637
        }
      ],
      "source": [
        "dataset['Newspaper_Article'].value_counts()"
      ]
    },
    {
      "cell_type": "code",
      "execution_count": 638,
      "metadata": {
        "id": "Gn4PlrH1ZX98",
        "colab": {
          "base_uri": "https://localhost:8080/"
        },
        "outputId": "afeca0eb-cd6e-4984-c087-b62f4ca13c45"
      },
      "outputs": [
        {
          "output_type": "execute_result",
          "data": {
            "text/plain": [
              "No     9239\n",
              "Yes       1\n",
              "Name: X_Education_Forums, dtype: int64"
            ]
          },
          "metadata": {},
          "execution_count": 638
        }
      ],
      "source": [
        "dataset['X_Education_Forums'].value_counts()\n",
        "\n"
      ]
    },
    {
      "cell_type": "code",
      "execution_count": 639,
      "metadata": {
        "id": "Xfo4d8tHZbEy",
        "colab": {
          "base_uri": "https://localhost:8080/"
        },
        "outputId": "025b6859-ffb9-4132-fd69-0ebc9577bff1"
      },
      "outputs": [
        {
          "output_type": "execute_result",
          "data": {
            "text/plain": [
              "No     9239\n",
              "Yes       1\n",
              "Name: Newspaper, dtype: int64"
            ]
          },
          "metadata": {},
          "execution_count": 639
        }
      ],
      "source": [
        "dataset['Newspaper'].value_counts()\n",
        " "
      ]
    },
    {
      "cell_type": "code",
      "execution_count": 640,
      "metadata": {
        "id": "_yGHwfhyZkHY",
        "colab": {
          "base_uri": "https://localhost:8080/"
        },
        "outputId": "69ef766d-d439-4336-dcd2-e860f3c31bce"
      },
      "outputs": [
        {
          "output_type": "execute_result",
          "data": {
            "text/plain": [
              "No     9236\n",
              "Yes       4\n",
              "Name: Digital_Advertisement, dtype: int64"
            ]
          },
          "metadata": {},
          "execution_count": 640
        }
      ],
      "source": [
        "dataset['Digital_Advertisement'].value_counts()"
      ]
    },
    {
      "cell_type": "code",
      "execution_count": 641,
      "metadata": {
        "id": "9ysmbe6QZp3N"
      },
      "outputs": [],
      "source": [
        "dataset=dataset.drop(['Search','Lead_Number','Do_Not_Call','Do_Not_Email','Through_Recommendations','Receive_More_Updates_About_Our_Courses','Update_me_on_Supply_Chain_Content','Get_updates_on_DM_Content','I_agree_to_pay_the_amount_through_cheque','Country','Magazine','Newspaper_Article','X_Education_Forums','Newspaper','Digital_Advertisement'],axis=1)"
      ]
    },
    {
      "cell_type": "code",
      "execution_count": 642,
      "metadata": {
        "id": "KeTgGpHoaNt3",
        "colab": {
          "base_uri": "https://localhost:8080/"
        },
        "outputId": "c4bb5516-85b4-4285-a877-1b4d6dca18bf"
      },
      "outputs": [
        {
          "output_type": "stream",
          "name": "stdout",
          "text": [
            "<class 'pandas.core.frame.DataFrame'>\n",
            "RangeIndex: 9240 entries, 0 to 9239\n",
            "Data columns (total 14 columns):\n",
            " #   Column                                  Non-Null Count  Dtype  \n",
            "---  ------                                  --------------  -----  \n",
            " 0   Lead_Origin                             9240 non-null   object \n",
            " 1   Lead_Source                             9240 non-null   object \n",
            " 2   Converted                               9240 non-null   int64  \n",
            " 3   TotalVisits                             9240 non-null   float64\n",
            " 4   Total_Time_Spent_on_Website             9240 non-null   int64  \n",
            " 5   Page_Views_Per_Visit                    9240 non-null   float64\n",
            " 6   Last_Activity                           9240 non-null   object \n",
            " 7   Specialization                          9240 non-null   object \n",
            " 8   What_is_your_current_occupation         9240 non-null   object \n",
            " 9   Tags                                    9240 non-null   object \n",
            " 10  Lead_Profile                            9240 non-null   object \n",
            " 11  City                                    9240 non-null   object \n",
            " 12  A_free_copy_of_Mastering_The_Interview  9240 non-null   object \n",
            " 13  Last_Notable_Activity                   9240 non-null   object \n",
            "dtypes: float64(2), int64(2), object(10)\n",
            "memory usage: 1010.8+ KB\n"
          ]
        }
      ],
      "source": [
        "dataset.info()"
      ]
    },
    {
      "cell_type": "code",
      "execution_count": 643,
      "metadata": {
        "id": "zcGo3tmFbCKw",
        "colab": {
          "base_uri": "https://localhost:8080/",
          "height": 425
        },
        "outputId": "d9c5f26c-59d2-4dff-ef09-1e6fc4cd6aff"
      },
      "outputs": [
        {
          "output_type": "execute_result",
          "data": {
            "text/plain": [
              "<matplotlib.axes._subplots.AxesSubplot at 0x7f70566b62e0>"
            ]
          },
          "metadata": {},
          "execution_count": 643
        },
        {
          "output_type": "display_data",
          "data": {
            "text/plain": [
              "<Figure size 432x288 with 2 Axes>"
            ],
            "image/png": "[encoded data removed]"
          },
          "metadata": {
            "needs_background": "light"
          }
        }
      ],
      "source": [
        "sns.heatmap(dataset.corr(),annot=True)"
      ]
    },
    {
      "cell_type": "code",
      "execution_count": 644,
      "metadata": {
        "id": "VmEOjF0Nbqp5"
      },
      "outputs": [],
      "source": [
        "#We can understand there is a positive relationship between Total_Time_Spent_on_Website and Converted and there is no\n",
        "# relation between Page_Views_Per_Visit and Converted so we can drop this column\n",
        "\n",
        "dataset=dataset.drop(['Page_Views_Per_Visit'],axis=1)"
      ]
    },
    {
      "cell_type": "code",
      "execution_count": 645,
      "metadata": {
        "id": "4kk_CH3Jc8_6",
        "colab": {
          "base_uri": "https://localhost:8080/"
        },
        "outputId": "ac6c96e8-a9de-4c06-b9b2-c18a57dd3f66"
      },
      "outputs": [
        {
          "output_type": "execute_result",
          "data": {
            "text/plain": [
              "Modified                        3407\n",
              "Email Opened                    2827\n",
              "SMS Sent                        2172\n",
              "Page Visited on Website          318\n",
              "Olark Chat Conversation          183\n",
              "Email Link Clicked               173\n",
              "Email Bounced                     60\n",
              "Unsubscribed                      47\n",
              "Unreachable                       32\n",
              "Had a Phone Conversation          14\n",
              "Email Marked Spam                  2\n",
              "Approached upfront                 1\n",
              "Resubscribed to emails             1\n",
              "View in browser link Clicked       1\n",
              "Form Submitted on Website          1\n",
              "Email Received                     1\n",
              "Name: Last_Notable_Activity, dtype: int64"
            ]
          },
          "metadata": {},
          "execution_count": 645
        }
      ],
      "source": [
        "dataset['Last_Notable_Activity'].value_counts()"
      ]
    },
    {
      "cell_type": "code",
      "execution_count": 646,
      "metadata": {
        "id": "TFW0pzvjeQLe"
      },
      "outputs": [],
      "source": [
        "#We can replace low frequency values\n",
        "dataset['Last_Notable_Activity'] = dataset['Last_Notable_Activity'].replace(['Had a Phone Conversation',\n",
        "                                                                       'Email Marked Spam',\n",
        "                                                                         'Unreachable',\n",
        "                                                                         'Unsubscribed',\n",
        "                                                                         'Email Bounced',                                                                    \n",
        "                                                                       'Resubscribed to emails',\n",
        "                                                                       'View in browser link Clicked',\n",
        "                                                                       'Approached upfront', \n",
        "                                                                       'Form Submitted on Website', \n",
        "                                                                       'Email Received'],'Other_Notable_activity')"
      ]
    },
    {
      "cell_type": "code",
      "execution_count": 647,
      "metadata": {
        "id": "PfP0srq_ep3e",
        "colab": {
          "base_uri": "https://localhost:8080/"
        },
        "outputId": "95c06320-ef9e-4e8d-acec-c90d79450c35"
      },
      "outputs": [
        {
          "output_type": "execute_result",
          "data": {
            "text/plain": [
              "Modified                   3407\n",
              "Email Opened               2827\n",
              "SMS Sent                   2172\n",
              "Page Visited on Website     318\n",
              "Olark Chat Conversation     183\n",
              "Email Link Clicked          173\n",
              "Other_Notable_activity      160\n",
              "Name: Last_Notable_Activity, dtype: int64"
            ]
          },
          "metadata": {},
          "execution_count": 647
        }
      ],
      "source": [
        "dataset['Last_Notable_Activity'].value_counts()"
      ]
    },
    {
      "cell_type": "code",
      "execution_count": 648,
      "metadata": {
        "id": "V2y6ecEper5u",
        "colab": {
          "base_uri": "https://localhost:8080/",
          "height": 447
        },
        "outputId": "20efad30-2243-4c15-d9f1-0b851b0efa4b"
      },
      "outputs": [
        {
          "output_type": "display_data",
          "data": {
            "text/plain": [
              "<Figure size 1008x360 with 1 Axes>"
            ],
            "image/png": "[encoded data removed]"
          },
          "metadata": {
            "needs_background": "light"
          }
        }
      ],
      "source": [
        "plt.figure(figsize = (14,5))\n",
        "ax1=sns.countplot(x = \"Last_Notable_Activity\", hue = \"Converted\", data = dataset)\n",
        "ax1.set_xticklabels(ax1.get_xticklabels(),rotation=90)\n",
        "plt.show()"
      ]
    },
    {
      "cell_type": "code",
      "execution_count": 649,
      "metadata": {
        "id": "C3u1ELoRewIA",
        "colab": {
          "base_uri": "https://localhost:8080/"
        },
        "outputId": "ef4a5039-3948-4c6a-b351-a091551cc09e"
      },
      "outputs": [
        {
          "output_type": "execute_result",
          "data": {
            "text/plain": [
              "Index(['Lead_Origin', 'Lead_Source', 'Last_Activity', 'Specialization',\n",
              "       'What_is_your_current_occupation', 'Tags', 'Lead_Profile', 'City',\n",
              "       'A_free_copy_of_Mastering_The_Interview', 'Last_Notable_Activity'],\n",
              "      dtype='object')"
            ]
          },
          "metadata": {},
          "execution_count": 649
        }
      ],
      "source": [
        "cat_columns=dataset.select_dtypes(include=['object']).columns\n",
        "cat_columns"
      ]
    },
    {
      "cell_type": "code",
      "execution_count": 650,
      "metadata": {
        "id": "JeO_Cc_vgGsI",
        "colab": {
          "base_uri": "https://localhost:8080/"
        },
        "outputId": "aaa56753-ae2c-43c3-fe32-2d412a1ca041"
      },
      "outputs": [
        {
          "output_type": "execute_result",
          "data": {
            "text/plain": [
              "Google               2909\n",
              "Direct Traffic       2543\n",
              "Olark Chat           1755\n",
              "Organic Search       1154\n",
              "Reference             534\n",
              "Welingak Website      142\n",
              "Referral Sites        125\n",
              "Facebook               55\n",
              "bing                    6\n",
              "Click2call              4\n",
              "Social Media            2\n",
              "Live Chat               2\n",
              "Press_Release           2\n",
              "Pay per Click Ads       1\n",
              "blog                    1\n",
              "WeLearn                 1\n",
              "welearnblog_Home        1\n",
              "youtubechannel          1\n",
              "testone                 1\n",
              "NC_EDM                  1\n",
              "Name: Lead_Source, dtype: int64"
            ]
          },
          "metadata": {},
          "execution_count": 650
        }
      ],
      "source": [
        "dataset['Lead_Source'].value_counts()"
      ]
    },
    {
      "cell_type": "code",
      "execution_count": 651,
      "metadata": {
        "id": "4dez_UHSgek4"
      },
      "outputs": [],
      "source": [
        "dataset['Lead_Source'] = dataset['Lead_Source'].replace(['bing','Click2call','Press_Release','Live Chat','Pay per Click Ads','blog','WeLearn'\n",
        ",'welearnblog_Home','youtubechannel','testone','NC_EDM'],'Others')"
      ]
    },
    {
      "cell_type": "code",
      "execution_count": 652,
      "metadata": {
        "id": "xEk7SKLtinD_"
      },
      "outputs": [],
      "source": [
        "dataset['Lead_Source'] = dataset['Lead_Source'].replace(['Social Media'],'Facebook')"
      ]
    },
    {
      "cell_type": "code",
      "execution_count": 653,
      "metadata": {
        "id": "p3SnFnj2irVc",
        "colab": {
          "base_uri": "https://localhost:8080/"
        },
        "outputId": "f26a8477-6b9a-4bf5-ef1f-740862ae5efa"
      },
      "outputs": [
        {
          "output_type": "execute_result",
          "data": {
            "text/plain": [
              "Google              2909\n",
              "Direct Traffic      2543\n",
              "Olark Chat          1755\n",
              "Organic Search      1154\n",
              "Reference            534\n",
              "Welingak Website     142\n",
              "Referral Sites       125\n",
              "Facebook              57\n",
              "Others                21\n",
              "Name: Lead_Source, dtype: int64"
            ]
          },
          "metadata": {},
          "execution_count": 653
        }
      ],
      "source": [
        "dataset['Lead_Source'].value_counts()"
      ]
    },
    {
      "cell_type": "code",
      "execution_count": 654,
      "metadata": {
        "id": "KUedmki8is1z",
        "colab": {
          "base_uri": "https://localhost:8080/"
        },
        "outputId": "67dfbece-502f-48fa-cc5b-a330dce87880"
      },
      "outputs": [
        {
          "output_type": "execute_result",
          "data": {
            "text/plain": [
              "Email Opened                    3437\n",
              "SMS Sent                        2745\n",
              "Olark Chat Conversation          973\n",
              "Page Visited on Website          640\n",
              "Converted to Lead                428\n",
              "Email Bounced                    326\n",
              "Email Link Clicked               267\n",
              "Form Submitted on Website        116\n",
              "Others                           103\n",
              "Unreachable                       93\n",
              "Unsubscribed                      61\n",
              "Had a Phone Conversation          30\n",
              "Approached upfront                 9\n",
              "View in browser link Clicked       6\n",
              "Email Received                     2\n",
              "Email Marked Spam                  2\n",
              "Visited Booth in Tradeshow         1\n",
              "Resubscribed to emails             1\n",
              "Name: Last_Activity, dtype: int64"
            ]
          },
          "metadata": {},
          "execution_count": 654
        }
      ],
      "source": [
        "dataset['Last_Activity'].value_counts()"
      ]
    },
    {
      "cell_type": "code",
      "execution_count": 655,
      "metadata": {
        "id": "5Mise8cni2Yw"
      },
      "outputs": [],
      "source": [
        "dataset['Last_Activity'] = dataset['Last_Activity'].replace(['Unreachable','Unsubscribed','Unsubscribed','Had a Phone Conversation','Approached upfront','View in browser link Clicked',\n",
        "                                                             'Email Received'\n",
        ",'Email Marked Spam','Visited Booth in Tradeshow','Resubscribed to emails'],'Others')"
      ]
    },
    {
      "cell_type": "code",
      "execution_count": 656,
      "metadata": {
        "id": "waqPMCZRjVsY",
        "colab": {
          "base_uri": "https://localhost:8080/"
        },
        "outputId": "cf1ae0e0-1b58-4dbe-9c3e-bda7a883be12"
      },
      "outputs": [
        {
          "output_type": "execute_result",
          "data": {
            "text/plain": [
              "Email Opened                 3437\n",
              "SMS Sent                     2745\n",
              "Olark Chat Conversation       973\n",
              "Page Visited on Website       640\n",
              "Converted to Lead             428\n",
              "Email Bounced                 326\n",
              "Others                        308\n",
              "Email Link Clicked            267\n",
              "Form Submitted on Website     116\n",
              "Name: Last_Activity, dtype: int64"
            ]
          },
          "metadata": {},
          "execution_count": 656
        }
      ],
      "source": [
        "dataset['Last_Activity'].value_counts()"
      ]
    },
    {
      "cell_type": "code",
      "execution_count": 657,
      "metadata": {
        "id": "wg7i4xqHjV1m",
        "colab": {
          "base_uri": "https://localhost:8080/",
          "height": 886
        },
        "outputId": "736fc337-ef70-4287-b51f-23cab1d8068e"
      },
      "outputs": [
        {
          "output_type": "execute_result",
          "data": {
            "text/plain": [
              "                  Lead_Origin     Lead_Source  Converted  TotalVisits  \\\n",
              "0                         API      Olark Chat          0          0.0   \n",
              "1                         API  Organic Search          0          5.0   \n",
              "2     Landing Page Submission  Direct Traffic          1          2.0   \n",
              "3     Landing Page Submission  Direct Traffic          0          1.0   \n",
              "4     Landing Page Submission          Google          1          2.0   \n",
              "...                       ...             ...        ...          ...   \n",
              "9235  Landing Page Submission  Direct Traffic          1          8.0   \n",
              "9236  Landing Page Submission  Direct Traffic          0          2.0   \n",
              "9237  Landing Page Submission  Direct Traffic          0          2.0   \n",
              "9238  Landing Page Submission          Google          1          3.0   \n",
              "9239  Landing Page Submission  Direct Traffic          1          6.0   \n",
              "\n",
              "      Total_Time_Spent_on_Website            Last_Activity  \\\n",
              "0                               0  Page Visited on Website   \n",
              "1                             674             Email Opened   \n",
              "2                            1532             Email Opened   \n",
              "3                             305                   Others   \n",
              "4                            1428        Converted to Lead   \n",
              "...                           ...                      ...   \n",
              "9235                         1845                   Others   \n",
              "9236                          238                 SMS Sent   \n",
              "9237                          199                 SMS Sent   \n",
              "9238                          499                 SMS Sent   \n",
              "9239                         1279                 SMS Sent   \n",
              "\n",
              "                 Specialization What_is_your_current_occupation  \\\n",
              "0                 Not Specified                      Unemployed   \n",
              "1                 Not Specified                      Unemployed   \n",
              "2       Business Administration                         Student   \n",
              "3         Media and Advertising                      Unemployed   \n",
              "4                 Not Specified                      Unemployed   \n",
              "...                         ...                             ...   \n",
              "9235     IT Projects Management                      Unemployed   \n",
              "9236      Media and Advertising                      Unemployed   \n",
              "9237    Business Administration                      Unemployed   \n",
              "9238  Human Resource Management                      Unemployed   \n",
              "9239    Supply Chain Management                      Unemployed   \n",
              "\n",
              "                                     Tags    Lead_Profile                City  \\\n",
              "0             Interested in other courses   Not Specified       Not Specified   \n",
              "1                                 Ringing   Not Specified       Not Specified   \n",
              "2     Will revert after reading the email  Potential Lead              Mumbai   \n",
              "3                                 Ringing   Not Specified              Mumbai   \n",
              "4     Will revert after reading the email   Not Specified              Mumbai   \n",
              "...                                   ...             ...                 ...   \n",
              "9235  Will revert after reading the email  Potential Lead              Mumbai   \n",
              "9236                           Other_Tags  Potential Lead              Mumbai   \n",
              "9237                           Other_Tags  Potential Lead              Mumbai   \n",
              "9238                        Not Specified   Not Specified  Other Metro Cities   \n",
              "9239  Will revert after reading the email  Potential Lead        Other Cities   \n",
              "\n",
              "     A_free_copy_of_Mastering_The_Interview   Last_Notable_Activity  \n",
              "0                                        No                Modified  \n",
              "1                                        No            Email Opened  \n",
              "2                                       Yes            Email Opened  \n",
              "3                                        No                Modified  \n",
              "4                                        No                Modified  \n",
              "...                                     ...                     ...  \n",
              "9235                                     No  Other_Notable_activity  \n",
              "9236                                    Yes                SMS Sent  \n",
              "9237                                    Yes                SMS Sent  \n",
              "9238                                     No                SMS Sent  \n",
              "9239                                    Yes                Modified  \n",
              "\n",
              "[9240 rows x 13 columns]"
            ],
            "text/html": [
              "\n",
              "  <div id=\"df-1cd213e5-7470-4f55-8603-9d520945c10e\">\n",
              "    <div class=\"colab-df-container\">\n",
              "      <div>\n",
              "<style scoped>\n",
              "    .dataframe tbody tr th:only-of-type {\n",
              "        vertical-align: middle;\n",
              "    }\n",
              "\n",
              "    .dataframe tbody tr th {\n",
              "        vertical-align: top;\n",
              "    }\n",
              "\n",
              "    .dataframe thead th {\n",
              "        text-align: right;\n",
              "    }\n",
              "</style>\n",
              "<table border=\"1\" class=\"dataframe\">\n",
              "  <thead>\n",
              "    <tr style=\"text-align: right;\">\n",
              "      <th></th>\n",
              "      <th>Lead_Origin</th>\n",
              "      <th>Lead_Source</th>\n",
              "      <th>Converted</th>\n",
              "      <th>TotalVisits</th>\n",
              "      <th>Total_Time_Spent_on_Website</th>\n",
              "      <th>Last_Activity</th>\n",
              "      <th>Specialization</th>\n",
              "      <th>What_is_your_current_occupation</th>\n",
              "      <th>Tags</th>\n",
              "      <th>Lead_Profile</th>\n",
              "      <th>City</th>\n",
              "      <th>A_free_copy_of_Mastering_The_Interview</th>\n",
              "      <th>Last_Notable_Activity</th>\n",
              "    </tr>\n",
              "  </thead>\n",
              "  <tbody>\n",
              "    <tr>\n",
              "      <th>0</th>\n",
              "      <td>API</td>\n",
              "      <td>Olark Chat</td>\n",
              "      <td>0</td>\n",
              "      <td>0.0</td>\n",
              "      <td>0</td>\n",
              "      <td>Page Visited on Website</td>\n",
              "      <td>Not Specified</td>\n",
              "      <td>Unemployed</td>\n",
              "      <td>Interested in other courses</td>\n",
              "      <td>Not Specified</td>\n",
              "      <td>Not Specified</td>\n",
              "      <td>No</td>\n",
              "      <td>Modified</td>\n",
              "    </tr>\n",
              "    <tr>\n",
              "      <th>1</th>\n",
              "      <td>API</td>\n",
              "      <td>Organic Search</td>\n",
              "      <td>0</td>\n",
              "      <td>5.0</td>\n",
              "      <td>674</td>\n",
              "      <td>Email Opened</td>\n",
              "      <td>Not Specified</td>\n",
              "      <td>Unemployed</td>\n",
              "      <td>Ringing</td>\n",
              "      <td>Not Specified</td>\n",
              "      <td>Not Specified</td>\n",
              "      <td>No</td>\n",
              "      <td>Email Opened</td>\n",
              "    </tr>\n",
              "    <tr>\n",
              "      <th>2</th>\n",
              "      <td>Landing Page Submission</td>\n",
              "      <td>Direct Traffic</td>\n",
              "      <td>1</td>\n",
              "      <td>2.0</td>\n",
              "      <td>1532</td>\n",
              "      <td>Email Opened</td>\n",
              "      <td>Business Administration</td>\n",
              "      <td>Student</td>\n",
              "      <td>Will revert after reading the email</td>\n",
              "      <td>Potential Lead</td>\n",
              "      <td>Mumbai</td>\n",
              "      <td>Yes</td>\n",
              "      <td>Email Opened</td>\n",
              "    </tr>\n",
              "    <tr>\n",
              "      <th>3</th>\n",
              "      <td>Landing Page Submission</td>\n",
              "      <td>Direct Traffic</td>\n",
              "      <td>0</td>\n",
              "      <td>1.0</td>\n",
              "      <td>305</td>\n",
              "      <td>Others</td>\n",
              "      <td>Media and Advertising</td>\n",
              "      <td>Unemployed</td>\n",
              "      <td>Ringing</td>\n",
              "      <td>Not Specified</td>\n",
              "      <td>Mumbai</td>\n",
              "      <td>No</td>\n",
              "      <td>Modified</td>\n",
              "    </tr>\n",
              "    <tr>\n",
              "      <th>4</th>\n",
              "      <td>Landing Page Submission</td>\n",
              "      <td>Google</td>\n",
              "      <td>1</td>\n",
              "      <td>2.0</td>\n",
              "      <td>1428</td>\n",
              "      <td>Converted to Lead</td>\n",
              "      <td>Not Specified</td>\n",
              "      <td>Unemployed</td>\n",
              "      <td>Will revert after reading the email</td>\n",
              "      <td>Not Specified</td>\n",
              "      <td>Mumbai</td>\n",
              "      <td>No</td>\n",
              "      <td>Modified</td>\n",
              "    </tr>\n",
              "    <tr>\n",
              "      <th>...</th>\n",
              "      <td>...</td>\n",
              "      <td>...</td>\n",
              "      <td>...</td>\n",
              "      <td>...</td>\n",
              "      <td>...</td>\n",
              "      <td>...</td>\n",
              "      <td>...</td>\n",
              "      <td>...</td>\n",
              "      <td>...</td>\n",
              "      <td>...</td>\n",
              "      <td>...</td>\n",
              "      <td>...</td>\n",
              "      <td>...</td>\n",
              "    </tr>\n",
              "    <tr>\n",
              "      <th>9235</th>\n",
              "      <td>Landing Page Submission</td>\n",
              "      <td>Direct Traffic</td>\n",
              "      <td>1</td>\n",
              "      <td>8.0</td>\n",
              "      <td>1845</td>\n",
              "      <td>Others</td>\n",
              "      <td>IT Projects Management</td>\n",
              "      <td>Unemployed</td>\n",
              "      <td>Will revert after reading the email</td>\n",
              "      <td>Potential Lead</td>\n",
              "      <td>Mumbai</td>\n",
              "      <td>No</td>\n",
              "      <td>Other_Notable_activity</td>\n",
              "    </tr>\n",
              "    <tr>\n",
              "      <th>9236</th>\n",
              "      <td>Landing Page Submission</td>\n",
              "      <td>Direct Traffic</td>\n",
              "      <td>0</td>\n",
              "      <td>2.0</td>\n",
              "      <td>238</td>\n",
              "      <td>SMS Sent</td>\n",
              "      <td>Media and Advertising</td>\n",
              "      <td>Unemployed</td>\n",
              "      <td>Other_Tags</td>\n",
              "      <td>Potential Lead</td>\n",
              "      <td>Mumbai</td>\n",
              "      <td>Yes</td>\n",
              "      <td>SMS Sent</td>\n",
              "    </tr>\n",
              "    <tr>\n",
              "      <th>9237</th>\n",
              "      <td>Landing Page Submission</td>\n",
              "      <td>Direct Traffic</td>\n",
              "      <td>0</td>\n",
              "      <td>2.0</td>\n",
              "      <td>199</td>\n",
              "      <td>SMS Sent</td>\n",
              "      <td>Business Administration</td>\n",
              "      <td>Unemployed</td>\n",
              "      <td>Other_Tags</td>\n",
              "      <td>Potential Lead</td>\n",
              "      <td>Mumbai</td>\n",
              "      <td>Yes</td>\n",
              "      <td>SMS Sent</td>\n",
              "    </tr>\n",
              "    <tr>\n",
              "      <th>9238</th>\n",
              "      <td>Landing Page Submission</td>\n",
              "      <td>Google</td>\n",
              "      <td>1</td>\n",
              "      <td>3.0</td>\n",
              "      <td>499</td>\n",
              "      <td>SMS Sent</td>\n",
              "      <td>Human Resource Management</td>\n",
              "      <td>Unemployed</td>\n",
              "      <td>Not Specified</td>\n",
              "      <td>Not Specified</td>\n",
              "      <td>Other Metro Cities</td>\n",
              "      <td>No</td>\n",
              "      <td>SMS Sent</td>\n",
              "    </tr>\n",
              "    <tr>\n",
              "      <th>9239</th>\n",
              "      <td>Landing Page Submission</td>\n",
              "      <td>Direct Traffic</td>\n",
              "      <td>1</td>\n",
              "      <td>6.0</td>\n",
              "      <td>1279</td>\n",
              "      <td>SMS Sent</td>\n",
              "      <td>Supply Chain Management</td>\n",
              "      <td>Unemployed</td>\n",
              "      <td>Will revert after reading the email</td>\n",
              "      <td>Potential Lead</td>\n",
              "      <td>Other Cities</td>\n",
              "      <td>Yes</td>\n",
              "      <td>Modified</td>\n",
              "    </tr>\n",
              "  </tbody>\n",
              "</table>\n",
              "<p>9240 rows × 13 columns</p>\n",
              "</div>\n",
              "      <button class=\"colab-df-convert\" onclick=\"convertToInteractive('df-1cd213e5-7470-4f55-8603-9d520945c10e')\"\n",
              "              title=\"Convert this dataframe to an interactive table.\"\n",
              "              style=\"display:none;\">\n",
              "        \n",
              "  <svg xmlns=\"http://www.w3.org/2000/svg\" height=\"24px\"viewBox=\"0 0 24 24\"\n",
              "       width=\"24px\">\n",
              "    <path d=\"M0 0h24v24H0V0z\" fill=\"none\"/>\n",
              "    <path d=\"M18.56 5.44l.94 2.06.94-2.06 2.06-.94-2.06-.94-.94-2.06-.94 2.06-2.06.94zm-11 1L8.5 8.5l.94-2.06 2.06-.94-2.06-.94L8.5 2.5l-.94 2.06-2.06.94zm10 10l.94 2.06.94-2.06 2.06-.94-2.06-.94-.94-2.06-.94 2.06-2.06.94z\"/><path d=\"M17.41 7.96l-1.37-1.37c-.4-.4-.92-.59-1.43-.59-.52 0-1.04.2-1.43.59L10.3 9.45l-7.72 7.72c-.78.78-.78 2.05 0 2.83L4 21.41c.39.39.9.59 1.41.59.51 0 1.02-.2 1.41-.59l7.78-7.78 2.81-2.81c.8-.78.8-2.07 0-2.86zM5.41 20L4 18.59l7.72-7.72 1.47 1.35L5.41 20z\"/>\n",
              "  </svg>\n",
              "      </button>\n",
              "      \n",
              "  <style>\n",
              "    .colab-df-container {\n",
              "      display:flex;\n",
              "      flex-wrap:wrap;\n",
              "      gap: 12px;\n",
              "    }\n",
              "\n",
              "    .colab-df-convert {\n",
              "      background-color: #E8F0FE;\n",
              "      border: none;\n",
              "      border-radius: 50%;\n",
              "      cursor: pointer;\n",
              "      display: none;\n",
              "      fill: #1967D2;\n",
              "      height: 32px;\n",
              "      padding: 0 0 0 0;\n",
              "      width: 32px;\n",
              "    }\n",
              "\n",
              "    .colab-df-convert:hover {\n",
              "      background-color: #E2EBFA;\n",
              "      box-shadow: 0px 1px 2px rgba(60, 64, 67, 0.3), 0px 1px 3px 1px rgba(60, 64, 67, 0.15);\n",
              "      fill: #174EA6;\n",
              "    }\n",
              "\n",
              "    [theme=dark] .colab-df-convert {\n",
              "      background-color: #3B4455;\n",
              "      fill: #D2E3FC;\n",
              "    }\n",
              "\n",
              "    [theme=dark] .colab-df-convert:hover {\n",
              "      background-color: #434B5C;\n",
              "      box-shadow: 0px 1px 3px 1px rgba(0, 0, 0, 0.15);\n",
              "      filter: drop-shadow(0px 1px 2px rgba(0, 0, 0, 0.3));\n",
              "      fill: #FFFFFF;\n",
              "    }\n",
              "  </style>\n",
              "\n",
              "      <script>\n",
              "        const buttonEl =\n",
              "          document.querySelector('#df-1cd213e5-7470-4f55-8603-9d520945c10e button.colab-df-convert');\n",
              "        buttonEl.style.display =\n",
              "          google.colab.kernel.accessAllowed ? 'block' : 'none';\n",
              "\n",
              "        async function convertToInteractive(key) {\n",
              "          const element = document.querySelector('#df-1cd213e5-7470-4f55-8603-9d520945c10e');\n",
              "          const dataTable =\n",
              "            await google.colab.kernel.invokeFunction('convertToInteractive',\n",
              "                                                     [key], {});\n",
              "          if (!dataTable) return;\n",
              "\n",
              "          const docLinkHtml = 'Like what you see? Visit the ' +\n",
              "            '<a target=\"_blank\" href=https://colab.research.google.com/notebooks/data_table.ipynb>data table notebook</a>'\n",
              "            + ' to learn more about interactive tables.';\n",
              "          element.innerHTML = '';\n",
              "          dataTable['output_type'] = 'display_data';\n",
              "          await google.colab.output.renderOutput(dataTable, element);\n",
              "          const docLink = document.createElement('div');\n",
              "          docLink.innerHTML = docLinkHtml;\n",
              "          element.appendChild(docLink);\n",
              "        }\n",
              "      </script>\n",
              "    </div>\n",
              "  </div>\n",
              "  "
            ]
          },
          "metadata": {},
          "execution_count": 657
        }
      ],
      "source": [
        "dataset"
      ]
    },
    {
      "cell_type": "code",
      "execution_count": 657,
      "metadata": {
        "id": "eZs6iDlZj7BF"
      },
      "outputs": [],
      "source": []
    },
    {
      "cell_type": "code",
      "source": [
        "dataset=pd.get_dummies(dataset,drop_first=True)"
      ],
      "metadata": {
        "id": "nP6LVuriufAV"
      },
      "execution_count": 658,
      "outputs": []
    },
    {
      "cell_type": "code",
      "source": [
        "dataset"
      ],
      "metadata": {
        "colab": {
          "base_uri": "https://localhost:8080/",
          "height": 522
        },
        "id": "Rsy0du7kufC4",
        "outputId": "72829fa1-6a6f-4ed1-e375-3c0ed8fbdab7"
      },
      "execution_count": 659,
      "outputs": [
        {
          "output_type": "execute_result",
          "data": {
            "text/plain": [
              "      Converted  TotalVisits  Total_Time_Spent_on_Website  \\\n",
              "0             0          0.0                            0   \n",
              "1             0          5.0                          674   \n",
              "2             1          2.0                         1532   \n",
              "3             0          1.0                          305   \n",
              "4             1          2.0                         1428   \n",
              "...         ...          ...                          ...   \n",
              "9235          1          8.0                         1845   \n",
              "9236          0          2.0                          238   \n",
              "9237          0          2.0                          199   \n",
              "9238          1          3.0                          499   \n",
              "9239          1          6.0                         1279   \n",
              "\n",
              "      Lead_Origin_Landing Page Submission  Lead_Origin_Lead Add Form  \\\n",
              "0                                       0                          0   \n",
              "1                                       0                          0   \n",
              "2                                       1                          0   \n",
              "3                                       1                          0   \n",
              "4                                       1                          0   \n",
              "...                                   ...                        ...   \n",
              "9235                                    1                          0   \n",
              "9236                                    1                          0   \n",
              "9237                                    1                          0   \n",
              "9238                                    1                          0   \n",
              "9239                                    1                          0   \n",
              "\n",
              "      Lead_Origin_Lead Import  Lead_Origin_Quick Add Form  \\\n",
              "0                           0                           0   \n",
              "1                           0                           0   \n",
              "2                           0                           0   \n",
              "3                           0                           0   \n",
              "4                           0                           0   \n",
              "...                       ...                         ...   \n",
              "9235                        0                           0   \n",
              "9236                        0                           0   \n",
              "9237                        0                           0   \n",
              "9238                        0                           0   \n",
              "9239                        0                           0   \n",
              "\n",
              "      Lead_Source_Facebook  Lead_Source_Google  Lead_Source_Olark Chat  ...  \\\n",
              "0                        0                   0                       1  ...   \n",
              "1                        0                   0                       0  ...   \n",
              "2                        0                   0                       0  ...   \n",
              "3                        0                   0                       0  ...   \n",
              "4                        0                   1                       0  ...   \n",
              "...                    ...                 ...                     ...  ...   \n",
              "9235                     0                   0                       0  ...   \n",
              "9236                     0                   0                       0  ...   \n",
              "9237                     0                   0                       0  ...   \n",
              "9238                     0                   1                       0  ...   \n",
              "9239                     0                   0                       0  ...   \n",
              "\n",
              "      City_Other Metro Cities  City_Thane & Outskirts  City_Tier II Cities  \\\n",
              "0                           0                       0                    0   \n",
              "1                           0                       0                    0   \n",
              "2                           0                       0                    0   \n",
              "3                           0                       0                    0   \n",
              "4                           0                       0                    0   \n",
              "...                       ...                     ...                  ...   \n",
              "9235                        0                       0                    0   \n",
              "9236                        0                       0                    0   \n",
              "9237                        0                       0                    0   \n",
              "9238                        1                       0                    0   \n",
              "9239                        0                       0                    0   \n",
              "\n",
              "      A_free_copy_of_Mastering_The_Interview_Yes  \\\n",
              "0                                              0   \n",
              "1                                              0   \n",
              "2                                              1   \n",
              "3                                              0   \n",
              "4                                              0   \n",
              "...                                          ...   \n",
              "9235                                           0   \n",
              "9236                                           1   \n",
              "9237                                           1   \n",
              "9238                                           0   \n",
              "9239                                           1   \n",
              "\n",
              "      Last_Notable_Activity_Email Opened  Last_Notable_Activity_Modified  \\\n",
              "0                                      0                               1   \n",
              "1                                      1                               0   \n",
              "2                                      1                               0   \n",
              "3                                      0                               1   \n",
              "4                                      0                               1   \n",
              "...                                  ...                             ...   \n",
              "9235                                   0                               0   \n",
              "9236                                   0                               0   \n",
              "9237                                   0                               0   \n",
              "9238                                   0                               0   \n",
              "9239                                   0                               1   \n",
              "\n",
              "      Last_Notable_Activity_Olark Chat Conversation  \\\n",
              "0                                                 0   \n",
              "1                                                 0   \n",
              "2                                                 0   \n",
              "3                                                 0   \n",
              "4                                                 0   \n",
              "...                                             ...   \n",
              "9235                                              0   \n",
              "9236                                              0   \n",
              "9237                                              0   \n",
              "9238                                              0   \n",
              "9239                                              0   \n",
              "\n",
              "      Last_Notable_Activity_Other_Notable_activity  \\\n",
              "0                                                0   \n",
              "1                                                0   \n",
              "2                                                0   \n",
              "3                                                0   \n",
              "4                                                0   \n",
              "...                                            ...   \n",
              "9235                                             1   \n",
              "9236                                             0   \n",
              "9237                                             0   \n",
              "9238                                             0   \n",
              "9239                                             0   \n",
              "\n",
              "      Last_Notable_Activity_Page Visited on Website  \\\n",
              "0                                                 0   \n",
              "1                                                 0   \n",
              "2                                                 0   \n",
              "3                                                 0   \n",
              "4                                                 0   \n",
              "...                                             ...   \n",
              "9235                                              0   \n",
              "9236                                              0   \n",
              "9237                                              0   \n",
              "9238                                              0   \n",
              "9239                                              0   \n",
              "\n",
              "      Last_Notable_Activity_SMS Sent  \n",
              "0                                  0  \n",
              "1                                  0  \n",
              "2                                  0  \n",
              "3                                  0  \n",
              "4                                  0  \n",
              "...                              ...  \n",
              "9235                               0  \n",
              "9236                               1  \n",
              "9237                               1  \n",
              "9238                               1  \n",
              "9239                               0  \n",
              "\n",
              "[9240 rows x 71 columns]"
            ],
            "text/html": [
              "\n",
              "  <div id=\"df-0e7e4d65-d900-454c-b366-c11b44c0cc3f\">\n",
              "    <div class=\"colab-df-container\">\n",
              "      <div>\n",
              "<style scoped>\n",
              "    .dataframe tbody tr th:only-of-type {\n",
              "        vertical-align: middle;\n",
              "    }\n",
              "\n",
              "    .dataframe tbody tr th {\n",
              "        vertical-align: top;\n",
              "    }\n",
              "\n",
              "    .dataframe thead th {\n",
              "        text-align: right;\n",
              "    }\n",
              "</style>\n",
              "<table border=\"1\" class=\"dataframe\">\n",
              "  <thead>\n",
              "    <tr style=\"text-align: right;\">\n",
              "      <th></th>\n",
              "      <th>Converted</th>\n",
              "      <th>TotalVisits</th>\n",
              "      <th>Total_Time_Spent_on_Website</th>\n",
              "      <th>Lead_Origin_Landing Page Submission</th>\n",
              "      <th>Lead_Origin_Lead Add Form</th>\n",
              "      <th>Lead_Origin_Lead Import</th>\n",
              "      <th>Lead_Origin_Quick Add Form</th>\n",
              "      <th>Lead_Source_Facebook</th>\n",
              "      <th>Lead_Source_Google</th>\n",
              "      <th>Lead_Source_Olark Chat</th>\n",
              "      <th>...</th>\n",
              "      <th>City_Other Metro Cities</th>\n",
              "      <th>City_Thane &amp; Outskirts</th>\n",
              "      <th>City_Tier II Cities</th>\n",
              "      <th>A_free_copy_of_Mastering_The_Interview_Yes</th>\n",
              "      <th>Last_Notable_Activity_Email Opened</th>\n",
              "      <th>Last_Notable_Activity_Modified</th>\n",
              "      <th>Last_Notable_Activity_Olark Chat Conversation</th>\n",
              "      <th>Last_Notable_Activity_Other_Notable_activity</th>\n",
              "      <th>Last_Notable_Activity_Page Visited on Website</th>\n",
              "      <th>Last_Notable_Activity_SMS Sent</th>\n",
              "    </tr>\n",
              "  </thead>\n",
              "  <tbody>\n",
              "    <tr>\n",
              "      <th>0</th>\n",
              "      <td>0</td>\n",
              "      <td>0.0</td>\n",
              "      <td>0</td>\n",
              "      <td>0</td>\n",
              "      <td>0</td>\n",
              "      <td>0</td>\n",
              "      <td>0</td>\n",
              "      <td>0</td>\n",
              "      <td>0</td>\n",
              "      <td>1</td>\n",
              "      <td>...</td>\n",
              "      <td>0</td>\n",
              "      <td>0</td>\n",
              "      <td>0</td>\n",
              "      <td>0</td>\n",
              "      <td>0</td>\n",
              "      <td>1</td>\n",
              "      <td>0</td>\n",
              "      <td>0</td>\n",
              "      <td>0</td>\n",
              "      <td>0</td>\n",
              "    </tr>\n",
              "    <tr>\n",
              "      <th>1</th>\n",
              "      <td>0</td>\n",
              "      <td>5.0</td>\n",
              "      <td>674</td>\n",
              "      <td>0</td>\n",
              "      <td>0</td>\n",
              "      <td>0</td>\n",
              "      <td>0</td>\n",
              "      <td>0</td>\n",
              "      <td>0</td>\n",
              "      <td>0</td>\n",
              "      <td>...</td>\n",
              "      <td>0</td>\n",
              "      <td>0</td>\n",
              "      <td>0</td>\n",
              "      <td>0</td>\n",
              "      <td>1</td>\n",
              "      <td>0</td>\n",
              "      <td>0</td>\n",
              "      <td>0</td>\n",
              "      <td>0</td>\n",
              "      <td>0</td>\n",
              "    </tr>\n",
              "    <tr>\n",
              "      <th>2</th>\n",
              "      <td>1</td>\n",
              "      <td>2.0</td>\n",
              "      <td>1532</td>\n",
              "      <td>1</td>\n",
              "      <td>0</td>\n",
              "      <td>0</td>\n",
              "      <td>0</td>\n",
              "      <td>0</td>\n",
              "      <td>0</td>\n",
              "      <td>0</td>\n",
              "      <td>...</td>\n",
              "      <td>0</td>\n",
              "      <td>0</td>\n",
              "      <td>0</td>\n",
              "      <td>1</td>\n",
              "      <td>1</td>\n",
              "      <td>0</td>\n",
              "      <td>0</td>\n",
              "      <td>0</td>\n",
              "      <td>0</td>\n",
              "      <td>0</td>\n",
              "    </tr>\n",
              "    <tr>\n",
              "      <th>3</th>\n",
              "      <td>0</td>\n",
              "      <td>1.0</td>\n",
              "      <td>305</td>\n",
              "      <td>1</td>\n",
              "      <td>0</td>\n",
              "      <td>0</td>\n",
              "      <td>0</td>\n",
              "      <td>0</td>\n",
              "      <td>0</td>\n",
              "      <td>0</td>\n",
              "      <td>...</td>\n",
              "      <td>0</td>\n",
              "      <td>0</td>\n",
              "      <td>0</td>\n",
              "      <td>0</td>\n",
              "      <td>0</td>\n",
              "      <td>1</td>\n",
              "      <td>0</td>\n",
              "      <td>0</td>\n",
              "      <td>0</td>\n",
              "      <td>0</td>\n",
              "    </tr>\n",
              "    <tr>\n",
              "      <th>4</th>\n",
              "      <td>1</td>\n",
              "      <td>2.0</td>\n",
              "      <td>1428</td>\n",
              "      <td>1</td>\n",
              "      <td>0</td>\n",
              "      <td>0</td>\n",
              "      <td>0</td>\n",
              "      <td>0</td>\n",
              "      <td>1</td>\n",
              "      <td>0</td>\n",
              "      <td>...</td>\n",
              "      <td>0</td>\n",
              "      <td>0</td>\n",
              "      <td>0</td>\n",
              "      <td>0</td>\n",
              "      <td>0</td>\n",
              "      <td>1</td>\n",
              "      <td>0</td>\n",
              "      <td>0</td>\n",
              "      <td>0</td>\n",
              "      <td>0</td>\n",
              "    </tr>\n",
              "    <tr>\n",
              "      <th>...</th>\n",
              "      <td>...</td>\n",
              "      <td>...</td>\n",
              "      <td>...</td>\n",
              "      <td>...</td>\n",
              "      <td>...</td>\n",
              "      <td>...</td>\n",
              "      <td>...</td>\n",
              "      <td>...</td>\n",
              "      <td>...</td>\n",
              "      <td>...</td>\n",
              "      <td>...</td>\n",
              "      <td>...</td>\n",
              "      <td>...</td>\n",
              "      <td>...</td>\n",
              "      <td>...</td>\n",
              "      <td>...</td>\n",
              "      <td>...</td>\n",
              "      <td>...</td>\n",
              "      <td>...</td>\n",
              "      <td>...</td>\n",
              "      <td>...</td>\n",
              "    </tr>\n",
              "    <tr>\n",
              "      <th>9235</th>\n",
              "      <td>1</td>\n",
              "      <td>8.0</td>\n",
              "      <td>1845</td>\n",
              "      <td>1</td>\n",
              "      <td>0</td>\n",
              "      <td>0</td>\n",
              "      <td>0</td>\n",
              "      <td>0</td>\n",
              "      <td>0</td>\n",
              "      <td>0</td>\n",
              "      <td>...</td>\n",
              "      <td>0</td>\n",
              "      <td>0</td>\n",
              "      <td>0</td>\n",
              "      <td>0</td>\n",
              "      <td>0</td>\n",
              "      <td>0</td>\n",
              "      <td>0</td>\n",
              "      <td>1</td>\n",
              "      <td>0</td>\n",
              "      <td>0</td>\n",
              "    </tr>\n",
              "    <tr>\n",
              "      <th>9236</th>\n",
              "      <td>0</td>\n",
              "      <td>2.0</td>\n",
              "      <td>238</td>\n",
              "      <td>1</td>\n",
              "      <td>0</td>\n",
              "      <td>0</td>\n",
              "      <td>0</td>\n",
              "      <td>0</td>\n",
              "      <td>0</td>\n",
              "      <td>0</td>\n",
              "      <td>...</td>\n",
              "      <td>0</td>\n",
              "      <td>0</td>\n",
              "      <td>0</td>\n",
              "      <td>1</td>\n",
              "      <td>0</td>\n",
              "      <td>0</td>\n",
              "      <td>0</td>\n",
              "      <td>0</td>\n",
              "      <td>0</td>\n",
              "      <td>1</td>\n",
              "    </tr>\n",
              "    <tr>\n",
              "      <th>9237</th>\n",
              "      <td>0</td>\n",
              "      <td>2.0</td>\n",
              "      <td>199</td>\n",
              "      <td>1</td>\n",
              "      <td>0</td>\n",
              "      <td>0</td>\n",
              "      <td>0</td>\n",
              "      <td>0</td>\n",
              "      <td>0</td>\n",
              "      <td>0</td>\n",
              "      <td>...</td>\n",
              "      <td>0</td>\n",
              "      <td>0</td>\n",
              "      <td>0</td>\n",
              "      <td>1</td>\n",
              "      <td>0</td>\n",
              "      <td>0</td>\n",
              "      <td>0</td>\n",
              "      <td>0</td>\n",
              "      <td>0</td>\n",
              "      <td>1</td>\n",
              "    </tr>\n",
              "    <tr>\n",
              "      <th>9238</th>\n",
              "      <td>1</td>\n",
              "      <td>3.0</td>\n",
              "      <td>499</td>\n",
              "      <td>1</td>\n",
              "      <td>0</td>\n",
              "      <td>0</td>\n",
              "      <td>0</td>\n",
              "      <td>0</td>\n",
              "      <td>1</td>\n",
              "      <td>0</td>\n",
              "      <td>...</td>\n",
              "      <td>1</td>\n",
              "      <td>0</td>\n",
              "      <td>0</td>\n",
              "      <td>0</td>\n",
              "      <td>0</td>\n",
              "      <td>0</td>\n",
              "      <td>0</td>\n",
              "      <td>0</td>\n",
              "      <td>0</td>\n",
              "      <td>1</td>\n",
              "    </tr>\n",
              "    <tr>\n",
              "      <th>9239</th>\n",
              "      <td>1</td>\n",
              "      <td>6.0</td>\n",
              "      <td>1279</td>\n",
              "      <td>1</td>\n",
              "      <td>0</td>\n",
              "      <td>0</td>\n",
              "      <td>0</td>\n",
              "      <td>0</td>\n",
              "      <td>0</td>\n",
              "      <td>0</td>\n",
              "      <td>...</td>\n",
              "      <td>0</td>\n",
              "      <td>0</td>\n",
              "      <td>0</td>\n",
              "      <td>1</td>\n",
              "      <td>0</td>\n",
              "      <td>1</td>\n",
              "      <td>0</td>\n",
              "      <td>0</td>\n",
              "      <td>0</td>\n",
              "      <td>0</td>\n",
              "    </tr>\n",
              "  </tbody>\n",
              "</table>\n",
              "<p>9240 rows × 71 columns</p>\n",
              "</div>\n",
              "      <button class=\"colab-df-convert\" onclick=\"convertToInteractive('df-0e7e4d65-d900-454c-b366-c11b44c0cc3f')\"\n",
              "              title=\"Convert this dataframe to an interactive table.\"\n",
              "              style=\"display:none;\">\n",
              "        \n",
              "  <svg xmlns=\"http://www.w3.org/2000/svg\" height=\"24px\"viewBox=\"0 0 24 24\"\n",
              "       width=\"24px\">\n",
              "    <path d=\"M0 0h24v24H0V0z\" fill=\"none\"/>\n",
              "    <path d=\"M18.56 5.44l.94 2.06.94-2.06 2.06-.94-2.06-.94-.94-2.06-.94 2.06-2.06.94zm-11 1L8.5 8.5l.94-2.06 2.06-.94-2.06-.94L8.5 2.5l-.94 2.06-2.06.94zm10 10l.94 2.06.94-2.06 2.06-.94-2.06-.94-.94-2.06-.94 2.06-2.06.94z\"/><path d=\"M17.41 7.96l-1.37-1.37c-.4-.4-.92-.59-1.43-.59-.52 0-1.04.2-1.43.59L10.3 9.45l-7.72 7.72c-.78.78-.78 2.05 0 2.83L4 21.41c.39.39.9.59 1.41.59.51 0 1.02-.2 1.41-.59l7.78-7.78 2.81-2.81c.8-.78.8-2.07 0-2.86zM5.41 20L4 18.59l7.72-7.72 1.47 1.35L5.41 20z\"/>\n",
              "  </svg>\n",
              "      </button>\n",
              "      \n",
              "  <style>\n",
              "    .colab-df-container {\n",
              "      display:flex;\n",
              "      flex-wrap:wrap;\n",
              "      gap: 12px;\n",
              "    }\n",
              "\n",
              "    .colab-df-convert {\n",
              "      background-color: #E8F0FE;\n",
              "      border: none;\n",
              "      border-radius: 50%;\n",
              "      cursor: pointer;\n",
              "      display: none;\n",
              "      fill: #1967D2;\n",
              "      height: 32px;\n",
              "      padding: 0 0 0 0;\n",
              "      width: 32px;\n",
              "    }\n",
              "\n",
              "    .colab-df-convert:hover {\n",
              "      background-color: #E2EBFA;\n",
              "      box-shadow: 0px 1px 2px rgba(60, 64, 67, 0.3), 0px 1px 3px 1px rgba(60, 64, 67, 0.15);\n",
              "      fill: #174EA6;\n",
              "    }\n",
              "\n",
              "    [theme=dark] .colab-df-convert {\n",
              "      background-color: #3B4455;\n",
              "      fill: #D2E3FC;\n",
              "    }\n",
              "\n",
              "    [theme=dark] .colab-df-convert:hover {\n",
              "      background-color: #434B5C;\n",
              "      box-shadow: 0px 1px 3px 1px rgba(0, 0, 0, 0.15);\n",
              "      filter: drop-shadow(0px 1px 2px rgba(0, 0, 0, 0.3));\n",
              "      fill: #FFFFFF;\n",
              "    }\n",
              "  </style>\n",
              "\n",
              "      <script>\n",
              "        const buttonEl =\n",
              "          document.querySelector('#df-0e7e4d65-d900-454c-b366-c11b44c0cc3f button.colab-df-convert');\n",
              "        buttonEl.style.display =\n",
              "          google.colab.kernel.accessAllowed ? 'block' : 'none';\n",
              "\n",
              "        async function convertToInteractive(key) {\n",
              "          const element = document.querySelector('#df-0e7e4d65-d900-454c-b366-c11b44c0cc3f');\n",
              "          const dataTable =\n",
              "            await google.colab.kernel.invokeFunction('convertToInteractive',\n",
              "                                                     [key], {});\n",
              "          if (!dataTable) return;\n",
              "\n",
              "          const docLinkHtml = 'Like what you see? Visit the ' +\n",
              "            '<a target=\"_blank\" href=https://colab.research.google.com/notebooks/data_table.ipynb>data table notebook</a>'\n",
              "            + ' to learn more about interactive tables.';\n",
              "          element.innerHTML = '';\n",
              "          dataTable['output_type'] = 'display_data';\n",
              "          await google.colab.output.renderOutput(dataTable, element);\n",
              "          const docLink = document.createElement('div');\n",
              "          docLink.innerHTML = docLinkHtml;\n",
              "          element.appendChild(docLink);\n",
              "        }\n",
              "      </script>\n",
              "    </div>\n",
              "  </div>\n",
              "  "
            ]
          },
          "metadata": {},
          "execution_count": 659
        }
      ]
    },
    {
      "cell_type": "code",
      "execution_count": 660,
      "metadata": {
        "id": "AfEdpdK_kRRy"
      },
      "outputs": [],
      "source": [
        "x=dataset.drop('Converted',axis=1).values"
      ]
    },
    {
      "cell_type": "code",
      "execution_count": 661,
      "metadata": {
        "id": "DfWaYwHCkRgQ",
        "colab": {
          "base_uri": "https://localhost:8080/"
        },
        "outputId": "5668223f-33e5-458a-d374-c0f9c99510c1"
      },
      "outputs": [
        {
          "output_type": "execute_result",
          "data": {
            "text/plain": [
              "array([[0.000e+00, 0.000e+00, 0.000e+00, ..., 0.000e+00, 0.000e+00,\n",
              "        0.000e+00],\n",
              "       [5.000e+00, 6.740e+02, 0.000e+00, ..., 0.000e+00, 0.000e+00,\n",
              "        0.000e+00],\n",
              "       [2.000e+00, 1.532e+03, 1.000e+00, ..., 0.000e+00, 0.000e+00,\n",
              "        0.000e+00],\n",
              "       ...,\n",
              "       [2.000e+00, 1.990e+02, 1.000e+00, ..., 0.000e+00, 0.000e+00,\n",
              "        1.000e+00],\n",
              "       [3.000e+00, 4.990e+02, 1.000e+00, ..., 0.000e+00, 0.000e+00,\n",
              "        1.000e+00],\n",
              "       [6.000e+00, 1.279e+03, 1.000e+00, ..., 0.000e+00, 0.000e+00,\n",
              "        0.000e+00]])"
            ]
          },
          "metadata": {},
          "execution_count": 661
        }
      ],
      "source": [
        "x"
      ]
    },
    {
      "cell_type": "code",
      "execution_count": 662,
      "metadata": {
        "id": "QlI6RLkRkrGq",
        "colab": {
          "base_uri": "https://localhost:8080/"
        },
        "outputId": "a456e08d-1f8c-4025-c951-1ca3e1c644d3"
      },
      "outputs": [
        {
          "output_type": "execute_result",
          "data": {
            "text/plain": [
              "array([0, 0, 1, ..., 0, 1, 1])"
            ]
          },
          "metadata": {},
          "execution_count": 662
        }
      ],
      "source": [
        "y=dataset.iloc[:,0].values\n",
        "y"
      ]
    },
    {
      "cell_type": "code",
      "execution_count": 663,
      "metadata": {
        "id": "ghhysInZk4F4",
        "colab": {
          "base_uri": "https://localhost:8080/"
        },
        "outputId": "5878b490-d96e-44c1-d904-8deb193d162c"
      },
      "outputs": [
        {
          "output_type": "stream",
          "name": "stdout",
          "text": [
            "<class 'pandas.core.frame.DataFrame'>\n",
            "RangeIndex: 9240 entries, 0 to 9239\n",
            "Data columns (total 71 columns):\n",
            " #   Column                                                Non-Null Count  Dtype  \n",
            "---  ------                                                --------------  -----  \n",
            " 0   Converted                                             9240 non-null   int64  \n",
            " 1   TotalVisits                                           9240 non-null   float64\n",
            " 2   Total_Time_Spent_on_Website                           9240 non-null   int64  \n",
            " 3   Lead_Origin_Landing Page Submission                   9240 non-null   uint8  \n",
            " 4   Lead_Origin_Lead Add Form                             9240 non-null   uint8  \n",
            " 5   Lead_Origin_Lead Import                               9240 non-null   uint8  \n",
            " 6   Lead_Origin_Quick Add Form                            9240 non-null   uint8  \n",
            " 7   Lead_Source_Facebook                                  9240 non-null   uint8  \n",
            " 8   Lead_Source_Google                                    9240 non-null   uint8  \n",
            " 9   Lead_Source_Olark Chat                                9240 non-null   uint8  \n",
            " 10  Lead_Source_Organic Search                            9240 non-null   uint8  \n",
            " 11  Lead_Source_Others                                    9240 non-null   uint8  \n",
            " 12  Lead_Source_Reference                                 9240 non-null   uint8  \n",
            " 13  Lead_Source_Referral Sites                            9240 non-null   uint8  \n",
            " 14  Lead_Source_Welingak Website                          9240 non-null   uint8  \n",
            " 15  Last_Activity_Email Bounced                           9240 non-null   uint8  \n",
            " 16  Last_Activity_Email Link Clicked                      9240 non-null   uint8  \n",
            " 17  Last_Activity_Email Opened                            9240 non-null   uint8  \n",
            " 18  Last_Activity_Form Submitted on Website               9240 non-null   uint8  \n",
            " 19  Last_Activity_Olark Chat Conversation                 9240 non-null   uint8  \n",
            " 20  Last_Activity_Others                                  9240 non-null   uint8  \n",
            " 21  Last_Activity_Page Visited on Website                 9240 non-null   uint8  \n",
            " 22  Last_Activity_SMS Sent                                9240 non-null   uint8  \n",
            " 23  Specialization_Business Administration                9240 non-null   uint8  \n",
            " 24  Specialization_E-Business                             9240 non-null   uint8  \n",
            " 25  Specialization_E-COMMERCE                             9240 non-null   uint8  \n",
            " 26  Specialization_Finance Management                     9240 non-null   uint8  \n",
            " 27  Specialization_Healthcare Management                  9240 non-null   uint8  \n",
            " 28  Specialization_Hospitality Management                 9240 non-null   uint8  \n",
            " 29  Specialization_Human Resource Management              9240 non-null   uint8  \n",
            " 30  Specialization_IT Projects Management                 9240 non-null   uint8  \n",
            " 31  Specialization_International Business                 9240 non-null   uint8  \n",
            " 32  Specialization_Marketing Management                   9240 non-null   uint8  \n",
            " 33  Specialization_Media and Advertising                  9240 non-null   uint8  \n",
            " 34  Specialization_Not Specified                          9240 non-null   uint8  \n",
            " 35  Specialization_Operations Management                  9240 non-null   uint8  \n",
            " 36  Specialization_Retail Management                      9240 non-null   uint8  \n",
            " 37  Specialization_Rural and Agribusiness                 9240 non-null   uint8  \n",
            " 38  Specialization_Services Excellence                    9240 non-null   uint8  \n",
            " 39  Specialization_Supply Chain Management                9240 non-null   uint8  \n",
            " 40  Specialization_Travel and Tourism                     9240 non-null   uint8  \n",
            " 41  What_is_your_current_occupation_Housewife             9240 non-null   uint8  \n",
            " 42  What_is_your_current_occupation_Other                 9240 non-null   uint8  \n",
            " 43  What_is_your_current_occupation_Student               9240 non-null   uint8  \n",
            " 44  What_is_your_current_occupation_Unemployed            9240 non-null   uint8  \n",
            " 45  What_is_your_current_occupation_Working Professional  9240 non-null   uint8  \n",
            " 46  Tags_Closed by Horizzon                               9240 non-null   uint8  \n",
            " 47  Tags_Interested in other courses                      9240 non-null   uint8  \n",
            " 48  Tags_Lost to EINS                                     9240 non-null   uint8  \n",
            " 49  Tags_Not Specified                                    9240 non-null   uint8  \n",
            " 50  Tags_Other_Tags                                       9240 non-null   uint8  \n",
            " 51  Tags_Ringing                                          9240 non-null   uint8  \n",
            " 52  Tags_Will revert after reading the email              9240 non-null   uint8  \n",
            " 53  Lead_Profile_Lateral Student                          9240 non-null   uint8  \n",
            " 54  Lead_Profile_Not Specified                            9240 non-null   uint8  \n",
            " 55  Lead_Profile_Other Leads                              9240 non-null   uint8  \n",
            " 56  Lead_Profile_Potential Lead                           9240 non-null   uint8  \n",
            " 57  Lead_Profile_Student of SomeSchool                    9240 non-null   uint8  \n",
            " 58  City_Not Specified                                    9240 non-null   uint8  \n",
            " 59  City_Other Cities                                     9240 non-null   uint8  \n",
            " 60  City_Other Cities of Maharashtra                      9240 non-null   uint8  \n",
            " 61  City_Other Metro Cities                               9240 non-null   uint8  \n",
            " 62  City_Thane & Outskirts                                9240 non-null   uint8  \n",
            " 63  City_Tier II Cities                                   9240 non-null   uint8  \n",
            " 64  A_free_copy_of_Mastering_The_Interview_Yes            9240 non-null   uint8  \n",
            " 65  Last_Notable_Activity_Email Opened                    9240 non-null   uint8  \n",
            " 66  Last_Notable_Activity_Modified                        9240 non-null   uint8  \n",
            " 67  Last_Notable_Activity_Olark Chat Conversation         9240 non-null   uint8  \n",
            " 68  Last_Notable_Activity_Other_Notable_activity          9240 non-null   uint8  \n",
            " 69  Last_Notable_Activity_Page Visited on Website         9240 non-null   uint8  \n",
            " 70  Last_Notable_Activity_SMS Sent                        9240 non-null   uint8  \n",
            "dtypes: float64(1), int64(2), uint8(68)\n",
            "memory usage: 830.3 KB\n"
          ]
        }
      ],
      "source": [
        "dataset.info()"
      ]
    },
    {
      "cell_type": "code",
      "source": [
        "dataset.columns"
      ],
      "metadata": {
        "colab": {
          "base_uri": "https://localhost:8080/"
        },
        "id": "L4rPaLis6IAK",
        "outputId": "2c02a1d8-c455-4f70-ad12-eab776137cb2"
      },
      "execution_count": 693,
      "outputs": [
        {
          "output_type": "execute_result",
          "data": {
            "text/plain": [
              "Index(['Converted', 'TotalVisits', 'Total_Time_Spent_on_Website',\n",
              "       'Lead_Origin_Landing Page Submission', 'Lead_Origin_Lead Add Form',\n",
              "       'Lead_Origin_Lead Import', 'Lead_Origin_Quick Add Form',\n",
              "       'Lead_Source_Facebook', 'Lead_Source_Google', 'Lead_Source_Olark Chat',\n",
              "       'Lead_Source_Organic Search', 'Lead_Source_Others',\n",
              "       'Lead_Source_Reference', 'Lead_Source_Referral Sites',\n",
              "       'Lead_Source_Welingak Website', 'Last_Activity_Email Bounced',\n",
              "       'Last_Activity_Email Link Clicked', 'Last_Activity_Email Opened',\n",
              "       'Last_Activity_Form Submitted on Website',\n",
              "       'Last_Activity_Olark Chat Conversation', 'Last_Activity_Others',\n",
              "       'Last_Activity_Page Visited on Website', 'Last_Activity_SMS Sent',\n",
              "       'Specialization_Business Administration', 'Specialization_E-Business',\n",
              "       'Specialization_E-COMMERCE', 'Specialization_Finance Management',\n",
              "       'Specialization_Healthcare Management',\n",
              "       'Specialization_Hospitality Management',\n",
              "       'Specialization_Human Resource Management',\n",
              "       'Specialization_IT Projects Management',\n",
              "       'Specialization_International Business',\n",
              "       'Specialization_Marketing Management',\n",
              "       'Specialization_Media and Advertising', 'Specialization_Not Specified',\n",
              "       'Specialization_Operations Management',\n",
              "       'Specialization_Retail Management',\n",
              "       'Specialization_Rural and Agribusiness',\n",
              "       'Specialization_Services Excellence',\n",
              "       'Specialization_Supply Chain Management',\n",
              "       'Specialization_Travel and Tourism',\n",
              "       'What_is_your_current_occupation_Housewife',\n",
              "       'What_is_your_current_occupation_Other',\n",
              "       'What_is_your_current_occupation_Student',\n",
              "       'What_is_your_current_occupation_Unemployed',\n",
              "       'What_is_your_current_occupation_Working Professional',\n",
              "       'Tags_Closed by Horizzon', 'Tags_Interested in other courses',\n",
              "       'Tags_Lost to EINS', 'Tags_Not Specified', 'Tags_Other_Tags',\n",
              "       'Tags_Ringing', 'Tags_Will revert after reading the email',\n",
              "       'Lead_Profile_Lateral Student', 'Lead_Profile_Not Specified',\n",
              "       'Lead_Profile_Other Leads', 'Lead_Profile_Potential Lead',\n",
              "       'Lead_Profile_Student of SomeSchool', 'City_Not Specified',\n",
              "       'City_Other Cities', 'City_Other Cities of Maharashtra',\n",
              "       'City_Other Metro Cities', 'City_Thane & Outskirts',\n",
              "       'City_Tier II Cities', 'A_free_copy_of_Mastering_The_Interview_Yes',\n",
              "       'Last_Notable_Activity_Email Opened', 'Last_Notable_Activity_Modified',\n",
              "       'Last_Notable_Activity_Olark Chat Conversation',\n",
              "       'Last_Notable_Activity_Other_Notable_activity',\n",
              "       'Last_Notable_Activity_Page Visited on Website',\n",
              "       'Last_Notable_Activity_SMS Sent'],\n",
              "      dtype='object')"
            ]
          },
          "metadata": {},
          "execution_count": 693
        }
      ]
    },
    {
      "cell_type": "code",
      "execution_count": 664,
      "metadata": {
        "id": "L96754BYkNlU"
      },
      "outputs": [],
      "source": [
        "from sklearn.model_selection import train_test_split\n",
        "x_train,x_test,y_train,y_test=train_test_split(x,y,test_size=0.2,random_state=1)"
      ]
    },
    {
      "cell_type": "code",
      "execution_count": 665,
      "metadata": {
        "id": "xX-V8RwIorRv"
      },
      "outputs": [],
      "source": [
        "from sklearn.preprocessing import StandardScaler\n",
        "sc=StandardScaler()\n",
        "x_train=sc.fit_transform(x_train)\n",
        "x_test=sc.fit_transform(x_test)"
      ]
    },
    {
      "cell_type": "code",
      "execution_count": 666,
      "metadata": {
        "id": "E48u3o8wpAlq",
        "colab": {
          "base_uri": "https://localhost:8080/"
        },
        "outputId": "2a72e578-9ee7-45ea-f04b-9e6d1bb26d49"
      },
      "outputs": [
        {
          "output_type": "execute_result",
          "data": {
            "text/plain": [
              "array([[ 0.10731869, -0.45531449,  0.94599088, ..., -0.13327136,\n",
              "        -0.18631813, -0.5569324 ],\n",
              "       [-0.68105376, -0.89190041, -1.05709264, ..., -0.13327136,\n",
              "        -0.18631813,  1.79555005],\n",
              "       [-0.28686753, -0.39685947,  0.94599088, ..., -0.13327136,\n",
              "        -0.18631813, -0.5569324 ],\n",
              "       ...,\n",
              "       [-0.28686753, -0.39685947, -1.05709264, ..., -0.13327136,\n",
              "        -0.18631813, -0.5569324 ],\n",
              "       [-0.28686753, -0.08083703, -1.05709264, ..., -0.13327136,\n",
              "        -0.18631813, -0.5569324 ],\n",
              "       [ 1.68406359, -0.84075226,  0.94599088, ..., -0.13327136,\n",
              "        -0.18631813, -0.5569324 ]])"
            ]
          },
          "metadata": {},
          "execution_count": 666
        }
      ],
      "source": [
        "x_train"
      ]
    },
    {
      "cell_type": "code",
      "execution_count": 667,
      "metadata": {
        "id": "632BswrcpAn_"
      },
      "outputs": [],
      "source": [
        "from sklearn.linear_model import LogisticRegression\n",
        "model=LogisticRegression()\n",
        "model1=model.fit(x_train,y_train)"
      ]
    },
    {
      "cell_type": "code",
      "execution_count": 668,
      "metadata": {
        "id": "VYLgiK4epAtU"
      },
      "outputs": [],
      "source": [
        "y_pred=model1.predict(x_test)"
      ]
    },
    {
      "cell_type": "code",
      "execution_count": 669,
      "metadata": {
        "id": "Z_R4cMnHpbiO"
      },
      "outputs": [],
      "source": [
        "from sklearn.metrics import confusion_matrix,accuracy_score\n",
        "cm=confusion_matrix(y_test,y_pred)"
      ]
    },
    {
      "cell_type": "code",
      "execution_count": 670,
      "metadata": {
        "id": "tBKn6Jukplgy",
        "colab": {
          "base_uri": "https://localhost:8080/"
        },
        "outputId": "e16f88d2-cf2e-41cc-a096-df52c9c66ed8"
      },
      "outputs": [
        {
          "output_type": "execute_result",
          "data": {
            "text/plain": [
              "array([[1072,   47],\n",
              "       [  79,  650]])"
            ]
          },
          "metadata": {},
          "execution_count": 670
        }
      ],
      "source": [
        "cm"
      ]
    },
    {
      "cell_type": "code",
      "execution_count": 671,
      "metadata": {
        "id": "W4_p08dwpm5s",
        "colab": {
          "base_uri": "https://localhost:8080/"
        },
        "outputId": "cdce8b94-1e77-4f93-b153-4be417bc25c1"
      },
      "outputs": [
        {
          "output_type": "execute_result",
          "data": {
            "text/plain": [
              "0.9318181818181818"
            ]
          },
          "metadata": {},
          "execution_count": 671
        }
      ],
      "source": [
        "accuracy_score(y_test,y_pred)"
      ]
    },
    {
      "cell_type": "code",
      "execution_count": 672,
      "metadata": {
        "id": "3fXhk7AnVl77",
        "colab": {
          "base_uri": "https://localhost:8080/"
        },
        "outputId": "c3068608-1449-43ef-f21b-efd5066e0894"
      },
      "outputs": [
        {
          "output_type": "stream",
          "name": "stdout",
          "text": [
            "              precision    recall  f1-score   support\n",
            "\n",
            "           0       0.93      0.96      0.94      1119\n",
            "           1       0.93      0.89      0.91       729\n",
            "\n",
            "    accuracy                           0.93      1848\n",
            "   macro avg       0.93      0.92      0.93      1848\n",
            "weighted avg       0.93      0.93      0.93      1848\n",
            "\n"
          ]
        }
      ],
      "source": [
        "from sklearn.metrics import classification_report\n",
        "print(classification_report(y_test,y_pred))"
      ]
    },
    {
      "cell_type": "code",
      "execution_count": 673,
      "metadata": {
        "id": "xt62A8HpVxVK",
        "colab": {
          "base_uri": "https://localhost:8080/",
          "height": 296
        },
        "outputId": "2562a00b-0181-47bc-d35e-6b218bc24cf4"
      },
      "outputs": [
        {
          "output_type": "execute_result",
          "data": {
            "text/plain": [
              "<matplotlib.axes._subplots.AxesSubplot at 0x7f70510cf9d0>"
            ]
          },
          "metadata": {},
          "execution_count": 673
        },
        {
          "output_type": "display_data",
          "data": {
            "text/plain": [
              "<Figure size 432x288 with 1 Axes>"
            ],
            "image/png": "[encoded data removed]"
          },
          "metadata": {
            "needs_background": "light"
          }
        }
      ],
      "source": [
        "#Sigmoid graph plotting\n",
        "plt.scatter(dataset['TotalVisits'],dataset['Converted'])\n",
        "sns.regplot(x='TotalVisits',y='Converted',data=dataset,logistic=True)"
      ]
    },
    {
      "cell_type": "markdown",
      "metadata": {
        "id": "XsvW0whCdqpM"
      },
      "source": [
        "Model Summary"
      ]
    },
    {
      "cell_type": "code",
      "source": [
        "x3=dataset.drop(['Converted'],axis=1)\n",
        "y3=dataset['Converted']"
      ],
      "metadata": {
        "id": "rpUZKyVe2ABz"
      },
      "execution_count": 683,
      "outputs": []
    },
    {
      "cell_type": "code",
      "source": [
        "x_train1,x_test1,y_train1,y_test1=train_test_split(x3,y3,test_size=0.2,random_state=1)"
      ],
      "metadata": {
        "id": "d_xGUYKC2AFf"
      },
      "execution_count": 691,
      "outputs": []
    },
    {
      "cell_type": "code",
      "source": [
        "import statsmodels.api as sm\n",
        "x2 = sm.add_constant(x_train1)\n",
        "logit_model=sm.OLS(y_train1,x2)\n",
        "result=logit_model.fit()\n",
        "print(result.summary())"
      ],
      "metadata": {
        "colab": {
          "base_uri": "https://localhost:8080/"
        },
        "id": "jd99IqJz4slT",
        "outputId": "90e1df49-4bb4-4dd2-e17b-1db84d7f23ce"
      },
      "execution_count": 692,
      "outputs": [
        {
          "output_type": "stream",
          "name": "stdout",
          "text": [
            "                            OLS Regression Results                            \n",
            "==============================================================================\n",
            "Dep. Variable:              Converted   R-squared:                       0.716\n",
            "Model:                            OLS   Adj. R-squared:                  0.713\n",
            "Method:                 Least Squares   F-statistic:                     263.1\n",
            "Date:                Mon, 23 Jan 2023   Prob (F-statistic):               0.00\n",
            "Time:                        13:49:10   Log-Likelihood:                -510.35\n",
            "No. Observations:                7392   AIC:                             1163.\n",
            "Df Residuals:                    7321   BIC:                             1653.\n",
            "Df Model:                          70                                         \n",
            "Covariance Type:            nonrobust                                         \n",
            "========================================================================================================================\n",
            "                                                           coef    std err          t      P>|t|      [0.025      0.975]\n",
            "------------------------------------------------------------------------------------------------------------------------\n",
            "const                                                    0.2857      0.134      2.124      0.034       0.022       0.549\n",
            "TotalVisits                                              0.0024      0.001      3.460      0.001       0.001       0.004\n",
            "Total_Time_Spent_on_Website                              0.0002   6.67e-06     23.195      0.000       0.000       0.000\n",
            "Lead_Origin_Landing Page Submission                     -0.0463      0.013     -3.456      0.001      -0.073      -0.020\n",
            "Lead_Origin_Lead Add Form                                0.1802      0.048      3.728      0.000       0.085       0.275\n",
            "Lead_Origin_Lead Import                                  0.0852      0.135      0.631      0.528      -0.179       0.350\n",
            "Lead_Origin_Quick Add Form                               0.5496      0.264      2.085      0.037       0.033       1.066\n",
            "Lead_Source_Facebook                                    -0.0383      0.132     -0.291      0.771      -0.296       0.220\n",
            "Lead_Source_Google                                       0.0215      0.010      2.082      0.037       0.001       0.042\n",
            "Lead_Source_Olark Chat                                   0.0775      0.014      5.538      0.000       0.050       0.105\n",
            "Lead_Source_Organic Search                               0.0128      0.011      1.133      0.257      -0.009       0.035\n",
            "Lead_Source_Others                                       0.0227      0.061      0.373      0.709      -0.096       0.142\n",
            "Lead_Source_Reference                                   -0.0937      0.051     -1.850      0.064      -0.193       0.006\n",
            "Lead_Source_Referral Sites                              -0.0168      0.028     -0.593      0.553      -0.072       0.039\n",
            "Lead_Source_Welingak Website                             0.3573      0.054      6.570      0.000       0.251       0.464\n",
            "Last_Activity_Email Bounced                             -0.0406      0.022     -1.817      0.069      -0.084       0.003\n",
            "Last_Activity_Email Link Clicked                         0.0319      0.033      0.968      0.333      -0.033       0.096\n",
            "Last_Activity_Email Opened                               0.0152      0.019      0.801      0.423      -0.022       0.052\n",
            "Last_Activity_Form Submitted on Website                  0.0208      0.030      0.685      0.494      -0.039       0.080\n",
            "Last_Activity_Olark Chat Conversation                   -0.0738      0.019     -3.979      0.000      -0.110      -0.037\n",
            "Last_Activity_Others                                     0.0058      0.025      0.234      0.815      -0.043       0.055\n",
            "Last_Activity_Page Visited on Website                   -0.0165      0.022     -0.765      0.444      -0.059       0.026\n",
            "Last_Activity_SMS Sent                                   0.0686      0.019      3.606      0.000       0.031       0.106\n",
            "Specialization_Business Administration                  -0.0068      0.021     -0.318      0.751      -0.049       0.035\n",
            "Specialization_E-Business                                0.0192      0.041      0.472      0.637      -0.061       0.099\n",
            "Specialization_E-COMMERCE                                0.0270      0.033      0.830      0.407      -0.037       0.091\n",
            "Specialization_Finance Management                       -0.0087      0.019     -0.468      0.640      -0.045       0.028\n",
            "Specialization_Healthcare Management                    -0.0097      0.029     -0.339      0.735      -0.066       0.046\n",
            "Specialization_Hospitality Management                   -0.0095      0.032     -0.294      0.768      -0.073       0.054\n",
            "Specialization_Human Resource Management                -0.0071      0.019     -0.373      0.709      -0.044       0.030\n",
            "Specialization_IT Projects Management                    0.0013      0.022      0.058      0.954      -0.042       0.045\n",
            "Specialization_International Business                   -0.0100      0.027     -0.368      0.713      -0.064       0.044\n",
            "Specialization_Marketing Management                     -0.0030      0.019     -0.157      0.875      -0.040       0.034\n",
            "Specialization_Media and Advertising                    -0.0196      0.026     -0.749      0.454      -0.071       0.032\n",
            "Specialization_Not Specified                             0.0002      0.021      0.010      0.992      -0.041       0.041\n",
            "Specialization_Operations Management                     0.0060      0.021      0.288      0.774      -0.035       0.047\n",
            "Specialization_Retail Management                        -0.0248      0.033     -0.756      0.450      -0.089       0.039\n",
            "Specialization_Rural and Agribusiness                    0.0121      0.039      0.311      0.756      -0.064       0.089\n",
            "Specialization_Services Excellence                      -0.0123      0.051     -0.240      0.811      -0.113       0.088\n",
            "Specialization_Supply Chain Management                  -0.0158      0.022     -0.705      0.481      -0.060       0.028\n",
            "Specialization_Travel and Tourism                       -0.0503      0.027     -1.894      0.058      -0.102       0.002\n",
            "What_is_your_current_occupation_Housewife                0.1392      0.142      0.983      0.326      -0.138       0.417\n",
            "What_is_your_current_occupation_Other                    0.0769      0.129      0.595      0.552      -0.177       0.330\n",
            "What_is_your_current_occupation_Student                  0.0552      0.109      0.505      0.613      -0.159       0.270\n",
            "What_is_your_current_occupation_Unemployed               0.0560      0.107      0.523      0.601      -0.154       0.266\n",
            "What_is_your_current_occupation_Working Professional     0.0569      0.108      0.528      0.598      -0.154       0.268\n",
            "Tags_Closed by Horizzon                                  0.4562      0.028     16.274      0.000       0.401       0.511\n",
            "Tags_Interested in other courses                        -0.3666      0.025    -14.530      0.000      -0.416      -0.317\n",
            "Tags_Lost to EINS                                        0.5027      0.031     16.295      0.000       0.442       0.563\n",
            "Tags_Not Specified                                      -0.2037      0.022     -9.187      0.000      -0.247      -0.160\n",
            "Tags_Other_Tags                                         -0.3920      0.023    -17.035      0.000      -0.437      -0.347\n",
            "Tags_Ringing                                            -0.4591      0.023    -20.074      0.000      -0.504      -0.414\n",
            "Tags_Will revert after reading the email                 0.3423      0.023     15.066      0.000       0.298       0.387\n",
            "Lead_Profile_Lateral Student                             0.0042      0.086      0.049      0.961      -0.164       0.172\n",
            "Lead_Profile_Not Specified                              -0.0854      0.064     -1.334      0.182      -0.211       0.040\n",
            "Lead_Profile_Other Leads                                -0.0114      0.065     -0.174      0.862      -0.139       0.116\n",
            "Lead_Profile_Potential Lead                             -0.0221      0.064     -0.346      0.729      -0.147       0.103\n",
            "Lead_Profile_Student of SomeSchool                      -0.0587      0.067     -0.872      0.383      -0.191       0.073\n",
            "City_Not Specified                                       0.0002      0.015      0.013      0.990      -0.030       0.030\n",
            "City_Other Cities                                        0.0140      0.012      1.122      0.262      -0.010       0.039\n",
            "City_Other Cities of Maharashtra                        -0.0056      0.015     -0.374      0.708      -0.035       0.024\n",
            "City_Other Metro Cities                                  0.0031      0.016      0.193      0.847      -0.028       0.035\n",
            "City_Thane & Outskirts                                  -0.0032      0.012     -0.266      0.790      -0.027       0.020\n",
            "City_Tier II Cities                                      0.0035      0.036      0.098      0.922      -0.066       0.073\n",
            "A_free_copy_of_Mastering_The_Interview_Yes              -0.0012      0.010     -0.122      0.903      -0.021       0.018\n",
            "Last_Notable_Activity_Email Opened                       0.1071      0.040      2.707      0.007       0.030       0.185\n",
            "Last_Notable_Activity_Modified                           0.0365      0.037      0.981      0.326      -0.036       0.110\n",
            "Last_Notable_Activity_Olark Chat Conversation            0.0485      0.044      1.101      0.271      -0.038       0.135\n",
            "Last_Notable_Activity_Other_Notable_activity             0.1277      0.046      2.767      0.006       0.037       0.218\n",
            "Last_Notable_Activity_Page Visited on Website            0.0807      0.044      1.839      0.066      -0.005       0.167\n",
            "Last_Notable_Activity_SMS Sent                           0.2485      0.040      6.237      0.000       0.170       0.327\n",
            "==============================================================================\n",
            "Omnibus:                     1184.065   Durbin-Watson:                   1.969\n",
            "Prob(Omnibus):                  0.000   Jarque-Bera (JB):             2840.365\n",
            "Skew:                           0.909   Prob(JB):                         0.00\n",
            "Kurtosis:                       5.432   Cond. No.                     6.53e+04\n",
            "==============================================================================\n",
            "\n",
            "Notes:\n",
            "[1] Standard Errors assume that the covariance matrix of the errors is correctly specified.\n",
            "[2] The condition number is large, 6.53e+04. This might indicate that there are\n",
            "strong multicollinearity or other numerical problems.\n"
          ]
        },
        {
          "output_type": "stream",
          "name": "stderr",
          "text": [
            "/usr/local/lib/python3.8/dist-packages/statsmodels/tsa/tsatools.py:142: FutureWarning: In a future version of pandas all arguments of concat except for the argument 'objs' will be keyword-only\n",
            "  x = pd.concat(x[::order], 1)\n"
          ]
        }
      ]
    },
    {
      "cell_type": "code",
      "execution_count": 689,
      "metadata": {
        "id": "dwOQA7vVb4Rf",
        "colab": {
          "base_uri": "https://localhost:8080/"
        },
        "outputId": "9d50a09d-a708-4619-a998-8e91cf073824"
      },
      "outputs": [
        {
          "output_type": "stream",
          "name": "stdout",
          "text": [
            "Warning: Maximum number of iterations has been exceeded.\n",
            "         Current function value: 0.186543\n",
            "         Iterations: 35\n",
            "                           Logit Regression Results                           \n",
            "==============================================================================\n",
            "Dep. Variable:                      y   No. Observations:                 7392\n",
            "Model:                          Logit   Df Residuals:                     7321\n",
            "Method:                           MLE   Df Model:                           70\n",
            "Date:                Mon, 23 Jan 2023   Pseudo R-squ.:                  0.7197\n",
            "Time:                        13:47:55   Log-Likelihood:                -1378.9\n",
            "converged:                      False   LL-Null:                       -4919.9\n",
            "Covariance Type:            nonrobust   LLR p-value:                     0.000\n",
            "==============================================================================\n",
            "                 coef    std err          z      P>|z|      [0.025      0.975]\n",
            "------------------------------------------------------------------------------\n",
            "const         -0.8268    175.168     -0.005      0.996    -344.150     342.496\n",
            "x1             0.1349      0.035      3.905      0.000       0.067       0.203\n",
            "x2             1.0950      0.059     18.451      0.000       0.979       1.211\n",
            "x3            -0.2550      0.118     -2.158      0.031      -0.487      -0.023\n",
            "x4             0.7371      0.222      3.314      0.001       0.301       1.173\n",
            "x5             0.1142      0.131      0.871      0.383      -0.143       0.371\n",
            "x6             0.3198      1e+04    3.2e-05      1.000   -1.96e+04    1.96e+04\n",
            "x7            -0.1156      0.123     -0.941      0.347      -0.356       0.125\n",
            "x8             0.0857      0.082      1.041      0.298      -0.076       0.247\n",
            "x9             0.4579      0.088      5.193      0.000       0.285       0.631\n",
            "x10           -0.0146      0.065     -0.226      0.821      -0.141       0.112\n",
            "x11            0.0226      0.045      0.503      0.615      -0.066       0.111\n",
            "x12           -0.4753      0.214     -2.217      0.027      -0.895      -0.055\n",
            "x13           -0.0101      0.052     -0.195      0.846      -0.111       0.091\n",
            "x14            0.3406      0.138      2.471      0.013       0.070       0.611\n",
            "x15           -0.2552      0.109     -2.351      0.019      -0.468      -0.042\n",
            "x16            0.1287      0.101      1.277      0.201      -0.069       0.326\n",
            "x17            0.2088      0.187      1.117      0.264      -0.158       0.575\n",
            "x18            0.0585      0.068      0.864      0.388      -0.074       0.191\n",
            "x19           -0.1605      0.121     -1.323      0.186      -0.398       0.077\n",
            "x20           -0.0768      0.098     -0.782      0.434      -0.269       0.116\n",
            "x21           -0.0511      0.117     -0.436      0.663      -0.281       0.179\n",
            "x22            0.6242      0.164      3.799      0.000       0.302       0.946\n",
            "x23           -0.0032      0.078     -0.041      0.967      -0.156       0.150\n",
            "x24           -0.0323      0.051     -0.629      0.530      -0.133       0.069\n",
            "x25            0.0451      0.058      0.779      0.436      -0.069       0.159\n",
            "x26           -0.0696      0.105     -0.663      0.507      -0.275       0.136\n",
            "x27           -0.0394      0.067     -0.590      0.555      -0.170       0.091\n",
            "x28           -0.0131      0.059     -0.223      0.823      -0.128       0.102\n",
            "x29           -0.0975      0.098     -0.996      0.319      -0.289       0.094\n",
            "x30           -0.0170      0.078     -0.219      0.827      -0.169       0.135\n",
            "x31           -0.0389      0.065     -0.594      0.552      -0.167       0.089\n",
            "x32           -0.0035      0.098     -0.036      0.971      -0.195       0.188\n",
            "x33           -0.0186      0.071     -0.263      0.792      -0.157       0.120\n",
            "x34           -0.1309      0.192     -0.683      0.494      -0.506       0.244\n",
            "x35           -0.0071      0.083     -0.085      0.932      -0.170       0.156\n",
            "x36           -0.0318      0.062     -0.516      0.606      -0.152       0.089\n",
            "x37           -0.0200      0.061     -0.329      0.742      -0.139       0.099\n",
            "x38            0.0286      0.047      0.612      0.541      -0.063       0.120\n",
            "x39           -0.0690      0.079     -0.876      0.381      -0.223       0.085\n",
            "x40           -0.1470      0.073     -2.001      0.045      -0.291      -0.003\n",
            "x41            0.7438   3976.914      0.000      1.000   -7793.865    7795.353\n",
            "x42            0.0407      0.088      0.464      0.643      -0.131       0.212\n",
            "x43            0.0754      0.257      0.293      0.769      -0.429       0.580\n",
            "x44            0.1813      0.496      0.365      0.715      -0.791       1.154\n",
            "x45            0.2287      0.442      0.518      0.605      -0.638       1.095\n",
            "x46            1.2450      0.201      6.201      0.000       0.852       1.639\n",
            "x47           -0.7446      0.099     -7.497      0.000      -0.939      -0.550\n",
            "x48            0.7429      0.092      8.061      0.000       0.562       0.924\n",
            "x49           -0.3119      0.111     -2.802      0.005      -0.530      -0.094\n",
            "x50           -1.2332      0.108    -11.402      0.000      -1.445      -1.021\n",
            "x51           -1.4507      0.104    -13.984      0.000      -1.654      -1.247\n",
            "x52            1.3914      0.119     11.725      0.000       1.159       1.624\n",
            "x53           -0.4725     44.067     -0.011      0.991     -86.843      85.898\n",
            "x54           -5.6804    363.235     -0.016      0.988    -717.608     706.247\n",
            "x55           -2.6901    187.536     -0.014      0.989    -370.255     364.875\n",
            "x56           -4.4296    313.479     -0.014      0.989    -618.837     609.978\n",
            "x57           -2.2936    134.985     -0.017      0.986    -266.859     262.271\n",
            "x58            0.1464      0.151      0.970      0.332      -0.150       0.442\n",
            "x59            0.0065      0.058      0.112      0.911      -0.108       0.121\n",
            "x60            0.0255      0.055      0.461      0.645      -0.083       0.134\n",
            "x61           -0.0095      0.057     -0.166      0.868      -0.121       0.102\n",
            "x62           -0.0288      0.060     -0.478      0.633      -0.147       0.089\n",
            "x63            0.0805      0.051      1.578      0.115      -0.020       0.180\n",
            "x64           -0.0309      0.080     -0.387      0.699      -0.188       0.126\n",
            "x65            0.6225      0.318      1.958      0.050      -0.001       1.245\n",
            "x66            0.1862      0.312      0.597      0.550      -0.425       0.797\n",
            "x67            0.0872      0.111      0.785      0.432      -0.130       0.305\n",
            "x68            0.3295      0.109      3.016      0.003       0.115       0.544\n",
            "x69            0.2479      0.142      1.746      0.081      -0.030       0.526\n",
            "x70            1.0985      0.288      3.817      0.000       0.534       1.663\n",
            "==============================================================================\n"
          ]
        },
        {
          "output_type": "stream",
          "name": "stderr",
          "text": [
            "/usr/local/lib/python3.8/dist-packages/statsmodels/base/model.py:566: ConvergenceWarning: Maximum Likelihood optimization failed to converge. Check mle_retvals\n",
            "  warnings.warn(\"Maximum Likelihood optimization failed to \"\n"
          ]
        }
      ],
      "source": [
        "import statsmodels.api as sm\n",
        "x1 = sm.add_constant(x_train)\n",
        "logit_model=sm.Logit(y_train,x1)\n",
        "result=logit_model.fit()\n",
        "print(result.summary())"
      ]
    },
    {
      "cell_type": "code",
      "source": [],
      "metadata": {
        "id": "p497XxJK0L55"
      },
      "execution_count": null,
      "outputs": []
    }
  ],
  "metadata": {
    "colab": {
      "provenance": []
    },
    "kernelspec": {
      "display_name": "Python 3",
      "name": "python3"
    },
    "language_info": {
      "name": "python"
    }
  },
  "nbformat": 4,
  "nbformat_minor": 0
}